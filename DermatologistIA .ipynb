{
 "cells": [
  {
   "cell_type": "markdown",
   "metadata": {},
   "source": [
    "# DL FOR SKIN CANCER DETECTION"
   ]
  },
  {
   "cell_type": "markdown",
   "metadata": {},
   "source": [
    "# in this notebook i will try to use all my knowledge to create this application"
   ]
  },
  {
   "cell_type": "markdown",
   "metadata": {},
   "source": [
    "# IMPORT DATASET\n"
   ]
  },
  {
   "cell_type": "code",
   "execution_count": 1,
   "metadata": {},
   "outputs": [
    {
     "name": "stderr",
     "output_type": "stream",
     "text": [
      "Using TensorFlow backend.\n"
     ]
    },
    {
     "name": "stdout",
     "output_type": "stream",
     "text": [
      "There are 3 total skin cancer categories.\n",
      "There are 2750 total skin cancer images.\n",
      "\n",
      "There are 2000 training skin cancer images.\n",
      "There are 150 validation skin cancer images.\n",
      "There are 600 test skin cancer images.\n"
     ]
    }
   ],
   "source": [
    "from sklearn.datasets import load_files       \n",
    "from keras.utils import np_utils\n",
    "import numpy as np\n",
    "from glob import glob\n",
    "\n",
    "# define function to load train, test, and validation datasets\n",
    "def load_dataset(path):\n",
    "    data = load_files(path)\n",
    "    cancer_files = np.array(data['filenames'])\n",
    "    cancer_targets = np_utils.to_categorical(np.array(data['target']), 3)\n",
    "    return cancer_files, cancer_targets\n",
    "\n",
    "# load train, test, and validation datasets\n",
    "train_files, train_targets = load_dataset('data/train')\n",
    "valid_files, valid_targets = load_dataset('data/valid')\n",
    "test_files, test_targets = load_dataset('data/test')\n",
    "\n",
    "# load list of skin problem names\n",
    "cancer_names = [item[20:-1] for item in sorted(glob(\"data/train/*/\"))]\n",
    "\n",
    "# print statistics about the dataset\n",
    "print('There are %d total skin cancer categories.' % len(cancer_names))\n",
    "print('There are %s total skin cancer images.\\n' % len(np.hstack([train_files, valid_files, test_files])))\n",
    "print('There are %d training skin cancer images.' % len(train_files))\n",
    "print('There are %d validation skin cancer images.' % len(valid_files))\n",
    "print('There are %d test skin cancer images.'% len(test_files))"
   ]
  },
  {
   "cell_type": "markdown",
   "metadata": {},
   "source": [
    "# Re-scale de image"
   ]
  },
  {
   "cell_type": "code",
   "execution_count": 2,
   "metadata": {},
   "outputs": [],
   "source": [
    "from keras.preprocessing import image                  \n",
    "from tqdm import tqdm\n",
    "\n",
    "def path_to_tensor(img_path):\n",
    "    # loads RGB image as PIL.Image.Image type\n",
    "    img = image.load_img(img_path, target_size=(224, 224))\n",
    "    # convert PIL.Image.Image type to 3D tensor with shape (224, 224, 3)\n",
    "    x = image.img_to_array(img)\n",
    "    # convert 3D tensor to 4D tensor with shape (1, 224, 224, 3) and return 4D tensor\n",
    "    return np.expand_dims(x, axis=0)\n",
    "\n",
    "def paths_to_tensor(img_paths):\n",
    "    list_of_tensors = [path_to_tensor(img_path) for img_path in tqdm(img_paths)]\n",
    "    return np.vstack(list_of_tensors)"
   ]
  },
  {
   "cell_type": "code",
   "execution_count": 3,
   "metadata": {},
   "outputs": [
    {
     "name": "stderr",
     "output_type": "stream",
     "text": [
      "100%|██████████████████████████████████████████████████████████████████████████████| 2000/2000 [06:46<00:00,  4.92it/s]\n",
      "100%|████████████████████████████████████████████████████████████████████████████████| 150/150 [00:52<00:00,  3.23it/s]\n",
      "100%|████████████████████████████████████████████████████████████████████████████████| 600/600 [05:40<00:00,  1.62it/s]\n"
     ]
    }
   ],
   "source": [
    "from PIL import ImageFile                            \n",
    "ImageFile.LOAD_TRUNCATED_IMAGES = True                 \n",
    "\n",
    "# pre-process the data for Keras\n",
    "train_tensors = paths_to_tensor(train_files).astype('float32')/255\n",
    "valid_tensors = paths_to_tensor(valid_files).astype('float32')/255\n",
    "test_tensors = paths_to_tensor(test_files).astype('float32')/255"
   ]
  },
  {
   "cell_type": "markdown",
   "metadata": {},
   "source": [
    "# Data augmentation"
   ]
  },
  {
   "cell_type": "code",
   "execution_count": 4,
   "metadata": {},
   "outputs": [],
   "source": [
    "from keras.preprocessing.image import ImageDataGenerator\n",
    "\n",
    "#create and configure augmented image generator\n",
    "datagen_train = ImageDataGenerator(\n",
    "    width_shift_range=0.1,  # randomly shift images horizontally (10% of total width)\n",
    "    height_shift_range=0.1, # randomly shift images vertically (10% of total height)\n",
    "    rotation_range=5, # randomly rotate images in the range (degrees, 0 to 180)\n",
    "    horizontal_flip=False) # randomly flip images horizontally\n",
    "\n",
    "# fit augmented image generator on data\n",
    "datagen_train.fit(train_tensors)"
   ]
  },
  {
   "cell_type": "markdown",
   "metadata": {},
   "source": [
    "# Model Architecture"
   ]
  },
  {
   "cell_type": "code",
   "execution_count": 5,
   "metadata": {},
   "outputs": [
    {
     "name": "stdout",
     "output_type": "stream",
     "text": [
      "WARNING:tensorflow:From C:\\Users\\HENZELALMEIDADOSSANT\\Anaconda3\\envs\\TF\\lib\\site-packages\\keras\\backend\\tensorflow_backend.py:1062: calling reduce_prod (from tensorflow.python.ops.math_ops) with keep_dims is deprecated and will be removed in a future version.\n",
      "Instructions for updating:\n",
      "keep_dims is deprecated, use keepdims instead\n",
      "_________________________________________________________________\n",
      "Layer (type)                 Output Shape              Param #   \n",
      "=================================================================\n",
      "conv2d_1 (Conv2D)            (None, 224, 224, 16)      208       \n",
      "_________________________________________________________________\n",
      "max_pooling2d_1 (MaxPooling2 (None, 112, 112, 16)      0         \n",
      "_________________________________________________________________\n",
      "conv2d_2 (Conv2D)            (None, 112, 112, 32)      2080      \n",
      "_________________________________________________________________\n",
      "max_pooling2d_2 (MaxPooling2 (None, 56, 56, 32)        0         \n",
      "_________________________________________________________________\n",
      "conv2d_3 (Conv2D)            (None, 56, 56, 64)        8256      \n",
      "_________________________________________________________________\n",
      "max_pooling2d_3 (MaxPooling2 (None, 11, 11, 64)        0         \n",
      "_________________________________________________________________\n",
      "conv2d_4 (Conv2D)            (None, 11, 11, 128)       32896     \n",
      "_________________________________________________________________\n",
      "max_pooling2d_4 (MaxPooling2 (None, 2, 2, 128)         0         \n",
      "_________________________________________________________________\n",
      "conv2d_5 (Conv2D)            (None, 2, 2, 256)         131328    \n",
      "_________________________________________________________________\n",
      "max_pooling2d_5 (MaxPooling2 (None, 1, 1, 256)         0         \n",
      "_________________________________________________________________\n",
      "dropout_1 (Dropout)          (None, 1, 1, 256)         0         \n",
      "_________________________________________________________________\n",
      "flatten_1 (Flatten)          (None, 256)               0         \n",
      "_________________________________________________________________\n",
      "dense_1 (Dense)              (None, 500)               128500    \n",
      "_________________________________________________________________\n",
      "dropout_2 (Dropout)          (None, 500)               0         \n",
      "_________________________________________________________________\n",
      "dense_2 (Dense)              (None, 3)                 1503      \n",
      "=================================================================\n",
      "Total params: 304,771.0\n",
      "Trainable params: 304,771.0\n",
      "Non-trainable params: 0.0\n",
      "_________________________________________________________________\n"
     ]
    }
   ],
   "source": [
    "from keras.layers import Conv2D, MaxPooling2D, GlobalAveragePooling2D\n",
    "from keras.layers import Dropout, Flatten, Dense\n",
    "from keras.models import Sequential\n",
    "\n",
    "model = Sequential()\n",
    "model.add(Conv2D(filters=16, kernel_size=2, padding = 'same',activation='relu',input_shape=(224,224,3)))\n",
    "model.add(MaxPooling2D(pool_size=2, strides=2))\n",
    "model.add(Conv2D(filters=32, kernel_size=2, padding ='same',activation='relu')) \n",
    "model.add(MaxPooling2D(pool_size=2, strides=2))\n",
    "model.add(Conv2D(filters=64, kernel_size=2, padding='same',activation='relu'))\n",
    "model.add(MaxPooling2D(pool_size=5, strides=5))\n",
    "model.add(Conv2D(filters=128, kernel_size=2, padding='same',activation='relu'))\n",
    "model.add(MaxPooling2D(pool_size=5, strides=5))\n",
    "model.add(Conv2D(filters=256, kernel_size=2, padding = 'same',activation='relu'))\n",
    "model.add(MaxPooling2D(pool_size=2, strides=2))\n",
    "model.add(Dropout(0.33))\n",
    "model.add(Flatten())\n",
    "model.add(Dense(500, activation='relu'))\n",
    "model.add(Dropout(0.33))\n",
    "model.add(Dense(3,activation='softmax'))\n",
    "model.summary()"
   ]
  },
  {
   "cell_type": "markdown",
   "metadata": {},
   "source": [
    "# compile de model"
   ]
  },
  {
   "cell_type": "code",
   "execution_count": 6,
   "metadata": {},
   "outputs": [
    {
     "name": "stdout",
     "output_type": "stream",
     "text": [
      "WARNING:tensorflow:From C:\\Users\\HENZELALMEIDADOSSANT\\Anaconda3\\envs\\TF\\lib\\site-packages\\keras\\backend\\tensorflow_backend.py:2548: calling reduce_sum (from tensorflow.python.ops.math_ops) with keep_dims is deprecated and will be removed in a future version.\n",
      "Instructions for updating:\n",
      "keep_dims is deprecated, use keepdims instead\n",
      "WARNING:tensorflow:From C:\\Users\\HENZELALMEIDADOSSANT\\Anaconda3\\envs\\TF\\lib\\site-packages\\keras\\backend\\tensorflow_backend.py:1123: calling reduce_mean (from tensorflow.python.ops.math_ops) with keep_dims is deprecated and will be removed in a future version.\n",
      "Instructions for updating:\n",
      "keep_dims is deprecated, use keepdims instead\n"
     ]
    }
   ],
   "source": [
    "model.compile(optimizer='rmsprop', loss='categorical_crossentropy', metrics=['accuracy'])"
   ]
  },
  {
   "cell_type": "code",
   "execution_count": 7,
   "metadata": {},
   "outputs": [
    {
     "name": "stdout",
     "output_type": "stream",
     "text": [
      "Train on 2000 samples, validate on 150 samples\n",
      "Epoch 1/30\n",
      "1980/2000 [============================>.] - ETA: 1119s - loss: 1.0864 - acc: 0.60 - ETA: 558s - loss: 0.9708 - acc: 0.6500 - ETA: 370s - loss: 0.9821 - acc: 0.683 - ETA: 276s - loss: 0.9935 - acc: 0.650 - ETA: 220s - loss: 0.9632 - acc: 0.660 - ETA: 183s - loss: 0.9274 - acc: 0.675 - ETA: 156s - loss: 0.9946 - acc: 0.642 - ETA: 135s - loss: 0.9771 - acc: 0.668 - ETA: 120s - loss: 0.9884 - acc: 0.650 - ETA: 107s - loss: 0.9762 - acc: 0.655 - ETA: 97s - loss: 0.9673 - acc: 0.654 - ETA: 88s - loss: 0.9666 - acc: 0.65 - ETA: 81s - loss: 0.9553 - acc: 0.65 - ETA: 75s - loss: 0.9483 - acc: 0.66 - ETA: 69s - loss: 0.9384 - acc: 0.66 - ETA: 64s - loss: 0.9190 - acc: 0.67 - ETA: 60s - loss: 0.9229 - acc: 0.67 - ETA: 57s - loss: 0.9126 - acc: 0.68 - ETA: 53s - loss: 0.9116 - acc: 0.68 - ETA: 50s - loss: 0.8959 - acc: 0.69 - ETA: 47s - loss: 0.8788 - acc: 0.69 - ETA: 45s - loss: 0.8775 - acc: 0.69 - ETA: 43s - loss: 0.8715 - acc: 0.69 - ETA: 40s - loss: 0.8757 - acc: 0.69 - ETA: 38s - loss: 0.8787 - acc: 0.68 - ETA: 37s - loss: 0.8813 - acc: 0.68 - ETA: 35s - loss: 0.8800 - acc: 0.68 - ETA: 33s - loss: 0.8823 - acc: 0.68 - ETA: 32s - loss: 0.8781 - acc: 0.68 - ETA: 31s - loss: 0.8837 - acc: 0.68 - ETA: 29s - loss: 0.8871 - acc: 0.67 - ETA: 28s - loss: 0.8836 - acc: 0.68 - ETA: 27s - loss: 0.8829 - acc: 0.68 - ETA: 26s - loss: 0.8773 - acc: 0.68 - ETA: 25s - loss: 0.8803 - acc: 0.68 - ETA: 24s - loss: 0.8863 - acc: 0.67 - ETA: 23s - loss: 0.8877 - acc: 0.67 - ETA: 22s - loss: 0.8912 - acc: 0.67 - ETA: 21s - loss: 0.8903 - acc: 0.67 - ETA: 21s - loss: 0.8925 - acc: 0.67 - ETA: 20s - loss: 0.8907 - acc: 0.67 - ETA: 19s - loss: 0.8966 - acc: 0.66 - ETA: 18s - loss: 0.8964 - acc: 0.66 - ETA: 18s - loss: 0.8920 - acc: 0.67 - ETA: 17s - loss: 0.8902 - acc: 0.67 - ETA: 16s - loss: 0.8886 - acc: 0.67 - ETA: 16s - loss: 0.8868 - acc: 0.67 - ETA: 15s - loss: 0.8836 - acc: 0.67 - ETA: 15s - loss: 0.8894 - acc: 0.67 - ETA: 14s - loss: 0.8903 - acc: 0.67 - ETA: 14s - loss: 0.8883 - acc: 0.67 - ETA: 13s - loss: 0.8824 - acc: 0.67 - ETA: 13s - loss: 0.8838 - acc: 0.67 - ETA: 12s - loss: 0.8837 - acc: 0.67 - ETA: 12s - loss: 0.8789 - acc: 0.68 - ETA: 11s - loss: 0.8756 - acc: 0.68 - ETA: 11s - loss: 0.8784 - acc: 0.68 - ETA: 11s - loss: 0.8799 - acc: 0.67 - ETA: 10s - loss: 0.8776 - acc: 0.68 - ETA: 10s - loss: 0.8793 - acc: 0.67 - ETA: 9s - loss: 0.8779 - acc: 0.6795 - ETA: 9s - loss: 0.8771 - acc: 0.679 - ETA: 9s - loss: 0.8793 - acc: 0.677 - ETA: 8s - loss: 0.8799 - acc: 0.677 - ETA: 8s - loss: 0.8789 - acc: 0.678 - ETA: 8s - loss: 0.8799 - acc: 0.678 - ETA: 7s - loss: 0.8768 - acc: 0.680 - ETA: 7s - loss: 0.8715 - acc: 0.682 - ETA: 7s - loss: 0.8717 - acc: 0.682 - ETA: 6s - loss: 0.8740 - acc: 0.680 - ETA: 6s - loss: 0.8739 - acc: 0.679 - ETA: 6s - loss: 0.8733 - acc: 0.679 - ETA: 6s - loss: 0.8759 - acc: 0.676 - ETA: 5s - loss: 0.8773 - acc: 0.675 - ETA: 5s - loss: 0.8791 - acc: 0.673 - ETA: 5s - loss: 0.8765 - acc: 0.675 - ETA: 4s - loss: 0.8784 - acc: 0.674 - ETA: 4s - loss: 0.8768 - acc: 0.675 - ETA: 4s - loss: 0.8736 - acc: 0.676 - ETA: 4s - loss: 0.8718 - acc: 0.677 - ETA: 3s - loss: 0.8676 - acc: 0.680 - ETA: 3s - loss: 0.8676 - acc: 0.681 - ETA: 3s - loss: 0.8688 - acc: 0.680 - ETA: 3s - loss: 0.8676 - acc: 0.680 - ETA: 3s - loss: 0.8678 - acc: 0.680 - ETA: 2s - loss: 0.8644 - acc: 0.682 - ETA: 2s - loss: 0.8643 - acc: 0.682 - ETA: 2s - loss: 0.8640 - acc: 0.683 - ETA: 2s - loss: 0.8645 - acc: 0.682 - ETA: 1s - loss: 0.8647 - acc: 0.682 - ETA: 1s - loss: 0.8631 - acc: 0.683 - ETA: 1s - loss: 0.8643 - acc: 0.682 - ETA: 1s - loss: 0.8622 - acc: 0.683 - ETA: 1s - loss: 0.8613 - acc: 0.683 - ETA: 0s - loss: 0.8601 - acc: 0.683 - ETA: 0s - loss: 0.8624 - acc: 0.682 - ETA: 0s - loss: 0.8615 - acc: 0.683 - ETA: 0s - loss: 0.8585 - acc: 0.684 - ETA: 0s - loss: 0.8583 - acc: 0.6838Epoch 00000: val_loss improved from inf to 1.03902, saving model to saved_models/weights.best.Resnet50.hdf5\n",
      "2000/2000 [==============================] - 18s - loss: 0.8578 - acc: 0.6845 - val_loss: 1.0390 - val_acc: 0.5200\n",
      "Epoch 2/30\n",
      "1980/2000 [============================>.] - ETA: 6s - loss: 0.9242 - acc: 0.600 - ETA: 6s - loss: 0.8453 - acc: 0.650 - ETA: 6s - loss: 0.8314 - acc: 0.666 - ETA: 6s - loss: 0.8072 - acc: 0.675 - ETA: 6s - loss: 0.7818 - acc: 0.690 - ETA: 6s - loss: 0.7921 - acc: 0.683 - ETA: 6s - loss: 0.7949 - acc: 0.671 - ETA: 6s - loss: 0.7809 - acc: 0.681 - ETA: 6s - loss: 0.8563 - acc: 0.661 - ETA: 6s - loss: 0.8516 - acc: 0.670 - ETA: 6s - loss: 0.8465 - acc: 0.668 - ETA: 6s - loss: 0.8265 - acc: 0.683 - ETA: 6s - loss: 0.8288 - acc: 0.680 - ETA: 6s - loss: 0.8011 - acc: 0.700 - ETA: 6s - loss: 0.8486 - acc: 0.683 - ETA: 6s - loss: 0.8516 - acc: 0.678 - ETA: 6s - loss: 0.8479 - acc: 0.682 - ETA: 6s - loss: 0.8550 - acc: 0.675 - ETA: 5s - loss: 0.8587 - acc: 0.678 - ETA: 5s - loss: 0.8505 - acc: 0.685 - ETA: 5s - loss: 0.8407 - acc: 0.690 - ETA: 5s - loss: 0.8408 - acc: 0.688 - ETA: 5s - loss: 0.8461 - acc: 0.682 - ETA: 5s - loss: 0.8377 - acc: 0.687 - ETA: 5s - loss: 0.8473 - acc: 0.680 - ETA: 5s - loss: 0.8523 - acc: 0.673 - ETA: 5s - loss: 0.8523 - acc: 0.672 - ETA: 5s - loss: 0.8530 - acc: 0.667 - ETA: 5s - loss: 0.8439 - acc: 0.674 - ETA: 5s - loss: 0.8365 - acc: 0.676 - ETA: 4s - loss: 0.8419 - acc: 0.672 - ETA: 4s - loss: 0.8413 - acc: 0.673 - ETA: 4s - loss: 0.8447 - acc: 0.669 - ETA: 4s - loss: 0.8419 - acc: 0.673 - ETA: 4s - loss: 0.8366 - acc: 0.675 - ETA: 4s - loss: 0.8313 - acc: 0.679 - ETA: 4s - loss: 0.8266 - acc: 0.681 - ETA: 4s - loss: 0.8242 - acc: 0.681 - ETA: 4s - loss: 0.8226 - acc: 0.682 - ETA: 4s - loss: 0.8191 - acc: 0.685 - ETA: 4s - loss: 0.8247 - acc: 0.682 - ETA: 4s - loss: 0.8229 - acc: 0.683 - ETA: 4s - loss: 0.8271 - acc: 0.681 - ETA: 4s - loss: 0.8194 - acc: 0.687 - ETA: 3s - loss: 0.8178 - acc: 0.688 - ETA: 3s - loss: 0.8234 - acc: 0.684 - ETA: 3s - loss: 0.8269 - acc: 0.683 - ETA: 3s - loss: 0.8284 - acc: 0.681 - ETA: 3s - loss: 0.8271 - acc: 0.682 - ETA: 3s - loss: 0.8220 - acc: 0.686 - ETA: 3s - loss: 0.8295 - acc: 0.683 - ETA: 3s - loss: 0.8293 - acc: 0.683 - ETA: 3s - loss: 0.8305 - acc: 0.683 - ETA: 3s - loss: 0.8303 - acc: 0.682 - ETA: 3s - loss: 0.8297 - acc: 0.682 - ETA: 3s - loss: 0.8295 - acc: 0.682 - ETA: 3s - loss: 0.8248 - acc: 0.686 - ETA: 3s - loss: 0.8282 - acc: 0.684 - ETA: 2s - loss: 0.8286 - acc: 0.683 - ETA: 2s - loss: 0.8240 - acc: 0.687 - ETA: 2s - loss: 0.8232 - acc: 0.687 - ETA: 2s - loss: 0.8202 - acc: 0.689 - ETA: 2s - loss: 0.8197 - acc: 0.689 - ETA: 2s - loss: 0.8205 - acc: 0.689 - ETA: 2s - loss: 0.8189 - acc: 0.689 - ETA: 2s - loss: 0.8191 - acc: 0.688 - ETA: 2s - loss: 0.8231 - acc: 0.685 - ETA: 2s - loss: 0.8222 - acc: 0.686 - ETA: 2s - loss: 0.8206 - acc: 0.687 - ETA: 2s - loss: 0.8177 - acc: 0.689 - ETA: 2s - loss: 0.8143 - acc: 0.690 - ETA: 2s - loss: 0.8137 - acc: 0.691 - ETA: 1s - loss: 0.8119 - acc: 0.691 - ETA: 1s - loss: 0.8117 - acc: 0.692 - ETA: 1s - loss: 0.8159 - acc: 0.690 - ETA: 1s - loss: 0.8184 - acc: 0.688 - ETA: 1s - loss: 0.8200 - acc: 0.686 - ETA: 1s - loss: 0.8192 - acc: 0.687 - ETA: 1s - loss: 0.8187 - acc: 0.688 - ETA: 1s - loss: 0.8177 - acc: 0.687 - ETA: 1s - loss: 0.8187 - acc: 0.686 - ETA: 1s - loss: 0.8157 - acc: 0.688 - ETA: 1s - loss: 0.8215 - acc: 0.688 - ETA: 1s - loss: 0.8216 - acc: 0.687 - ETA: 1s - loss: 0.8227 - acc: 0.686 - ETA: 1s - loss: 0.8212 - acc: 0.686 - ETA: 0s - loss: 0.8186 - acc: 0.687 - ETA: 0s - loss: 0.8196 - acc: 0.688 - ETA: 0s - loss: 0.8187 - acc: 0.688 - ETA: 0s - loss: 0.8195 - acc: 0.687 - ETA: 0s - loss: 0.8208 - acc: 0.687 - ETA: 0s - loss: 0.8204 - acc: 0.687 - ETA: 0s - loss: 0.8200 - acc: 0.687 - ETA: 0s - loss: 0.8200 - acc: 0.687 - ETA: 0s - loss: 0.8202 - acc: 0.686 - ETA: 0s - loss: 0.8201 - acc: 0.686 - ETA: 0s - loss: 0.8220 - acc: 0.685 - ETA: 0s - loss: 0.8216 - acc: 0.686 - ETA: 0s - loss: 0.8211 - acc: 0.6859Epoch 00001: val_loss improved from 1.03902 to 0.89814, saving model to saved_models/weights.best.Resnet50.hdf5\n",
      "2000/2000 [==============================] - 7s - loss: 0.8216 - acc: 0.6860 - val_loss: 0.8981 - val_acc: 0.5200\n",
      "Epoch 3/30\n",
      "1980/2000 [============================>.] - ETA: 6s - loss: 0.7410 - acc: 0.700 - ETA: 6s - loss: 0.7462 - acc: 0.700 - ETA: 6s - loss: 0.7219 - acc: 0.716 - ETA: 6s - loss: 0.7250 - acc: 0.725 - ETA: 6s - loss: 0.7200 - acc: 0.730 - ETA: 6s - loss: 0.7700 - acc: 0.700 - ETA: 6s - loss: 0.7504 - acc: 0.721 - ETA: 6s - loss: 0.7860 - acc: 0.706 - ETA: 6s - loss: 0.7961 - acc: 0.700 - ETA: 6s - loss: 0.8029 - acc: 0.690 - ETA: 6s - loss: 0.8078 - acc: 0.681 - ETA: 6s - loss: 0.7964 - acc: 0.687 - ETA: 6s - loss: 0.7947 - acc: 0.688 - ETA: 5s - loss: 0.7857 - acc: 0.692 - ETA: 5s - loss: 0.7898 - acc: 0.693 - ETA: 5s - loss: 0.7824 - acc: 0.693 - ETA: 5s - loss: 0.7824 - acc: 0.691 - ETA: 5s - loss: 0.7779 - acc: 0.697 - ETA: 5s - loss: 0.7787 - acc: 0.694 - ETA: 5s - loss: 0.7648 - acc: 0.707 - ETA: 5s - loss: 0.7787 - acc: 0.702 - ETA: 5s - loss: 0.7760 - acc: 0.704 - ETA: 5s - loss: 0.7736 - acc: 0.704 - ETA: 5s - loss: 0.7795 - acc: 0.700 - ETA: 5s - loss: 0.7952 - acc: 0.690 - ETA: 5s - loss: 0.7980 - acc: 0.688 - ETA: 5s - loss: 0.7973 - acc: 0.690 - ETA: 5s - loss: 0.7949 - acc: 0.689 - ETA: 4s - loss: 0.7969 - acc: 0.687 - ETA: 4s - loss: 0.8008 - acc: 0.685 - ETA: 4s - loss: 0.7975 - acc: 0.690 - ETA: 4s - loss: 0.7929 - acc: 0.693 - ETA: 4s - loss: 0.7909 - acc: 0.693 - ETA: 4s - loss: 0.7922 - acc: 0.691 - ETA: 4s - loss: 0.7873 - acc: 0.694 - ETA: 4s - loss: 0.7853 - acc: 0.695 - ETA: 4s - loss: 0.7892 - acc: 0.691 - ETA: 4s - loss: 0.7833 - acc: 0.694 - ETA: 4s - loss: 0.7960 - acc: 0.689 - ETA: 4s - loss: 0.7978 - acc: 0.687 - ETA: 4s - loss: 0.7978 - acc: 0.689 - ETA: 3s - loss: 0.7973 - acc: 0.689 - ETA: 3s - loss: 0.7968 - acc: 0.688 - ETA: 3s - loss: 0.7926 - acc: 0.690 - ETA: 3s - loss: 0.7904 - acc: 0.692 - ETA: 3s - loss: 0.7880 - acc: 0.692 - ETA: 3s - loss: 0.7813 - acc: 0.695 - ETA: 3s - loss: 0.7840 - acc: 0.694 - ETA: 3s - loss: 0.7848 - acc: 0.694 - ETA: 3s - loss: 0.7855 - acc: 0.694 - ETA: 3s - loss: 0.7866 - acc: 0.693 - ETA: 3s - loss: 0.7869 - acc: 0.693 - ETA: 3s - loss: 0.7879 - acc: 0.691 - ETA: 3s - loss: 0.7896 - acc: 0.688 - ETA: 3s - loss: 0.7921 - acc: 0.688 - ETA: 3s - loss: 0.7898 - acc: 0.690 - ETA: 2s - loss: 0.7883 - acc: 0.691 - ETA: 2s - loss: 0.7924 - acc: 0.687 - ETA: 2s - loss: 0.7950 - acc: 0.685 - ETA: 2s - loss: 0.7985 - acc: 0.682 - ETA: 2s - loss: 0.7982 - acc: 0.682 - ETA: 2s - loss: 0.7979 - acc: 0.683 - ETA: 2s - loss: 0.7985 - acc: 0.683 - ETA: 2s - loss: 0.7957 - acc: 0.685 - ETA: 2s - loss: 0.7982 - acc: 0.686 - ETA: 2s - loss: 0.7973 - acc: 0.685 - ETA: 2s - loss: 0.7966 - acc: 0.685 - ETA: 2s - loss: 0.7942 - acc: 0.686 - ETA: 2s - loss: 0.7919 - acc: 0.688 - ETA: 2s - loss: 0.7959 - acc: 0.685 - ETA: 1s - loss: 0.7966 - acc: 0.685 - ETA: 1s - loss: 0.7979 - acc: 0.684 - ETA: 1s - loss: 0.7976 - acc: 0.683 - ETA: 1s - loss: 0.7962 - acc: 0.683 - ETA: 1s - loss: 0.7914 - acc: 0.686 - ETA: 1s - loss: 0.7935 - acc: 0.685 - ETA: 1s - loss: 0.7899 - acc: 0.687 - ETA: 1s - loss: 0.7893 - acc: 0.687 - ETA: 1s - loss: 0.7859 - acc: 0.688 - ETA: 1s - loss: 0.7894 - acc: 0.686 - ETA: 1s - loss: 0.7909 - acc: 0.686 - ETA: 1s - loss: 0.7899 - acc: 0.687 - ETA: 1s - loss: 0.7885 - acc: 0.687 - ETA: 1s - loss: 0.7876 - acc: 0.686 - ETA: 1s - loss: 0.7849 - acc: 0.688 - ETA: 0s - loss: 0.7871 - acc: 0.687 - ETA: 0s - loss: 0.7851 - acc: 0.689 - ETA: 0s - loss: 0.7843 - acc: 0.689 - ETA: 0s - loss: 0.7831 - acc: 0.689 - ETA: 0s - loss: 0.7869 - acc: 0.686 - ETA: 0s - loss: 0.7863 - acc: 0.687 - ETA: 0s - loss: 0.7893 - acc: 0.684 - ETA: 0s - loss: 0.7889 - acc: 0.685 - ETA: 0s - loss: 0.7874 - acc: 0.686 - ETA: 0s - loss: 0.7900 - acc: 0.685 - ETA: 0s - loss: 0.7883 - acc: 0.688 - ETA: 0s - loss: 0.7880 - acc: 0.688 - ETA: 0s - loss: 0.7860 - acc: 0.689 - ETA: 0s - loss: 0.7887 - acc: 0.6879Epoch 00002: val_loss improved from 0.89814 to 0.86210, saving model to saved_models/weights.best.Resnet50.hdf5\n",
      "2000/2000 [==============================] - 7s - loss: 0.7916 - acc: 0.6860 - val_loss: 0.8621 - val_acc: 0.5200\n",
      "Epoch 4/30\n",
      "1980/2000 [============================>.] - ETA: 6s - loss: 0.7371 - acc: 0.700 - ETA: 6s - loss: 0.6148 - acc: 0.800 - ETA: 6s - loss: 0.6295 - acc: 0.816 - ETA: 6s - loss: 0.6328 - acc: 0.800 - ETA: 6s - loss: 0.6786 - acc: 0.760 - ETA: 6s - loss: 0.7016 - acc: 0.733 - ETA: 6s - loss: 0.7095 - acc: 0.721 - ETA: 6s - loss: 0.7000 - acc: 0.737 - ETA: 6s - loss: 0.6888 - acc: 0.738 - ETA: 6s - loss: 0.7202 - acc: 0.725 - ETA: 6s - loss: 0.7354 - acc: 0.718 - ETA: 5s - loss: 0.7590 - acc: 0.695 - ETA: 5s - loss: 0.7719 - acc: 0.692 - ETA: 5s - loss: 0.7619 - acc: 0.700 - ETA: 5s - loss: 0.7568 - acc: 0.700 - ETA: 5s - loss: 0.7536 - acc: 0.703 - ETA: 5s - loss: 0.7466 - acc: 0.705 - ETA: 5s - loss: 0.7318 - acc: 0.713 - ETA: 5s - loss: 0.7409 - acc: 0.710 - ETA: 5s - loss: 0.7394 - acc: 0.710 - ETA: 5s - loss: 0.7427 - acc: 0.704 - ETA: 5s - loss: 0.7418 - acc: 0.702 - ETA: 5s - loss: 0.7403 - acc: 0.704 - ETA: 5s - loss: 0.7350 - acc: 0.708 - ETA: 5s - loss: 0.7399 - acc: 0.706 - ETA: 5s - loss: 0.7283 - acc: 0.715 - ETA: 4s - loss: 0.7241 - acc: 0.718 - ETA: 4s - loss: 0.7218 - acc: 0.717 - ETA: 4s - loss: 0.7206 - acc: 0.717 - ETA: 4s - loss: 0.7227 - acc: 0.713 - ETA: 4s - loss: 0.7284 - acc: 0.712 - ETA: 4s - loss: 0.7296 - acc: 0.712 - ETA: 4s - loss: 0.7245 - acc: 0.715 - ETA: 4s - loss: 0.7322 - acc: 0.711 - ETA: 4s - loss: 0.7382 - acc: 0.708 - ETA: 4s - loss: 0.7397 - acc: 0.705 - ETA: 4s - loss: 0.7427 - acc: 0.701 - ETA: 4s - loss: 0.7578 - acc: 0.698 - ETA: 4s - loss: 0.7562 - acc: 0.698 - ETA: 4s - loss: 0.7593 - acc: 0.698 - ETA: 3s - loss: 0.7571 - acc: 0.701 - ETA: 3s - loss: 0.7570 - acc: 0.700 - ETA: 3s - loss: 0.7504 - acc: 0.703 - ETA: 3s - loss: 0.7563 - acc: 0.701 - ETA: 3s - loss: 0.7569 - acc: 0.702 - ETA: 3s - loss: 0.7552 - acc: 0.702 - ETA: 3s - loss: 0.7518 - acc: 0.704 - ETA: 3s - loss: 0.7562 - acc: 0.700 - ETA: 3s - loss: 0.7542 - acc: 0.702 - ETA: 3s - loss: 0.7553 - acc: 0.701 - ETA: 3s - loss: 0.7571 - acc: 0.701 - ETA: 3s - loss: 0.7613 - acc: 0.697 - ETA: 3s - loss: 0.7575 - acc: 0.700 - ETA: 3s - loss: 0.7596 - acc: 0.697 - ETA: 3s - loss: 0.7626 - acc: 0.694 - ETA: 2s - loss: 0.7617 - acc: 0.695 - ETA: 2s - loss: 0.7601 - acc: 0.696 - ETA: 2s - loss: 0.7609 - acc: 0.697 - ETA: 2s - loss: 0.7626 - acc: 0.694 - ETA: 2s - loss: 0.7635 - acc: 0.694 - ETA: 2s - loss: 0.7620 - acc: 0.693 - ETA: 2s - loss: 0.7610 - acc: 0.694 - ETA: 2s - loss: 0.7634 - acc: 0.692 - ETA: 2s - loss: 0.7671 - acc: 0.689 - ETA: 2s - loss: 0.7667 - acc: 0.688 - ETA: 2s - loss: 0.7689 - acc: 0.687 - ETA: 2s - loss: 0.7661 - acc: 0.689 - ETA: 2s - loss: 0.7666 - acc: 0.689 - ETA: 2s - loss: 0.7669 - acc: 0.687 - ETA: 2s - loss: 0.7718 - acc: 0.687 - ETA: 1s - loss: 0.7717 - acc: 0.688 - ETA: 1s - loss: 0.7701 - acc: 0.688 - ETA: 1s - loss: 0.7672 - acc: 0.690 - ETA: 1s - loss: 0.7701 - acc: 0.687 - ETA: 1s - loss: 0.7676 - acc: 0.690 - ETA: 1s - loss: 0.7697 - acc: 0.689 - ETA: 1s - loss: 0.7674 - acc: 0.691 - ETA: 1s - loss: 0.7653 - acc: 0.692 - ETA: 1s - loss: 0.7668 - acc: 0.691 - ETA: 1s - loss: 0.7663 - acc: 0.692 - ETA: 1s - loss: 0.7652 - acc: 0.693 - ETA: 1s - loss: 0.7675 - acc: 0.692 - ETA: 1s - loss: 0.7653 - acc: 0.693 - ETA: 1s - loss: 0.7677 - acc: 0.692 - ETA: 1s - loss: 0.7658 - acc: 0.692 - ETA: 0s - loss: 0.7656 - acc: 0.692 - ETA: 0s - loss: 0.7645 - acc: 0.692 - ETA: 0s - loss: 0.7624 - acc: 0.693 - ETA: 0s - loss: 0.7690 - acc: 0.689 - ETA: 0s - loss: 0.7698 - acc: 0.689 - ETA: 0s - loss: 0.7693 - acc: 0.690 - ETA: 0s - loss: 0.7698 - acc: 0.689 - ETA: 0s - loss: 0.7685 - acc: 0.689 - ETA: 0s - loss: 0.7663 - acc: 0.691 - ETA: 0s - loss: 0.7693 - acc: 0.688 - ETA: 0s - loss: 0.7698 - acc: 0.689 - ETA: 0s - loss: 0.7692 - acc: 0.689 - ETA: 0s - loss: 0.7683 - acc: 0.689 - ETA: 0s - loss: 0.7721 - acc: 0.6859Epoch 00003: val_loss improved from 0.86210 to 0.83432, saving model to saved_models/weights.best.Resnet50.hdf5\n",
      "2000/2000 [==============================] - 7s - loss: 0.7711 - acc: 0.6870 - val_loss: 0.8343 - val_acc: 0.5200\n",
      "Epoch 5/30\n"
     ]
    },
    {
     "name": "stdout",
     "output_type": "stream",
     "text": [
      "1980/2000 [============================>.] - ETA: 6s - loss: 0.6355 - acc: 0.700 - ETA: 6s - loss: 0.6705 - acc: 0.750 - ETA: 6s - loss: 0.6708 - acc: 0.716 - ETA: 6s - loss: 0.6942 - acc: 0.700 - ETA: 6s - loss: 0.7135 - acc: 0.680 - ETA: 6s - loss: 0.7097 - acc: 0.691 - ETA: 6s - loss: 0.7269 - acc: 0.692 - ETA: 6s - loss: 0.7433 - acc: 0.681 - ETA: 6s - loss: 0.7321 - acc: 0.683 - ETA: 5s - loss: 0.7391 - acc: 0.685 - ETA: 5s - loss: 0.7391 - acc: 0.686 - ETA: 5s - loss: 0.7189 - acc: 0.695 - ETA: 5s - loss: 0.7295 - acc: 0.688 - ETA: 5s - loss: 0.7277 - acc: 0.689 - ETA: 5s - loss: 0.7236 - acc: 0.683 - ETA: 5s - loss: 0.7343 - acc: 0.675 - ETA: 5s - loss: 0.7243 - acc: 0.682 - ETA: 5s - loss: 0.7224 - acc: 0.683 - ETA: 5s - loss: 0.7179 - acc: 0.686 - ETA: 5s - loss: 0.7209 - acc: 0.685 - ETA: 5s - loss: 0.7215 - acc: 0.688 - ETA: 5s - loss: 0.7506 - acc: 0.679 - ETA: 5s - loss: 0.7523 - acc: 0.680 - ETA: 5s - loss: 0.7561 - acc: 0.681 - ETA: 5s - loss: 0.7492 - acc: 0.686 - ETA: 4s - loss: 0.7497 - acc: 0.688 - ETA: 4s - loss: 0.7437 - acc: 0.692 - ETA: 4s - loss: 0.7440 - acc: 0.689 - ETA: 4s - loss: 0.7500 - acc: 0.682 - ETA: 4s - loss: 0.7496 - acc: 0.683 - ETA: 4s - loss: 0.7448 - acc: 0.687 - ETA: 4s - loss: 0.7475 - acc: 0.685 - ETA: 4s - loss: 0.7369 - acc: 0.692 - ETA: 4s - loss: 0.7396 - acc: 0.689 - ETA: 4s - loss: 0.7402 - acc: 0.691 - ETA: 4s - loss: 0.7408 - acc: 0.691 - ETA: 4s - loss: 0.7384 - acc: 0.694 - ETA: 4s - loss: 0.7401 - acc: 0.692 - ETA: 4s - loss: 0.7404 - acc: 0.691 - ETA: 4s - loss: 0.7421 - acc: 0.687 - ETA: 3s - loss: 0.7450 - acc: 0.685 - ETA: 3s - loss: 0.7404 - acc: 0.689 - ETA: 3s - loss: 0.7331 - acc: 0.694 - ETA: 3s - loss: 0.7292 - acc: 0.695 - ETA: 3s - loss: 0.7397 - acc: 0.694 - ETA: 3s - loss: 0.7375 - acc: 0.694 - ETA: 3s - loss: 0.7399 - acc: 0.692 - ETA: 3s - loss: 0.7387 - acc: 0.694 - ETA: 3s - loss: 0.7369 - acc: 0.696 - ETA: 3s - loss: 0.7355 - acc: 0.698 - ETA: 3s - loss: 0.7363 - acc: 0.697 - ETA: 3s - loss: 0.7430 - acc: 0.693 - ETA: 3s - loss: 0.7442 - acc: 0.694 - ETA: 3s - loss: 0.7463 - acc: 0.691 - ETA: 3s - loss: 0.7417 - acc: 0.693 - ETA: 2s - loss: 0.7399 - acc: 0.693 - ETA: 2s - loss: 0.7353 - acc: 0.696 - ETA: 2s - loss: 0.7339 - acc: 0.697 - ETA: 2s - loss: 0.7262 - acc: 0.701 - ETA: 2s - loss: 0.7294 - acc: 0.700 - ETA: 2s - loss: 0.7335 - acc: 0.699 - ETA: 2s - loss: 0.7321 - acc: 0.700 - ETA: 2s - loss: 0.7319 - acc: 0.700 - ETA: 2s - loss: 0.7356 - acc: 0.696 - ETA: 2s - loss: 0.7362 - acc: 0.694 - ETA: 2s - loss: 0.7350 - acc: 0.695 - ETA: 2s - loss: 0.7339 - acc: 0.697 - ETA: 2s - loss: 0.7323 - acc: 0.697 - ETA: 2s - loss: 0.7343 - acc: 0.696 - ETA: 2s - loss: 0.7340 - acc: 0.695 - ETA: 1s - loss: 0.7331 - acc: 0.695 - ETA: 1s - loss: 0.7313 - acc: 0.695 - ETA: 1s - loss: 0.7337 - acc: 0.695 - ETA: 1s - loss: 0.7340 - acc: 0.695 - ETA: 1s - loss: 0.7327 - acc: 0.696 - ETA: 1s - loss: 0.7303 - acc: 0.696 - ETA: 1s - loss: 0.7286 - acc: 0.696 - ETA: 1s - loss: 0.7262 - acc: 0.698 - ETA: 1s - loss: 0.7264 - acc: 0.697 - ETA: 1s - loss: 0.7282 - acc: 0.697 - ETA: 1s - loss: 0.7294 - acc: 0.695 - ETA: 1s - loss: 0.7283 - acc: 0.696 - ETA: 1s - loss: 0.7299 - acc: 0.695 - ETA: 1s - loss: 0.7319 - acc: 0.694 - ETA: 1s - loss: 0.7307 - acc: 0.695 - ETA: 0s - loss: 0.7303 - acc: 0.695 - ETA: 0s - loss: 0.7309 - acc: 0.694 - ETA: 0s - loss: 0.7353 - acc: 0.693 - ETA: 0s - loss: 0.7359 - acc: 0.693 - ETA: 0s - loss: 0.7355 - acc: 0.695 - ETA: 0s - loss: 0.7351 - acc: 0.695 - ETA: 0s - loss: 0.7332 - acc: 0.696 - ETA: 0s - loss: 0.7400 - acc: 0.695 - ETA: 0s - loss: 0.7414 - acc: 0.694 - ETA: 0s - loss: 0.7412 - acc: 0.694 - ETA: 0s - loss: 0.7445 - acc: 0.692 - ETA: 0s - loss: 0.7449 - acc: 0.691 - ETA: 0s - loss: 0.7455 - acc: 0.692 - ETA: 0s - loss: 0.7440 - acc: 0.6939Epoch 00004: val_loss did not improve\n",
      "2000/2000 [==============================] - 7s - loss: 0.7423 - acc: 0.6950 - val_loss: 0.9078 - val_acc: 0.5400\n",
      "Epoch 6/30\n",
      "1980/2000 [============================>.] - ETA: 6s - loss: 0.6484 - acc: 0.750 - ETA: 6s - loss: 0.6411 - acc: 0.725 - ETA: 6s - loss: 0.6523 - acc: 0.700 - ETA: 6s - loss: 0.6566 - acc: 0.712 - ETA: 6s - loss: 0.6502 - acc: 0.730 - ETA: 6s - loss: 0.6632 - acc: 0.716 - ETA: 6s - loss: 0.6766 - acc: 0.707 - ETA: 6s - loss: 0.6862 - acc: 0.712 - ETA: 6s - loss: 0.7227 - acc: 0.705 - ETA: 6s - loss: 0.7474 - acc: 0.685 - ETA: 5s - loss: 0.7402 - acc: 0.690 - ETA: 5s - loss: 0.7211 - acc: 0.704 - ETA: 5s - loss: 0.7229 - acc: 0.703 - ETA: 5s - loss: 0.7476 - acc: 0.692 - ETA: 5s - loss: 0.7307 - acc: 0.706 - ETA: 5s - loss: 0.7211 - acc: 0.712 - ETA: 5s - loss: 0.7116 - acc: 0.717 - ETA: 5s - loss: 0.7099 - acc: 0.716 - ETA: 5s - loss: 0.7105 - acc: 0.713 - ETA: 5s - loss: 0.7178 - acc: 0.707 - ETA: 5s - loss: 0.7241 - acc: 0.697 - ETA: 5s - loss: 0.7246 - acc: 0.695 - ETA: 5s - loss: 0.7109 - acc: 0.702 - ETA: 5s - loss: 0.7198 - acc: 0.700 - ETA: 5s - loss: 0.7279 - acc: 0.688 - ETA: 5s - loss: 0.7367 - acc: 0.682 - ETA: 4s - loss: 0.7403 - acc: 0.675 - ETA: 4s - loss: 0.7449 - acc: 0.673 - ETA: 4s - loss: 0.7494 - acc: 0.670 - ETA: 4s - loss: 0.7509 - acc: 0.671 - ETA: 4s - loss: 0.7562 - acc: 0.669 - ETA: 4s - loss: 0.7533 - acc: 0.673 - ETA: 4s - loss: 0.7490 - acc: 0.674 - ETA: 4s - loss: 0.7465 - acc: 0.676 - ETA: 4s - loss: 0.7466 - acc: 0.675 - ETA: 4s - loss: 0.7414 - acc: 0.681 - ETA: 4s - loss: 0.7353 - acc: 0.685 - ETA: 4s - loss: 0.7418 - acc: 0.682 - ETA: 4s - loss: 0.7370 - acc: 0.688 - ETA: 4s - loss: 0.7297 - acc: 0.691 - ETA: 4s - loss: 0.7199 - acc: 0.696 - ETA: 3s - loss: 0.7145 - acc: 0.698 - ETA: 3s - loss: 0.7147 - acc: 0.698 - ETA: 3s - loss: 0.7210 - acc: 0.698 - ETA: 3s - loss: 0.7190 - acc: 0.698 - ETA: 3s - loss: 0.7189 - acc: 0.700 - ETA: 3s - loss: 0.7201 - acc: 0.698 - ETA: 3s - loss: 0.7163 - acc: 0.701 - ETA: 3s - loss: 0.7119 - acc: 0.704 - ETA: 3s - loss: 0.7215 - acc: 0.701 - ETA: 3s - loss: 0.7210 - acc: 0.701 - ETA: 3s - loss: 0.7245 - acc: 0.698 - ETA: 3s - loss: 0.7233 - acc: 0.699 - ETA: 3s - loss: 0.7226 - acc: 0.700 - ETA: 3s - loss: 0.7248 - acc: 0.701 - ETA: 3s - loss: 0.7211 - acc: 0.703 - ETA: 2s - loss: 0.7175 - acc: 0.705 - ETA: 2s - loss: 0.7212 - acc: 0.702 - ETA: 2s - loss: 0.7192 - acc: 0.703 - ETA: 2s - loss: 0.7166 - acc: 0.704 - ETA: 2s - loss: 0.7184 - acc: 0.702 - ETA: 2s - loss: 0.7192 - acc: 0.700 - ETA: 2s - loss: 0.7217 - acc: 0.699 - ETA: 2s - loss: 0.7211 - acc: 0.698 - ETA: 2s - loss: 0.7197 - acc: 0.700 - ETA: 2s - loss: 0.7176 - acc: 0.700 - ETA: 2s - loss: 0.7198 - acc: 0.702 - ETA: 2s - loss: 0.7208 - acc: 0.701 - ETA: 2s - loss: 0.7170 - acc: 0.703 - ETA: 2s - loss: 0.7151 - acc: 0.705 - ETA: 1s - loss: 0.7132 - acc: 0.706 - ETA: 1s - loss: 0.7111 - acc: 0.706 - ETA: 1s - loss: 0.7061 - acc: 0.708 - ETA: 1s - loss: 0.7056 - acc: 0.709 - ETA: 1s - loss: 0.7051 - acc: 0.710 - ETA: 1s - loss: 0.7020 - acc: 0.712 - ETA: 1s - loss: 0.7076 - acc: 0.709 - ETA: 1s - loss: 0.7083 - acc: 0.709 - ETA: 1s - loss: 0.7097 - acc: 0.707 - ETA: 1s - loss: 0.7110 - acc: 0.706 - ETA: 1s - loss: 0.7120 - acc: 0.705 - ETA: 1s - loss: 0.7113 - acc: 0.706 - ETA: 1s - loss: 0.7122 - acc: 0.704 - ETA: 1s - loss: 0.7116 - acc: 0.706 - ETA: 1s - loss: 0.7102 - acc: 0.707 - ETA: 0s - loss: 0.7093 - acc: 0.708 - ETA: 0s - loss: 0.7117 - acc: 0.708 - ETA: 0s - loss: 0.7120 - acc: 0.708 - ETA: 0s - loss: 0.7135 - acc: 0.707 - ETA: 0s - loss: 0.7147 - acc: 0.707 - ETA: 0s - loss: 0.7151 - acc: 0.706 - ETA: 0s - loss: 0.7150 - acc: 0.704 - ETA: 0s - loss: 0.7139 - acc: 0.705 - ETA: 0s - loss: 0.7170 - acc: 0.703 - ETA: 0s - loss: 0.7174 - acc: 0.701 - ETA: 0s - loss: 0.7161 - acc: 0.702 - ETA: 0s - loss: 0.7144 - acc: 0.703 - ETA: 0s - loss: 0.7167 - acc: 0.702 - ETA: 0s - loss: 0.7159 - acc: 0.7020Epoch 00005: val_loss improved from 0.83432 to 0.79017, saving model to saved_models/weights.best.Resnet50.hdf5\n",
      "2000/2000 [==============================] - 7s - loss: 0.7188 - acc: 0.7005 - val_loss: 0.7902 - val_acc: 0.6067\n",
      "Epoch 7/30\n",
      "1980/2000 [============================>.] - ETA: 6s - loss: 0.7964 - acc: 0.750 - ETA: 6s - loss: 0.8186 - acc: 0.650 - ETA: 6s - loss: 0.8542 - acc: 0.600 - ETA: 6s - loss: 0.7828 - acc: 0.650 - ETA: 6s - loss: 0.7565 - acc: 0.650 - ETA: 6s - loss: 0.7212 - acc: 0.675 - ETA: 6s - loss: 0.7036 - acc: 0.678 - ETA: 6s - loss: 0.7056 - acc: 0.681 - ETA: 6s - loss: 0.6958 - acc: 0.677 - ETA: 6s - loss: 0.6979 - acc: 0.665 - ETA: 6s - loss: 0.6817 - acc: 0.677 - ETA: 6s - loss: 0.6923 - acc: 0.679 - ETA: 6s - loss: 0.6858 - acc: 0.688 - ETA: 6s - loss: 0.6833 - acc: 0.692 - ETA: 6s - loss: 0.6888 - acc: 0.686 - ETA: 5s - loss: 0.6743 - acc: 0.696 - ETA: 5s - loss: 0.6605 - acc: 0.702 - ETA: 5s - loss: 0.6606 - acc: 0.702 - ETA: 5s - loss: 0.6856 - acc: 0.692 - ETA: 5s - loss: 0.6953 - acc: 0.682 - ETA: 5s - loss: 0.6971 - acc: 0.681 - ETA: 5s - loss: 0.7047 - acc: 0.675 - ETA: 5s - loss: 0.7066 - acc: 0.671 - ETA: 5s - loss: 0.7063 - acc: 0.670 - ETA: 5s - loss: 0.7014 - acc: 0.674 - ETA: 5s - loss: 0.7056 - acc: 0.675 - ETA: 5s - loss: 0.7059 - acc: 0.679 - ETA: 4s - loss: 0.7141 - acc: 0.675 - ETA: 4s - loss: 0.7270 - acc: 0.667 - ETA: 4s - loss: 0.7286 - acc: 0.668 - ETA: 4s - loss: 0.7247 - acc: 0.671 - ETA: 4s - loss: 0.7263 - acc: 0.668 - ETA: 4s - loss: 0.7194 - acc: 0.672 - ETA: 4s - loss: 0.7108 - acc: 0.679 - ETA: 4s - loss: 0.7044 - acc: 0.685 - ETA: 4s - loss: 0.6970 - acc: 0.691 - ETA: 4s - loss: 0.7041 - acc: 0.690 - ETA: 4s - loss: 0.7047 - acc: 0.690 - ETA: 4s - loss: 0.7038 - acc: 0.692 - ETA: 4s - loss: 0.7063 - acc: 0.690 - ETA: 4s - loss: 0.7071 - acc: 0.689 - ETA: 3s - loss: 0.7061 - acc: 0.688 - ETA: 3s - loss: 0.7044 - acc: 0.688 - ETA: 3s - loss: 0.7139 - acc: 0.685 - ETA: 3s - loss: 0.7126 - acc: 0.685 - ETA: 3s - loss: 0.7094 - acc: 0.688 - ETA: 3s - loss: 0.7135 - acc: 0.687 - ETA: 3s - loss: 0.7107 - acc: 0.688 - ETA: 3s - loss: 0.7135 - acc: 0.687 - ETA: 3s - loss: 0.7107 - acc: 0.691 - ETA: 3s - loss: 0.7122 - acc: 0.689 - ETA: 3s - loss: 0.7099 - acc: 0.690 - ETA: 3s - loss: 0.7058 - acc: 0.692 - ETA: 3s - loss: 0.6999 - acc: 0.697 - ETA: 3s - loss: 0.7029 - acc: 0.700 - ETA: 2s - loss: 0.7071 - acc: 0.697 - ETA: 2s - loss: 0.7054 - acc: 0.698 - ETA: 2s - loss: 0.7051 - acc: 0.699 - ETA: 2s - loss: 0.7056 - acc: 0.698 - ETA: 2s - loss: 0.7025 - acc: 0.700 - ETA: 2s - loss: 0.7071 - acc: 0.698 - ETA: 2s - loss: 0.7085 - acc: 0.698 - ETA: 2s - loss: 0.7082 - acc: 0.698 - ETA: 2s - loss: 0.7053 - acc: 0.700 - ETA: 2s - loss: 0.7032 - acc: 0.700 - ETA: 2s - loss: 0.7014 - acc: 0.700 - ETA: 2s - loss: 0.7005 - acc: 0.699 - ETA: 2s - loss: 0.7005 - acc: 0.700 - ETA: 2s - loss: 0.7007 - acc: 0.700 - ETA: 2s - loss: 0.7012 - acc: 0.700 - ETA: 1s - loss: 0.7052 - acc: 0.699 - ETA: 1s - loss: 0.7067 - acc: 0.697 - ETA: 1s - loss: 0.7067 - acc: 0.697 - ETA: 1s - loss: 0.7062 - acc: 0.698 - ETA: 1s - loss: 0.7046 - acc: 0.698 - ETA: 1s - loss: 0.7060 - acc: 0.698 - ETA: 1s - loss: 0.7035 - acc: 0.699 - ETA: 1s - loss: 0.7050 - acc: 0.698 - ETA: 1s - loss: 0.7046 - acc: 0.698 - ETA: 1s - loss: 0.7059 - acc: 0.698 - ETA: 1s - loss: 0.7039 - acc: 0.698 - ETA: 1s - loss: 0.7013 - acc: 0.700 - ETA: 1s - loss: 0.7026 - acc: 0.700 - ETA: 1s - loss: 0.7055 - acc: 0.698 - ETA: 1s - loss: 0.7069 - acc: 0.696 - ETA: 0s - loss: 0.7056 - acc: 0.696 - ETA: 0s - loss: 0.7031 - acc: 0.697 - ETA: 0s - loss: 0.7034 - acc: 0.697 - ETA: 0s - loss: 0.7008 - acc: 0.698 - ETA: 0s - loss: 0.6978 - acc: 0.700 - ETA: 0s - loss: 0.7016 - acc: 0.698 - ETA: 0s - loss: 0.7012 - acc: 0.698 - ETA: 0s - loss: 0.7000 - acc: 0.699 - ETA: 0s - loss: 0.6992 - acc: 0.698 - ETA: 0s - loss: 0.6991 - acc: 0.697 - ETA: 0s - loss: 0.6975 - acc: 0.699 - ETA: 0s - loss: 0.6971 - acc: 0.700 - ETA: 0s - loss: 0.6959 - acc: 0.701 - ETA: 0s - loss: 0.6976 - acc: 0.7005Epoch 00006: val_loss improved from 0.79017 to 0.77708, saving model to saved_models/weights.best.Resnet50.hdf5\n",
      "2000/2000 [==============================] - 7s - loss: 0.7012 - acc: 0.6995 - val_loss: 0.7771 - val_acc: 0.6133\n",
      "Epoch 8/30\n",
      "1980/2000 [============================>.] - ETA: 6s - loss: 0.8140 - acc: 0.550 - ETA: 6s - loss: 0.8015 - acc: 0.675 - ETA: 6s - loss: 0.7511 - acc: 0.683 - ETA: 6s - loss: 0.7774 - acc: 0.675 - ETA: 6s - loss: 0.7255 - acc: 0.700 - ETA: 6s - loss: 0.7312 - acc: 0.700 - ETA: 6s - loss: 0.7081 - acc: 0.707 - ETA: 6s - loss: 0.7326 - acc: 0.687 - ETA: 6s - loss: 0.7191 - acc: 0.705 - ETA: 6s - loss: 0.7230 - acc: 0.700 - ETA: 6s - loss: 0.7217 - acc: 0.704 - ETA: 5s - loss: 0.7088 - acc: 0.708 - ETA: 5s - loss: 0.6946 - acc: 0.715 - ETA: 5s - loss: 0.7060 - acc: 0.707 - ETA: 5s - loss: 0.7026 - acc: 0.706 - ETA: 5s - loss: 0.7093 - acc: 0.706 - ETA: 5s - loss: 0.6969 - acc: 0.714 - ETA: 5s - loss: 0.7186 - acc: 0.705 - ETA: 5s - loss: 0.7150 - acc: 0.710 - ETA: 5s - loss: 0.7085 - acc: 0.712 - ETA: 5s - loss: 0.7075 - acc: 0.714 - ETA: 5s - loss: 0.7008 - acc: 0.715 - ETA: 5s - loss: 0.6880 - acc: 0.721 - ETA: 5s - loss: 0.6848 - acc: 0.720 - ETA: 5s - loss: 0.6799 - acc: 0.722 - ETA: 4s - loss: 0.6895 - acc: 0.715 - ETA: 4s - loss: 0.6966 - acc: 0.716 - ETA: 4s - loss: 0.6988 - acc: 0.717 - ETA: 4s - loss: 0.7030 - acc: 0.715 - ETA: 4s - loss: 0.7041 - acc: 0.715 - ETA: 4s - loss: 0.7075 - acc: 0.716 - ETA: 4s - loss: 0.7186 - acc: 0.707 - ETA: 4s - loss: 0.7121 - acc: 0.712 - ETA: 4s - loss: 0.7129 - acc: 0.710 - ETA: 4s - loss: 0.7107 - acc: 0.710 - ETA: 4s - loss: 0.7090 - acc: 0.711 - ETA: 4s - loss: 0.7145 - acc: 0.709 - ETA: 4s - loss: 0.7088 - acc: 0.710 - ETA: 4s - loss: 0.7049 - acc: 0.711 - ETA: 4s - loss: 0.7096 - acc: 0.710 - ETA: 3s - loss: 0.7088 - acc: 0.709 - ETA: 3s - loss: 0.7059 - acc: 0.711 - ETA: 3s - loss: 0.7065 - acc: 0.710 - ETA: 3s - loss: 0.7097 - acc: 0.706 - ETA: 3s - loss: 0.7126 - acc: 0.703 - ETA: 3s - loss: 0.7104 - acc: 0.706 - ETA: 3s - loss: 0.7110 - acc: 0.705 - ETA: 3s - loss: 0.7094 - acc: 0.703 - ETA: 3s - loss: 0.7090 - acc: 0.703 - ETA: 3s - loss: 0.7088 - acc: 0.702 - ETA: 3s - loss: 0.7071 - acc: 0.703 - ETA: 3s - loss: 0.7025 - acc: 0.706 - ETA: 3s - loss: 0.6960 - acc: 0.710 - ETA: 3s - loss: 0.6957 - acc: 0.709 - ETA: 3s - loss: 0.6932 - acc: 0.709 - ETA: 2s - loss: 0.6934 - acc: 0.709 - ETA: 2s - loss: 0.6934 - acc: 0.708 - ETA: 2s - loss: 0.6920 - acc: 0.710 - ETA: 2s - loss: 0.6982 - acc: 0.707 - ETA: 2s - loss: 0.6992 - acc: 0.706 - ETA: 2s - loss: 0.6975 - acc: 0.707 - ETA: 2s - loss: 0.6952 - acc: 0.708 - ETA: 2s - loss: 0.6988 - acc: 0.704 - ETA: 2s - loss: 0.6990 - acc: 0.704 - ETA: 2s - loss: 0.6974 - acc: 0.705 - ETA: 2s - loss: 0.6983 - acc: 0.704 - ETA: 2s - loss: 0.7034 - acc: 0.701 - ETA: 2s - loss: 0.7034 - acc: 0.701 - ETA: 2s - loss: 0.7040 - acc: 0.700 - ETA: 2s - loss: 0.7015 - acc: 0.701 - ETA: 1s - loss: 0.6998 - acc: 0.702 - ETA: 1s - loss: 0.6996 - acc: 0.700 - ETA: 1s - loss: 0.7007 - acc: 0.700 - ETA: 1s - loss: 0.7012 - acc: 0.699 - ETA: 1s - loss: 0.7065 - acc: 0.697 - ETA: 1s - loss: 0.7066 - acc: 0.696 - ETA: 1s - loss: 0.7051 - acc: 0.697 - ETA: 1s - loss: 0.7033 - acc: 0.698 - ETA: 1s - loss: 0.7003 - acc: 0.699 - ETA: 1s - loss: 0.7026 - acc: 0.698 - ETA: 1s - loss: 0.7031 - acc: 0.698 - ETA: 1s - loss: 0.7032 - acc: 0.698 - ETA: 1s - loss: 0.7006 - acc: 0.700 - ETA: 1s - loss: 0.7007 - acc: 0.701 - ETA: 1s - loss: 0.6986 - acc: 0.702 - ETA: 0s - loss: 0.6977 - acc: 0.702 - ETA: 0s - loss: 0.6984 - acc: 0.702 - ETA: 0s - loss: 0.6990 - acc: 0.701 - ETA: 0s - loss: 0.6967 - acc: 0.701 - ETA: 0s - loss: 0.6969 - acc: 0.701 - ETA: 0s - loss: 0.6967 - acc: 0.700 - ETA: 0s - loss: 0.6972 - acc: 0.700 - ETA: 0s - loss: 0.6993 - acc: 0.700 - ETA: 0s - loss: 0.6975 - acc: 0.700 - ETA: 0s - loss: 0.6955 - acc: 0.702 - ETA: 0s - loss: 0.6943 - acc: 0.703 - ETA: 0s - loss: 0.6956 - acc: 0.703 - ETA: 0s - loss: 0.6975 - acc: 0.702 - ETA: 0s - loss: 0.6952 - acc: 0.7040Epoch 00007: val_loss improved from 0.77708 to 0.74171, saving model to saved_models/weights.best.Resnet50.hdf5\n",
      "2000/2000 [==============================] - 7s - loss: 0.6952 - acc: 0.7040 - val_loss: 0.7417 - val_acc: 0.6533\n",
      "Epoch 9/30\n"
     ]
    },
    {
     "name": "stdout",
     "output_type": "stream",
     "text": [
      "1980/2000 [============================>.] - ETA: 6s - loss: 0.5669 - acc: 0.750 - ETA: 6s - loss: 0.7110 - acc: 0.675 - ETA: 6s - loss: 0.7057 - acc: 0.683 - ETA: 6s - loss: 0.6495 - acc: 0.712 - ETA: 6s - loss: 0.6136 - acc: 0.710 - ETA: 6s - loss: 0.6514 - acc: 0.691 - ETA: 6s - loss: 0.6668 - acc: 0.692 - ETA: 6s - loss: 0.7168 - acc: 0.662 - ETA: 6s - loss: 0.7153 - acc: 0.672 - ETA: 6s - loss: 0.7020 - acc: 0.680 - ETA: 6s - loss: 0.7057 - acc: 0.695 - ETA: 5s - loss: 0.7119 - acc: 0.695 - ETA: 5s - loss: 0.7346 - acc: 0.680 - ETA: 5s - loss: 0.7305 - acc: 0.685 - ETA: 5s - loss: 0.7467 - acc: 0.686 - ETA: 5s - loss: 0.7244 - acc: 0.700 - ETA: 5s - loss: 0.7252 - acc: 0.697 - ETA: 5s - loss: 0.7233 - acc: 0.700 - ETA: 5s - loss: 0.7344 - acc: 0.692 - ETA: 5s - loss: 0.7258 - acc: 0.695 - ETA: 5s - loss: 0.7404 - acc: 0.685 - ETA: 5s - loss: 0.7429 - acc: 0.688 - ETA: 5s - loss: 0.7366 - acc: 0.689 - ETA: 5s - loss: 0.7304 - acc: 0.691 - ETA: 5s - loss: 0.7225 - acc: 0.696 - ETA: 4s - loss: 0.7192 - acc: 0.696 - ETA: 4s - loss: 0.7163 - acc: 0.700 - ETA: 4s - loss: 0.7246 - acc: 0.694 - ETA: 4s - loss: 0.7248 - acc: 0.693 - ETA: 4s - loss: 0.7170 - acc: 0.698 - ETA: 4s - loss: 0.7153 - acc: 0.696 - ETA: 4s - loss: 0.7253 - acc: 0.692 - ETA: 4s - loss: 0.7276 - acc: 0.692 - ETA: 4s - loss: 0.7283 - acc: 0.689 - ETA: 4s - loss: 0.7285 - acc: 0.688 - ETA: 4s - loss: 0.7281 - acc: 0.687 - ETA: 4s - loss: 0.7275 - acc: 0.687 - ETA: 4s - loss: 0.7287 - acc: 0.688 - ETA: 4s - loss: 0.7259 - acc: 0.691 - ETA: 4s - loss: 0.7233 - acc: 0.692 - ETA: 3s - loss: 0.7252 - acc: 0.689 - ETA: 3s - loss: 0.7219 - acc: 0.691 - ETA: 3s - loss: 0.7174 - acc: 0.694 - ETA: 3s - loss: 0.7100 - acc: 0.697 - ETA: 3s - loss: 0.7052 - acc: 0.700 - ETA: 3s - loss: 0.7093 - acc: 0.697 - ETA: 3s - loss: 0.7104 - acc: 0.696 - ETA: 3s - loss: 0.7117 - acc: 0.694 - ETA: 3s - loss: 0.7135 - acc: 0.694 - ETA: 3s - loss: 0.7117 - acc: 0.695 - ETA: 3s - loss: 0.7141 - acc: 0.694 - ETA: 3s - loss: 0.7169 - acc: 0.692 - ETA: 3s - loss: 0.7169 - acc: 0.692 - ETA: 3s - loss: 0.7144 - acc: 0.693 - ETA: 3s - loss: 0.7114 - acc: 0.694 - ETA: 2s - loss: 0.7104 - acc: 0.695 - ETA: 2s - loss: 0.7140 - acc: 0.692 - ETA: 2s - loss: 0.7118 - acc: 0.692 - ETA: 2s - loss: 0.7107 - acc: 0.693 - ETA: 2s - loss: 0.7113 - acc: 0.692 - ETA: 2s - loss: 0.7065 - acc: 0.695 - ETA: 2s - loss: 0.7047 - acc: 0.696 - ETA: 2s - loss: 0.7017 - acc: 0.698 - ETA: 2s - loss: 0.7017 - acc: 0.696 - ETA: 2s - loss: 0.7003 - acc: 0.697 - ETA: 2s - loss: 0.6976 - acc: 0.699 - ETA: 2s - loss: 0.6967 - acc: 0.698 - ETA: 2s - loss: 0.6974 - acc: 0.697 - ETA: 2s - loss: 0.6971 - acc: 0.697 - ETA: 2s - loss: 0.6954 - acc: 0.698 - ETA: 1s - loss: 0.6936 - acc: 0.699 - ETA: 1s - loss: 0.6907 - acc: 0.700 - ETA: 1s - loss: 0.6912 - acc: 0.699 - ETA: 1s - loss: 0.6890 - acc: 0.700 - ETA: 1s - loss: 0.6902 - acc: 0.700 - ETA: 1s - loss: 0.6892 - acc: 0.700 - ETA: 1s - loss: 0.6836 - acc: 0.703 - ETA: 1s - loss: 0.6880 - acc: 0.703 - ETA: 1s - loss: 0.6861 - acc: 0.705 - ETA: 1s - loss: 0.6844 - acc: 0.706 - ETA: 1s - loss: 0.6834 - acc: 0.706 - ETA: 1s - loss: 0.6849 - acc: 0.705 - ETA: 1s - loss: 0.6840 - acc: 0.705 - ETA: 1s - loss: 0.6854 - acc: 0.706 - ETA: 1s - loss: 0.6875 - acc: 0.704 - ETA: 0s - loss: 0.6875 - acc: 0.705 - ETA: 0s - loss: 0.6882 - acc: 0.705 - ETA: 0s - loss: 0.6875 - acc: 0.707 - ETA: 0s - loss: 0.6887 - acc: 0.706 - ETA: 0s - loss: 0.6901 - acc: 0.705 - ETA: 0s - loss: 0.6899 - acc: 0.704 - ETA: 0s - loss: 0.6909 - acc: 0.704 - ETA: 0s - loss: 0.6915 - acc: 0.704 - ETA: 0s - loss: 0.6897 - acc: 0.705 - ETA: 0s - loss: 0.6875 - acc: 0.707 - ETA: 0s - loss: 0.6842 - acc: 0.709 - ETA: 0s - loss: 0.6867 - acc: 0.707 - ETA: 0s - loss: 0.6886 - acc: 0.707 - ETA: 0s - loss: 0.6873 - acc: 0.7086Epoch 00008: val_loss did not improve\n",
      "2000/2000 [==============================] - 7s - loss: 0.6851 - acc: 0.7095 - val_loss: 0.8155 - val_acc: 0.6267\n",
      "Epoch 10/30\n",
      "1980/2000 [============================>.] - ETA: 6s - loss: 0.7123 - acc: 0.650 - ETA: 6s - loss: 0.6580 - acc: 0.700 - ETA: 6s - loss: 0.6365 - acc: 0.700 - ETA: 6s - loss: 0.5837 - acc: 0.750 - ETA: 6s - loss: 0.5818 - acc: 0.750 - ETA: 6s - loss: 0.6093 - acc: 0.725 - ETA: 6s - loss: 0.6807 - acc: 0.692 - ETA: 6s - loss: 0.6983 - acc: 0.681 - ETA: 6s - loss: 0.6988 - acc: 0.677 - ETA: 5s - loss: 0.6967 - acc: 0.685 - ETA: 5s - loss: 0.6851 - acc: 0.695 - ETA: 5s - loss: 0.6903 - acc: 0.687 - ETA: 5s - loss: 0.6794 - acc: 0.692 - ETA: 5s - loss: 0.6722 - acc: 0.696 - ETA: 5s - loss: 0.6744 - acc: 0.693 - ETA: 5s - loss: 0.6693 - acc: 0.696 - ETA: 5s - loss: 0.6610 - acc: 0.702 - ETA: 5s - loss: 0.6587 - acc: 0.708 - ETA: 5s - loss: 0.6546 - acc: 0.713 - ETA: 5s - loss: 0.6415 - acc: 0.722 - ETA: 5s - loss: 0.6450 - acc: 0.719 - ETA: 5s - loss: 0.6424 - acc: 0.720 - ETA: 5s - loss: 0.6460 - acc: 0.721 - ETA: 5s - loss: 0.6576 - acc: 0.714 - ETA: 5s - loss: 0.6526 - acc: 0.718 - ETA: 4s - loss: 0.6496 - acc: 0.719 - ETA: 4s - loss: 0.6584 - acc: 0.714 - ETA: 4s - loss: 0.6517 - acc: 0.721 - ETA: 4s - loss: 0.6434 - acc: 0.725 - ETA: 4s - loss: 0.6448 - acc: 0.726 - ETA: 4s - loss: 0.6448 - acc: 0.725 - ETA: 4s - loss: 0.6438 - acc: 0.723 - ETA: 4s - loss: 0.6373 - acc: 0.727 - ETA: 4s - loss: 0.6383 - acc: 0.725 - ETA: 4s - loss: 0.6402 - acc: 0.724 - ETA: 4s - loss: 0.6351 - acc: 0.726 - ETA: 4s - loss: 0.6335 - acc: 0.724 - ETA: 4s - loss: 0.6349 - acc: 0.725 - ETA: 4s - loss: 0.6326 - acc: 0.725 - ETA: 4s - loss: 0.6340 - acc: 0.722 - ETA: 3s - loss: 0.6377 - acc: 0.724 - ETA: 3s - loss: 0.6353 - acc: 0.727 - ETA: 3s - loss: 0.6419 - acc: 0.725 - ETA: 3s - loss: 0.6456 - acc: 0.725 - ETA: 3s - loss: 0.6437 - acc: 0.725 - ETA: 3s - loss: 0.6424 - acc: 0.728 - ETA: 3s - loss: 0.6392 - acc: 0.729 - ETA: 3s - loss: 0.6390 - acc: 0.730 - ETA: 3s - loss: 0.6370 - acc: 0.731 - ETA: 3s - loss: 0.6403 - acc: 0.733 - ETA: 3s - loss: 0.6438 - acc: 0.729 - ETA: 3s - loss: 0.6469 - acc: 0.727 - ETA: 3s - loss: 0.6535 - acc: 0.726 - ETA: 3s - loss: 0.6568 - acc: 0.724 - ETA: 3s - loss: 0.6589 - acc: 0.720 - ETA: 2s - loss: 0.6608 - acc: 0.720 - ETA: 2s - loss: 0.6607 - acc: 0.721 - ETA: 2s - loss: 0.6631 - acc: 0.720 - ETA: 2s - loss: 0.6660 - acc: 0.718 - ETA: 2s - loss: 0.6657 - acc: 0.718 - ETA: 2s - loss: 0.6612 - acc: 0.720 - ETA: 2s - loss: 0.6546 - acc: 0.724 - ETA: 2s - loss: 0.6608 - acc: 0.723 - ETA: 2s - loss: 0.6628 - acc: 0.722 - ETA: 2s - loss: 0.6645 - acc: 0.722 - ETA: 2s - loss: 0.6633 - acc: 0.723 - ETA: 2s - loss: 0.6678 - acc: 0.721 - ETA: 2s - loss: 0.6675 - acc: 0.721 - ETA: 2s - loss: 0.6676 - acc: 0.721 - ETA: 2s - loss: 0.6691 - acc: 0.720 - ETA: 1s - loss: 0.6696 - acc: 0.719 - ETA: 1s - loss: 0.6731 - acc: 0.718 - ETA: 1s - loss: 0.6746 - acc: 0.715 - ETA: 1s - loss: 0.6746 - acc: 0.714 - ETA: 1s - loss: 0.6729 - acc: 0.716 - ETA: 1s - loss: 0.6741 - acc: 0.715 - ETA: 1s - loss: 0.6754 - acc: 0.714 - ETA: 1s - loss: 0.6741 - acc: 0.714 - ETA: 1s - loss: 0.6721 - acc: 0.715 - ETA: 1s - loss: 0.6709 - acc: 0.715 - ETA: 1s - loss: 0.6704 - acc: 0.715 - ETA: 1s - loss: 0.6696 - acc: 0.715 - ETA: 1s - loss: 0.6696 - acc: 0.715 - ETA: 1s - loss: 0.6691 - acc: 0.716 - ETA: 1s - loss: 0.6697 - acc: 0.716 - ETA: 0s - loss: 0.6722 - acc: 0.715 - ETA: 0s - loss: 0.6719 - acc: 0.716 - ETA: 0s - loss: 0.6712 - acc: 0.717 - ETA: 0s - loss: 0.6715 - acc: 0.716 - ETA: 0s - loss: 0.6712 - acc: 0.717 - ETA: 0s - loss: 0.6729 - acc: 0.717 - ETA: 0s - loss: 0.6729 - acc: 0.716 - ETA: 0s - loss: 0.6739 - acc: 0.715 - ETA: 0s - loss: 0.6720 - acc: 0.716 - ETA: 0s - loss: 0.6712 - acc: 0.716 - ETA: 0s - loss: 0.6730 - acc: 0.716 - ETA: 0s - loss: 0.6753 - acc: 0.714 - ETA: 0s - loss: 0.6740 - acc: 0.715 - ETA: 0s - loss: 0.6707 - acc: 0.7182Epoch 00009: val_loss did not improve\n",
      "2000/2000 [==============================] - 7s - loss: 0.6732 - acc: 0.7170 - val_loss: 0.7815 - val_acc: 0.6333\n",
      "Epoch 11/30\n",
      "1980/2000 [============================>.] - ETA: 6s - loss: 0.4888 - acc: 0.850 - ETA: 6s - loss: 0.5398 - acc: 0.800 - ETA: 6s - loss: 0.6330 - acc: 0.733 - ETA: 6s - loss: 0.6281 - acc: 0.750 - ETA: 6s - loss: 0.6245 - acc: 0.760 - ETA: 6s - loss: 0.6250 - acc: 0.750 - ETA: 6s - loss: 0.6272 - acc: 0.742 - ETA: 6s - loss: 0.6233 - acc: 0.743 - ETA: 6s - loss: 0.6006 - acc: 0.750 - ETA: 6s - loss: 0.5853 - acc: 0.755 - ETA: 6s - loss: 0.5880 - acc: 0.754 - ETA: 6s - loss: 0.5980 - acc: 0.745 - ETA: 6s - loss: 0.5978 - acc: 0.742 - ETA: 6s - loss: 0.6053 - acc: 0.739 - ETA: 6s - loss: 0.6148 - acc: 0.740 - ETA: 5s - loss: 0.6242 - acc: 0.734 - ETA: 5s - loss: 0.6277 - acc: 0.738 - ETA: 5s - loss: 0.6266 - acc: 0.733 - ETA: 5s - loss: 0.6356 - acc: 0.728 - ETA: 5s - loss: 0.6415 - acc: 0.725 - ETA: 5s - loss: 0.6375 - acc: 0.726 - ETA: 5s - loss: 0.6552 - acc: 0.715 - ETA: 5s - loss: 0.6640 - acc: 0.715 - ETA: 5s - loss: 0.6568 - acc: 0.720 - ETA: 5s - loss: 0.6675 - acc: 0.718 - ETA: 5s - loss: 0.6629 - acc: 0.725 - ETA: 5s - loss: 0.6684 - acc: 0.722 - ETA: 5s - loss: 0.6772 - acc: 0.714 - ETA: 5s - loss: 0.6749 - acc: 0.715 - ETA: 5s - loss: 0.6733 - acc: 0.711 - ETA: 5s - loss: 0.6714 - acc: 0.716 - ETA: 5s - loss: 0.6712 - acc: 0.718 - ETA: 4s - loss: 0.6656 - acc: 0.721 - ETA: 4s - loss: 0.6583 - acc: 0.725 - ETA: 4s - loss: 0.6635 - acc: 0.725 - ETA: 4s - loss: 0.6652 - acc: 0.726 - ETA: 4s - loss: 0.6703 - acc: 0.725 - ETA: 4s - loss: 0.6681 - acc: 0.726 - ETA: 4s - loss: 0.6630 - acc: 0.728 - ETA: 4s - loss: 0.6700 - acc: 0.723 - ETA: 4s - loss: 0.6686 - acc: 0.724 - ETA: 4s - loss: 0.6683 - acc: 0.723 - ETA: 4s - loss: 0.6642 - acc: 0.725 - ETA: 4s - loss: 0.6617 - acc: 0.725 - ETA: 4s - loss: 0.6634 - acc: 0.724 - ETA: 4s - loss: 0.6601 - acc: 0.726 - ETA: 3s - loss: 0.6665 - acc: 0.724 - ETA: 3s - loss: 0.6630 - acc: 0.726 - ETA: 3s - loss: 0.6621 - acc: 0.725 - ETA: 3s - loss: 0.6624 - acc: 0.726 - ETA: 3s - loss: 0.6604 - acc: 0.725 - ETA: 3s - loss: 0.6623 - acc: 0.725 - ETA: 3s - loss: 0.6653 - acc: 0.723 - ETA: 3s - loss: 0.6698 - acc: 0.723 - ETA: 3s - loss: 0.6793 - acc: 0.724 - ETA: 3s - loss: 0.6810 - acc: 0.723 - ETA: 3s - loss: 0.6759 - acc: 0.725 - ETA: 3s - loss: 0.6766 - acc: 0.725 - ETA: 3s - loss: 0.6753 - acc: 0.725 - ETA: 3s - loss: 0.6719 - acc: 0.727 - ETA: 2s - loss: 0.6704 - acc: 0.729 - ETA: 2s - loss: 0.6691 - acc: 0.731 - ETA: 2s - loss: 0.6710 - acc: 0.730 - ETA: 2s - loss: 0.6699 - acc: 0.730 - ETA: 2s - loss: 0.6687 - acc: 0.731 - ETA: 2s - loss: 0.6758 - acc: 0.728 - ETA: 2s - loss: 0.6758 - acc: 0.729 - ETA: 2s - loss: 0.6752 - acc: 0.730 - ETA: 2s - loss: 0.6760 - acc: 0.730 - ETA: 2s - loss: 0.6781 - acc: 0.728 - ETA: 2s - loss: 0.6788 - acc: 0.727 - ETA: 2s - loss: 0.6764 - acc: 0.728 - ETA: 2s - loss: 0.6771 - acc: 0.726 - ETA: 1s - loss: 0.6741 - acc: 0.729 - ETA: 1s - loss: 0.6700 - acc: 0.730 - ETA: 1s - loss: 0.6680 - acc: 0.730 - ETA: 1s - loss: 0.6689 - acc: 0.729 - ETA: 1s - loss: 0.6680 - acc: 0.729 - ETA: 1s - loss: 0.6674 - acc: 0.729 - ETA: 1s - loss: 0.6671 - acc: 0.730 - ETA: 1s - loss: 0.6667 - acc: 0.729 - ETA: 1s - loss: 0.6678 - acc: 0.728 - ETA: 1s - loss: 0.6658 - acc: 0.730 - ETA: 1s - loss: 0.6636 - acc: 0.731 - ETA: 1s - loss: 0.6647 - acc: 0.729 - ETA: 1s - loss: 0.6640 - acc: 0.729 - ETA: 0s - loss: 0.6637 - acc: 0.729 - ETA: 0s - loss: 0.6644 - acc: 0.729 - ETA: 0s - loss: 0.6614 - acc: 0.730 - ETA: 0s - loss: 0.6591 - acc: 0.731 - ETA: 0s - loss: 0.6621 - acc: 0.730 - ETA: 0s - loss: 0.6618 - acc: 0.731 - ETA: 0s - loss: 0.6599 - acc: 0.731 - ETA: 0s - loss: 0.6623 - acc: 0.730 - ETA: 0s - loss: 0.6638 - acc: 0.729 - ETA: 0s - loss: 0.6651 - acc: 0.728 - ETA: 0s - loss: 0.6659 - acc: 0.727 - ETA: 0s - loss: 0.6659 - acc: 0.727 - ETA: 0s - loss: 0.6659 - acc: 0.7268Epoch 00010: val_loss did not improve\n",
      "2000/2000 [==============================] - 7s - loss: 0.6683 - acc: 0.7260 - val_loss: 0.7653 - val_acc: 0.6200\n",
      "Epoch 12/30\n",
      "1980/2000 [============================>.] - ETA: 8s - loss: 0.6222 - acc: 0.700 - ETA: 7s - loss: 0.6370 - acc: 0.675 - ETA: 7s - loss: 0.5518 - acc: 0.766 - ETA: 7s - loss: 0.5915 - acc: 0.737 - ETA: 7s - loss: 0.6139 - acc: 0.720 - ETA: 7s - loss: 0.5855 - acc: 0.733 - ETA: 7s - loss: 0.6057 - acc: 0.728 - ETA: 7s - loss: 0.6122 - acc: 0.725 - ETA: 7s - loss: 0.5958 - acc: 0.733 - ETA: 7s - loss: 0.5827 - acc: 0.735 - ETA: 7s - loss: 0.5706 - acc: 0.745 - ETA: 7s - loss: 0.5682 - acc: 0.745 - ETA: 6s - loss: 0.6075 - acc: 0.734 - ETA: 6s - loss: 0.6312 - acc: 0.725 - ETA: 6s - loss: 0.6308 - acc: 0.720 - ETA: 6s - loss: 0.6350 - acc: 0.721 - ETA: 6s - loss: 0.6377 - acc: 0.714 - ETA: 6s - loss: 0.6507 - acc: 0.711 - ETA: 6s - loss: 0.6482 - acc: 0.715 - ETA: 6s - loss: 0.6506 - acc: 0.712 - ETA: 6s - loss: 0.6651 - acc: 0.704 - ETA: 5s - loss: 0.6642 - acc: 0.704 - ETA: 5s - loss: 0.6573 - acc: 0.706 - ETA: 5s - loss: 0.6668 - acc: 0.704 - ETA: 5s - loss: 0.6695 - acc: 0.702 - ETA: 5s - loss: 0.6662 - acc: 0.700 - ETA: 5s - loss: 0.6751 - acc: 0.694 - ETA: 5s - loss: 0.6695 - acc: 0.703 - ETA: 5s - loss: 0.6648 - acc: 0.706 - ETA: 5s - loss: 0.6624 - acc: 0.710 - ETA: 5s - loss: 0.6524 - acc: 0.714 - ETA: 5s - loss: 0.6598 - acc: 0.710 - ETA: 5s - loss: 0.6599 - acc: 0.710 - ETA: 4s - loss: 0.6590 - acc: 0.711 - ETA: 4s - loss: 0.6606 - acc: 0.711 - ETA: 4s - loss: 0.6593 - acc: 0.712 - ETA: 4s - loss: 0.6547 - acc: 0.714 - ETA: 4s - loss: 0.6520 - acc: 0.715 - ETA: 4s - loss: 0.6509 - acc: 0.715 - ETA: 4s - loss: 0.6416 - acc: 0.721 - ETA: 4s - loss: 0.6432 - acc: 0.718 - ETA: 4s - loss: 0.6389 - acc: 0.720 - ETA: 4s - loss: 0.6478 - acc: 0.719 - ETA: 4s - loss: 0.6460 - acc: 0.720 - ETA: 4s - loss: 0.6444 - acc: 0.721 - ETA: 4s - loss: 0.6489 - acc: 0.718 - ETA: 3s - loss: 0.6462 - acc: 0.720 - ETA: 3s - loss: 0.6524 - acc: 0.714 - ETA: 3s - loss: 0.6548 - acc: 0.714 - ETA: 3s - loss: 0.6518 - acc: 0.716 - ETA: 3s - loss: 0.6534 - acc: 0.715 - ETA: 3s - loss: 0.6542 - acc: 0.714 - ETA: 3s - loss: 0.6528 - acc: 0.716 - ETA: 3s - loss: 0.6570 - acc: 0.714 - ETA: 3s - loss: 0.6566 - acc: 0.715 - ETA: 3s - loss: 0.6526 - acc: 0.718 - ETA: 3s - loss: 0.6660 - acc: 0.715 - ETA: 3s - loss: 0.6665 - acc: 0.718 - ETA: 3s - loss: 0.6630 - acc: 0.720 - ETA: 2s - loss: 0.6637 - acc: 0.720 - ETA: 2s - loss: 0.6639 - acc: 0.721 - ETA: 2s - loss: 0.6609 - acc: 0.722 - ETA: 2s - loss: 0.6541 - acc: 0.726 - ETA: 2s - loss: 0.6479 - acc: 0.728 - ETA: 2s - loss: 0.6492 - acc: 0.727 - ETA: 2s - loss: 0.6456 - acc: 0.730 - ETA: 2s - loss: 0.6449 - acc: 0.729 - ETA: 2s - loss: 0.6422 - acc: 0.730 - ETA: 2s - loss: 0.6433 - acc: 0.730 - ETA: 2s - loss: 0.6415 - acc: 0.731 - ETA: 2s - loss: 0.6455 - acc: 0.728 - ETA: 2s - loss: 0.6440 - acc: 0.729 - ETA: 2s - loss: 0.6431 - acc: 0.730 - ETA: 1s - loss: 0.6441 - acc: 0.730 - ETA: 1s - loss: 0.6435 - acc: 0.729 - ETA: 1s - loss: 0.6479 - acc: 0.726 - ETA: 1s - loss: 0.6491 - acc: 0.726 - ETA: 1s - loss: 0.6498 - acc: 0.726 - ETA: 1s - loss: 0.6488 - acc: 0.727 - ETA: 1s - loss: 0.6490 - acc: 0.726 - ETA: 1s - loss: 0.6466 - acc: 0.727 - ETA: 1s - loss: 0.6477 - acc: 0.726 - ETA: 1s - loss: 0.6477 - acc: 0.726 - ETA: 1s - loss: 0.6461 - acc: 0.727 - ETA: 1s - loss: 0.6475 - acc: 0.725 - ETA: 1s - loss: 0.6475 - acc: 0.726 - ETA: 0s - loss: 0.6488 - acc: 0.724 - ETA: 0s - loss: 0.6499 - acc: 0.723 - ETA: 0s - loss: 0.6512 - acc: 0.723 - ETA: 0s - loss: 0.6496 - acc: 0.723 - ETA: 0s - loss: 0.6474 - acc: 0.724 - ETA: 0s - loss: 0.6464 - acc: 0.725 - ETA: 0s - loss: 0.6455 - acc: 0.724 - ETA: 0s - loss: 0.6456 - acc: 0.725 - ETA: 0s - loss: 0.6478 - acc: 0.723 - ETA: 0s - loss: 0.6490 - acc: 0.722 - ETA: 0s - loss: 0.6488 - acc: 0.723 - ETA: 0s - loss: 0.6477 - acc: 0.724 - ETA: 0s - loss: 0.6477 - acc: 0.7242Epoch 00011: val_loss did not improve\n",
      "2000/2000 [==============================] - 7s - loss: 0.6492 - acc: 0.7235 - val_loss: 0.7993 - val_acc: 0.6267\n",
      "Epoch 13/30\n"
     ]
    },
    {
     "name": "stdout",
     "output_type": "stream",
     "text": [
      "1980/2000 [============================>.] - ETA: 6s - loss: 0.4445 - acc: 0.800 - ETA: 6s - loss: 0.6351 - acc: 0.725 - ETA: 6s - loss: 0.7548 - acc: 0.683 - ETA: 6s - loss: 0.7621 - acc: 0.687 - ETA: 6s - loss: 0.7443 - acc: 0.690 - ETA: 6s - loss: 0.6814 - acc: 0.725 - ETA: 6s - loss: 0.6538 - acc: 0.728 - ETA: 6s - loss: 0.6481 - acc: 0.731 - ETA: 6s - loss: 0.6408 - acc: 0.722 - ETA: 6s - loss: 0.6211 - acc: 0.735 - ETA: 6s - loss: 0.6120 - acc: 0.740 - ETA: 6s - loss: 0.6106 - acc: 0.737 - ETA: 6s - loss: 0.6075 - acc: 0.738 - ETA: 6s - loss: 0.6075 - acc: 0.735 - ETA: 6s - loss: 0.5978 - acc: 0.743 - ETA: 6s - loss: 0.6260 - acc: 0.731 - ETA: 5s - loss: 0.6466 - acc: 0.720 - ETA: 5s - loss: 0.6501 - acc: 0.711 - ETA: 5s - loss: 0.6534 - acc: 0.710 - ETA: 5s - loss: 0.6562 - acc: 0.710 - ETA: 5s - loss: 0.6482 - acc: 0.716 - ETA: 5s - loss: 0.6341 - acc: 0.727 - ETA: 5s - loss: 0.6279 - acc: 0.730 - ETA: 5s - loss: 0.6310 - acc: 0.729 - ETA: 5s - loss: 0.6395 - acc: 0.722 - ETA: 5s - loss: 0.6364 - acc: 0.723 - ETA: 5s - loss: 0.6296 - acc: 0.725 - ETA: 5s - loss: 0.6285 - acc: 0.725 - ETA: 5s - loss: 0.6359 - acc: 0.725 - ETA: 5s - loss: 0.6350 - acc: 0.725 - ETA: 4s - loss: 0.6348 - acc: 0.725 - ETA: 4s - loss: 0.6282 - acc: 0.728 - ETA: 4s - loss: 0.6210 - acc: 0.731 - ETA: 4s - loss: 0.6268 - acc: 0.729 - ETA: 4s - loss: 0.6338 - acc: 0.724 - ETA: 4s - loss: 0.6308 - acc: 0.726 - ETA: 4s - loss: 0.6318 - acc: 0.727 - ETA: 4s - loss: 0.6270 - acc: 0.728 - ETA: 4s - loss: 0.6321 - acc: 0.725 - ETA: 4s - loss: 0.6278 - acc: 0.728 - ETA: 4s - loss: 0.6273 - acc: 0.728 - ETA: 4s - loss: 0.6303 - acc: 0.726 - ETA: 4s - loss: 0.6311 - acc: 0.725 - ETA: 4s - loss: 0.6324 - acc: 0.725 - ETA: 3s - loss: 0.6336 - acc: 0.725 - ETA: 3s - loss: 0.6334 - acc: 0.723 - ETA: 3s - loss: 0.6317 - acc: 0.725 - ETA: 3s - loss: 0.6279 - acc: 0.726 - ETA: 3s - loss: 0.6321 - acc: 0.723 - ETA: 3s - loss: 0.6323 - acc: 0.722 - ETA: 3s - loss: 0.6284 - acc: 0.723 - ETA: 3s - loss: 0.6281 - acc: 0.725 - ETA: 3s - loss: 0.6219 - acc: 0.729 - ETA: 3s - loss: 0.6211 - acc: 0.731 - ETA: 3s - loss: 0.6206 - acc: 0.732 - ETA: 3s - loss: 0.6236 - acc: 0.730 - ETA: 3s - loss: 0.6240 - acc: 0.730 - ETA: 3s - loss: 0.6640 - acc: 0.729 - ETA: 2s - loss: 0.6690 - acc: 0.731 - ETA: 2s - loss: 0.6665 - acc: 0.730 - ETA: 2s - loss: 0.6684 - acc: 0.728 - ETA: 2s - loss: 0.6716 - acc: 0.727 - ETA: 2s - loss: 0.6733 - acc: 0.726 - ETA: 2s - loss: 0.6733 - acc: 0.724 - ETA: 2s - loss: 0.6734 - acc: 0.723 - ETA: 2s - loss: 0.6704 - acc: 0.724 - ETA: 2s - loss: 0.6766 - acc: 0.721 - ETA: 2s - loss: 0.6745 - acc: 0.722 - ETA: 2s - loss: 0.6719 - acc: 0.722 - ETA: 2s - loss: 0.6717 - acc: 0.722 - ETA: 2s - loss: 0.6771 - acc: 0.717 - ETA: 2s - loss: 0.6784 - acc: 0.716 - ETA: 1s - loss: 0.6760 - acc: 0.718 - ETA: 1s - loss: 0.6776 - acc: 0.717 - ETA: 1s - loss: 0.6785 - acc: 0.716 - ETA: 1s - loss: 0.6794 - acc: 0.715 - ETA: 1s - loss: 0.6775 - acc: 0.717 - ETA: 1s - loss: 0.6766 - acc: 0.717 - ETA: 1s - loss: 0.6724 - acc: 0.720 - ETA: 1s - loss: 0.6721 - acc: 0.718 - ETA: 1s - loss: 0.6719 - acc: 0.717 - ETA: 1s - loss: 0.6717 - acc: 0.717 - ETA: 1s - loss: 0.6694 - acc: 0.718 - ETA: 1s - loss: 0.6677 - acc: 0.719 - ETA: 1s - loss: 0.6658 - acc: 0.720 - ETA: 1s - loss: 0.6662 - acc: 0.720 - ETA: 0s - loss: 0.6649 - acc: 0.721 - ETA: 0s - loss: 0.6657 - acc: 0.721 - ETA: 0s - loss: 0.6638 - acc: 0.722 - ETA: 0s - loss: 0.6629 - acc: 0.723 - ETA: 0s - loss: 0.6668 - acc: 0.722 - ETA: 0s - loss: 0.6653 - acc: 0.722 - ETA: 0s - loss: 0.6641 - acc: 0.724 - ETA: 0s - loss: 0.6658 - acc: 0.725 - ETA: 0s - loss: 0.6687 - acc: 0.722 - ETA: 0s - loss: 0.6710 - acc: 0.721 - ETA: 0s - loss: 0.6709 - acc: 0.721 - ETA: 0s - loss: 0.6697 - acc: 0.722 - ETA: 0s - loss: 0.6699 - acc: 0.7222Epoch 00012: val_loss did not improve\n",
      "2000/2000 [==============================] - 7s - loss: 0.6680 - acc: 0.7230 - val_loss: 0.8031 - val_acc: 0.6133\n",
      "Epoch 14/30\n",
      "1980/2000 [============================>.] - ETA: 6s - loss: 0.4088 - acc: 0.850 - ETA: 6s - loss: 0.4483 - acc: 0.825 - ETA: 6s - loss: 0.5297 - acc: 0.783 - ETA: 6s - loss: 0.5069 - acc: 0.787 - ETA: 6s - loss: 0.5923 - acc: 0.750 - ETA: 6s - loss: 0.5715 - acc: 0.766 - ETA: 6s - loss: 0.5621 - acc: 0.771 - ETA: 6s - loss: 0.5879 - acc: 0.762 - ETA: 6s - loss: 0.5797 - acc: 0.755 - ETA: 6s - loss: 0.5692 - acc: 0.760 - ETA: 6s - loss: 0.5933 - acc: 0.754 - ETA: 6s - loss: 0.5937 - acc: 0.750 - ETA: 6s - loss: 0.5944 - acc: 0.753 - ETA: 6s - loss: 0.5840 - acc: 0.760 - ETA: 5s - loss: 0.5754 - acc: 0.766 - ETA: 5s - loss: 0.5849 - acc: 0.759 - ETA: 5s - loss: 0.5904 - acc: 0.755 - ETA: 5s - loss: 0.5987 - acc: 0.747 - ETA: 5s - loss: 0.6081 - acc: 0.742 - ETA: 5s - loss: 0.6404 - acc: 0.732 - ETA: 5s - loss: 0.6326 - acc: 0.733 - ETA: 5s - loss: 0.6277 - acc: 0.734 - ETA: 5s - loss: 0.6220 - acc: 0.734 - ETA: 5s - loss: 0.6322 - acc: 0.731 - ETA: 5s - loss: 0.6282 - acc: 0.734 - ETA: 5s - loss: 0.6310 - acc: 0.734 - ETA: 5s - loss: 0.6371 - acc: 0.729 - ETA: 5s - loss: 0.6418 - acc: 0.725 - ETA: 5s - loss: 0.6410 - acc: 0.722 - ETA: 4s - loss: 0.6391 - acc: 0.725 - ETA: 4s - loss: 0.6413 - acc: 0.722 - ETA: 4s - loss: 0.6389 - acc: 0.721 - ETA: 4s - loss: 0.6336 - acc: 0.721 - ETA: 4s - loss: 0.6312 - acc: 0.722 - ETA: 4s - loss: 0.6269 - acc: 0.724 - ETA: 4s - loss: 0.6464 - acc: 0.718 - ETA: 4s - loss: 0.6546 - acc: 0.716 - ETA: 4s - loss: 0.6561 - acc: 0.715 - ETA: 4s - loss: 0.6573 - acc: 0.712 - ETA: 4s - loss: 0.6561 - acc: 0.716 - ETA: 4s - loss: 0.6569 - acc: 0.714 - ETA: 4s - loss: 0.6558 - acc: 0.714 - ETA: 4s - loss: 0.6520 - acc: 0.717 - ETA: 3s - loss: 0.6535 - acc: 0.717 - ETA: 3s - loss: 0.6552 - acc: 0.716 - ETA: 3s - loss: 0.6542 - acc: 0.718 - ETA: 3s - loss: 0.6477 - acc: 0.722 - ETA: 3s - loss: 0.6500 - acc: 0.719 - ETA: 3s - loss: 0.6483 - acc: 0.720 - ETA: 3s - loss: 0.6515 - acc: 0.718 - ETA: 3s - loss: 0.6491 - acc: 0.720 - ETA: 3s - loss: 0.6484 - acc: 0.720 - ETA: 3s - loss: 0.6429 - acc: 0.723 - ETA: 3s - loss: 0.6365 - acc: 0.727 - ETA: 3s - loss: 0.6312 - acc: 0.730 - ETA: 3s - loss: 0.6307 - acc: 0.730 - ETA: 3s - loss: 0.6312 - acc: 0.731 - ETA: 3s - loss: 0.6394 - acc: 0.730 - ETA: 2s - loss: 0.6406 - acc: 0.728 - ETA: 2s - loss: 0.6391 - acc: 0.729 - ETA: 2s - loss: 0.6422 - acc: 0.727 - ETA: 2s - loss: 0.6403 - acc: 0.727 - ETA: 2s - loss: 0.6431 - acc: 0.726 - ETA: 2s - loss: 0.6407 - acc: 0.728 - ETA: 2s - loss: 0.6396 - acc: 0.729 - ETA: 2s - loss: 0.6385 - acc: 0.729 - ETA: 2s - loss: 0.6376 - acc: 0.731 - ETA: 2s - loss: 0.6390 - acc: 0.730 - ETA: 2s - loss: 0.6367 - acc: 0.731 - ETA: 2s - loss: 0.6325 - acc: 0.734 - ETA: 2s - loss: 0.6311 - acc: 0.735 - ETA: 2s - loss: 0.6294 - acc: 0.736 - ETA: 1s - loss: 0.6266 - acc: 0.738 - ETA: 1s - loss: 0.6274 - acc: 0.738 - ETA: 1s - loss: 0.6275 - acc: 0.738 - ETA: 1s - loss: 0.6320 - acc: 0.737 - ETA: 1s - loss: 0.6342 - acc: 0.737 - ETA: 1s - loss: 0.6336 - acc: 0.738 - ETA: 1s - loss: 0.6360 - acc: 0.737 - ETA: 1s - loss: 0.6346 - acc: 0.739 - ETA: 1s - loss: 0.6329 - acc: 0.740 - ETA: 1s - loss: 0.6345 - acc: 0.739 - ETA: 1s - loss: 0.6346 - acc: 0.739 - ETA: 1s - loss: 0.6368 - acc: 0.739 - ETA: 1s - loss: 0.6380 - acc: 0.738 - ETA: 1s - loss: 0.6388 - acc: 0.737 - ETA: 0s - loss: 0.6387 - acc: 0.737 - ETA: 0s - loss: 0.6427 - acc: 0.736 - ETA: 0s - loss: 0.6418 - acc: 0.737 - ETA: 0s - loss: 0.6430 - acc: 0.736 - ETA: 0s - loss: 0.6434 - acc: 0.734 - ETA: 0s - loss: 0.6439 - acc: 0.732 - ETA: 0s - loss: 0.6446 - acc: 0.732 - ETA: 0s - loss: 0.6445 - acc: 0.732 - ETA: 0s - loss: 0.6438 - acc: 0.733 - ETA: 0s - loss: 0.6421 - acc: 0.733 - ETA: 0s - loss: 0.6411 - acc: 0.735 - ETA: 0s - loss: 0.6399 - acc: 0.736 - ETA: 0s - loss: 0.6369 - acc: 0.7379Epoch 00013: val_loss did not improve\n",
      "2000/2000 [==============================] - 7s - loss: 0.6423 - acc: 0.7360 - val_loss: 0.8519 - val_acc: 0.6067\n",
      "Epoch 15/30\n",
      "1980/2000 [============================>.] - ETA: 6s - loss: 0.4946 - acc: 0.850 - ETA: 6s - loss: 0.4100 - acc: 0.900 - ETA: 6s - loss: 0.4979 - acc: 0.833 - ETA: 6s - loss: 0.5747 - acc: 0.775 - ETA: 6s - loss: 0.6300 - acc: 0.750 - ETA: 6s - loss: 0.6411 - acc: 0.741 - ETA: 6s - loss: 0.6431 - acc: 0.721 - ETA: 6s - loss: 0.6538 - acc: 0.706 - ETA: 6s - loss: 0.6418 - acc: 0.727 - ETA: 6s - loss: 0.6300 - acc: 0.725 - ETA: 6s - loss: 0.6232 - acc: 0.727 - ETA: 6s - loss: 0.6078 - acc: 0.741 - ETA: 6s - loss: 0.6082 - acc: 0.746 - ETA: 6s - loss: 0.5993 - acc: 0.750 - ETA: 5s - loss: 0.5939 - acc: 0.753 - ETA: 5s - loss: 0.6013 - acc: 0.746 - ETA: 5s - loss: 0.6015 - acc: 0.750 - ETA: 5s - loss: 0.5943 - acc: 0.752 - ETA: 5s - loss: 0.6032 - acc: 0.750 - ETA: 5s - loss: 0.5995 - acc: 0.755 - ETA: 5s - loss: 0.6027 - acc: 0.754 - ETA: 5s - loss: 0.5947 - acc: 0.756 - ETA: 5s - loss: 0.6077 - acc: 0.756 - ETA: 5s - loss: 0.6060 - acc: 0.758 - ETA: 5s - loss: 0.6012 - acc: 0.758 - ETA: 5s - loss: 0.6066 - acc: 0.753 - ETA: 5s - loss: 0.6102 - acc: 0.751 - ETA: 5s - loss: 0.6094 - acc: 0.751 - ETA: 5s - loss: 0.6216 - acc: 0.743 - ETA: 4s - loss: 0.6189 - acc: 0.748 - ETA: 4s - loss: 0.6162 - acc: 0.748 - ETA: 4s - loss: 0.6166 - acc: 0.745 - ETA: 4s - loss: 0.6124 - acc: 0.748 - ETA: 4s - loss: 0.6130 - acc: 0.748 - ETA: 4s - loss: 0.6124 - acc: 0.750 - ETA: 4s - loss: 0.6231 - acc: 0.744 - ETA: 4s - loss: 0.6226 - acc: 0.745 - ETA: 4s - loss: 0.6242 - acc: 0.744 - ETA: 4s - loss: 0.6208 - acc: 0.748 - ETA: 4s - loss: 0.6224 - acc: 0.746 - ETA: 4s - loss: 0.6249 - acc: 0.746 - ETA: 4s - loss: 0.6268 - acc: 0.744 - ETA: 4s - loss: 0.6293 - acc: 0.738 - ETA: 3s - loss: 0.6293 - acc: 0.738 - ETA: 3s - loss: 0.6243 - acc: 0.743 - ETA: 3s - loss: 0.6184 - acc: 0.746 - ETA: 3s - loss: 0.6191 - acc: 0.745 - ETA: 3s - loss: 0.6228 - acc: 0.743 - ETA: 3s - loss: 0.6235 - acc: 0.744 - ETA: 3s - loss: 0.6212 - acc: 0.747 - ETA: 3s - loss: 0.6234 - acc: 0.744 - ETA: 3s - loss: 0.6260 - acc: 0.742 - ETA: 3s - loss: 0.6278 - acc: 0.742 - ETA: 3s - loss: 0.6279 - acc: 0.742 - ETA: 3s - loss: 0.6292 - acc: 0.743 - ETA: 3s - loss: 0.6300 - acc: 0.742 - ETA: 3s - loss: 0.6268 - acc: 0.744 - ETA: 2s - loss: 0.6233 - acc: 0.746 - ETA: 2s - loss: 0.6250 - acc: 0.745 - ETA: 2s - loss: 0.6269 - acc: 0.743 - ETA: 2s - loss: 0.6252 - acc: 0.745 - ETA: 2s - loss: 0.6265 - acc: 0.746 - ETA: 2s - loss: 0.6243 - acc: 0.747 - ETA: 2s - loss: 0.6249 - acc: 0.746 - ETA: 2s - loss: 0.6255 - acc: 0.746 - ETA: 2s - loss: 0.6277 - acc: 0.743 - ETA: 2s - loss: 0.6281 - acc: 0.743 - ETA: 2s - loss: 0.6292 - acc: 0.741 - ETA: 2s - loss: 0.6280 - acc: 0.741 - ETA: 2s - loss: 0.6254 - acc: 0.740 - ETA: 2s - loss: 0.6233 - acc: 0.741 - ETA: 2s - loss: 0.6233 - acc: 0.742 - ETA: 1s - loss: 0.6231 - acc: 0.741 - ETA: 1s - loss: 0.6237 - acc: 0.740 - ETA: 1s - loss: 0.6255 - acc: 0.739 - ETA: 1s - loss: 0.6256 - acc: 0.739 - ETA: 1s - loss: 0.6308 - acc: 0.737 - ETA: 1s - loss: 0.6311 - acc: 0.737 - ETA: 1s - loss: 0.6316 - acc: 0.736 - ETA: 1s - loss: 0.6288 - acc: 0.738 - ETA: 1s - loss: 0.6278 - acc: 0.740 - ETA: 1s - loss: 0.6281 - acc: 0.739 - ETA: 1s - loss: 0.6307 - acc: 0.737 - ETA: 1s - loss: 0.6315 - acc: 0.736 - ETA: 1s - loss: 0.6335 - acc: 0.735 - ETA: 1s - loss: 0.6319 - acc: 0.737 - ETA: 0s - loss: 0.6325 - acc: 0.739 - ETA: 0s - loss: 0.6307 - acc: 0.740 - ETA: 0s - loss: 0.6283 - acc: 0.741 - ETA: 0s - loss: 0.6278 - acc: 0.742 - ETA: 0s - loss: 0.6296 - acc: 0.741 - ETA: 0s - loss: 0.6270 - acc: 0.743 - ETA: 0s - loss: 0.6262 - acc: 0.743 - ETA: 0s - loss: 0.6243 - acc: 0.744 - ETA: 0s - loss: 0.6221 - acc: 0.746 - ETA: 0s - loss: 0.6219 - acc: 0.746 - ETA: 0s - loss: 0.6221 - acc: 0.746 - ETA: 0s - loss: 0.6251 - acc: 0.744 - ETA: 0s - loss: 0.6254 - acc: 0.7455Epoch 00014: val_loss did not improve\n",
      "2000/2000 [==============================] - 7s - loss: 0.6212 - acc: 0.7475 - val_loss: 1.0668 - val_acc: 0.6067\n",
      "Epoch 16/30\n",
      "1980/2000 [============================>.] - ETA: 6s - loss: 0.3310 - acc: 0.800 - ETA: 6s - loss: 0.4843 - acc: 0.675 - ETA: 7s - loss: 0.4808 - acc: 0.716 - ETA: 7s - loss: 0.5670 - acc: 0.700 - ETA: 7s - loss: 0.6058 - acc: 0.680 - ETA: 7s - loss: 0.5800 - acc: 0.708 - ETA: 6s - loss: 0.5720 - acc: 0.721 - ETA: 6s - loss: 0.5644 - acc: 0.718 - ETA: 6s - loss: 0.5568 - acc: 0.727 - ETA: 6s - loss: 0.5764 - acc: 0.735 - ETA: 6s - loss: 0.5816 - acc: 0.736 - ETA: 6s - loss: 0.5884 - acc: 0.729 - ETA: 6s - loss: 0.5827 - acc: 0.730 - ETA: 6s - loss: 0.5827 - acc: 0.735 - ETA: 6s - loss: 0.5743 - acc: 0.743 - ETA: 6s - loss: 0.5699 - acc: 0.750 - ETA: 6s - loss: 0.5588 - acc: 0.755 - ETA: 6s - loss: 0.5721 - acc: 0.752 - ETA: 5s - loss: 0.5850 - acc: 0.747 - ETA: 5s - loss: 0.5937 - acc: 0.737 - ETA: 5s - loss: 0.5956 - acc: 0.735 - ETA: 5s - loss: 0.5991 - acc: 0.736 - ETA: 5s - loss: 0.5981 - acc: 0.739 - ETA: 5s - loss: 0.5902 - acc: 0.743 - ETA: 5s - loss: 0.5886 - acc: 0.744 - ETA: 5s - loss: 0.5862 - acc: 0.742 - ETA: 5s - loss: 0.5843 - acc: 0.742 - ETA: 5s - loss: 0.5833 - acc: 0.742 - ETA: 5s - loss: 0.5813 - acc: 0.744 - ETA: 5s - loss: 0.5769 - acc: 0.746 - ETA: 5s - loss: 0.5789 - acc: 0.745 - ETA: 4s - loss: 0.5818 - acc: 0.745 - ETA: 4s - loss: 0.5798 - acc: 0.747 - ETA: 4s - loss: 0.5913 - acc: 0.745 - ETA: 4s - loss: 0.5987 - acc: 0.738 - ETA: 4s - loss: 0.5979 - acc: 0.741 - ETA: 4s - loss: 0.5943 - acc: 0.743 - ETA: 4s - loss: 0.5893 - acc: 0.746 - ETA: 4s - loss: 0.5831 - acc: 0.747 - ETA: 4s - loss: 0.5774 - acc: 0.750 - ETA: 4s - loss: 0.5818 - acc: 0.747 - ETA: 4s - loss: 0.5843 - acc: 0.747 - ETA: 4s - loss: 0.5821 - acc: 0.751 - ETA: 4s - loss: 0.5830 - acc: 0.751 - ETA: 4s - loss: 0.5854 - acc: 0.748 - ETA: 3s - loss: 0.5849 - acc: 0.747 - ETA: 3s - loss: 0.5754 - acc: 0.752 - ETA: 3s - loss: 0.5891 - acc: 0.749 - ETA: 3s - loss: 0.5853 - acc: 0.752 - ETA: 3s - loss: 0.5848 - acc: 0.752 - ETA: 3s - loss: 0.5874 - acc: 0.748 - ETA: 3s - loss: 0.5878 - acc: 0.749 - ETA: 3s - loss: 0.5834 - acc: 0.752 - ETA: 3s - loss: 0.5898 - acc: 0.750 - ETA: 3s - loss: 0.5904 - acc: 0.748 - ETA: 3s - loss: 0.5975 - acc: 0.742 - ETA: 3s - loss: 0.5991 - acc: 0.742 - ETA: 3s - loss: 0.5976 - acc: 0.743 - ETA: 2s - loss: 0.5995 - acc: 0.741 - ETA: 2s - loss: 0.6001 - acc: 0.740 - ETA: 2s - loss: 0.6008 - acc: 0.741 - ETA: 2s - loss: 0.6008 - acc: 0.741 - ETA: 2s - loss: 0.5977 - acc: 0.741 - ETA: 2s - loss: 0.6064 - acc: 0.738 - ETA: 2s - loss: 0.6062 - acc: 0.739 - ETA: 2s - loss: 0.6052 - acc: 0.740 - ETA: 2s - loss: 0.6094 - acc: 0.738 - ETA: 2s - loss: 0.6089 - acc: 0.738 - ETA: 2s - loss: 0.6057 - acc: 0.741 - ETA: 2s - loss: 0.6090 - acc: 0.738 - ETA: 2s - loss: 0.6119 - acc: 0.736 - ETA: 2s - loss: 0.6139 - acc: 0.736 - ETA: 1s - loss: 0.6107 - acc: 0.739 - ETA: 1s - loss: 0.6100 - acc: 0.739 - ETA: 1s - loss: 0.6093 - acc: 0.738 - ETA: 1s - loss: 0.6137 - acc: 0.737 - ETA: 1s - loss: 0.6137 - acc: 0.737 - ETA: 1s - loss: 0.6130 - acc: 0.738 - ETA: 1s - loss: 0.6132 - acc: 0.738 - ETA: 1s - loss: 0.6146 - acc: 0.736 - ETA: 1s - loss: 0.6153 - acc: 0.737 - ETA: 1s - loss: 0.6152 - acc: 0.736 - ETA: 1s - loss: 0.6154 - acc: 0.736 - ETA: 1s - loss: 0.6135 - acc: 0.739 - ETA: 1s - loss: 0.6114 - acc: 0.741 - ETA: 1s - loss: 0.6119 - acc: 0.739 - ETA: 0s - loss: 0.6120 - acc: 0.739 - ETA: 0s - loss: 0.6148 - acc: 0.738 - ETA: 0s - loss: 0.6142 - acc: 0.738 - ETA: 0s - loss: 0.6123 - acc: 0.739 - ETA: 0s - loss: 0.6143 - acc: 0.739 - ETA: 0s - loss: 0.6143 - acc: 0.739 - ETA: 0s - loss: 0.6137 - acc: 0.738 - ETA: 0s - loss: 0.6132 - acc: 0.738 - ETA: 0s - loss: 0.6118 - acc: 0.739 - ETA: 0s - loss: 0.6105 - acc: 0.740 - ETA: 0s - loss: 0.6092 - acc: 0.741 - ETA: 0s - loss: 0.6101 - acc: 0.741 - ETA: 0s - loss: 0.6120 - acc: 0.7409Epoch 00015: val_loss did not improve\n",
      "2000/2000 [==============================] - 7s - loss: 0.6118 - acc: 0.7405 - val_loss: 0.8422 - val_acc: 0.6267\n",
      "Epoch 17/30\n"
     ]
    },
    {
     "name": "stdout",
     "output_type": "stream",
     "text": [
      "1980/2000 [============================>.] - ETA: 6s - loss: 0.8757 - acc: 0.550 - ETA: 6s - loss: 0.7757 - acc: 0.650 - ETA: 6s - loss: 0.7229 - acc: 0.683 - ETA: 6s - loss: 0.6863 - acc: 0.700 - ETA: 6s - loss: 0.6425 - acc: 0.720 - ETA: 6s - loss: 0.6135 - acc: 0.741 - ETA: 6s - loss: 0.5961 - acc: 0.750 - ETA: 6s - loss: 0.6151 - acc: 0.743 - ETA: 6s - loss: 0.6090 - acc: 0.750 - ETA: 6s - loss: 0.6157 - acc: 0.740 - ETA: 6s - loss: 0.6131 - acc: 0.745 - ETA: 6s - loss: 0.6143 - acc: 0.745 - ETA: 6s - loss: 0.6133 - acc: 0.742 - ETA: 6s - loss: 0.6038 - acc: 0.739 - ETA: 6s - loss: 0.5938 - acc: 0.743 - ETA: 6s - loss: 0.5819 - acc: 0.750 - ETA: 5s - loss: 0.6021 - acc: 0.741 - ETA: 5s - loss: 0.5992 - acc: 0.741 - ETA: 5s - loss: 0.5897 - acc: 0.747 - ETA: 5s - loss: 0.6023 - acc: 0.742 - ETA: 5s - loss: 0.6034 - acc: 0.742 - ETA: 5s - loss: 0.5949 - acc: 0.750 - ETA: 5s - loss: 0.5816 - acc: 0.756 - ETA: 5s - loss: 0.5869 - acc: 0.752 - ETA: 5s - loss: 0.5895 - acc: 0.754 - ETA: 5s - loss: 0.5954 - acc: 0.748 - ETA: 5s - loss: 0.5889 - acc: 0.750 - ETA: 5s - loss: 0.5844 - acc: 0.753 - ETA: 5s - loss: 0.5793 - acc: 0.753 - ETA: 5s - loss: 0.5763 - acc: 0.753 - ETA: 4s - loss: 0.5728 - acc: 0.753 - ETA: 4s - loss: 0.5783 - acc: 0.750 - ETA: 4s - loss: 0.5874 - acc: 0.745 - ETA: 4s - loss: 0.5908 - acc: 0.742 - ETA: 4s - loss: 0.5955 - acc: 0.744 - ETA: 4s - loss: 0.5979 - acc: 0.743 - ETA: 4s - loss: 0.6036 - acc: 0.737 - ETA: 4s - loss: 0.6050 - acc: 0.736 - ETA: 4s - loss: 0.6037 - acc: 0.737 - ETA: 4s - loss: 0.6038 - acc: 0.737 - ETA: 4s - loss: 0.6014 - acc: 0.737 - ETA: 4s - loss: 0.5937 - acc: 0.742 - ETA: 4s - loss: 0.5902 - acc: 0.744 - ETA: 4s - loss: 0.5890 - acc: 0.743 - ETA: 3s - loss: 0.5874 - acc: 0.742 - ETA: 3s - loss: 0.5886 - acc: 0.742 - ETA: 3s - loss: 0.5901 - acc: 0.744 - ETA: 3s - loss: 0.5898 - acc: 0.744 - ETA: 3s - loss: 0.5929 - acc: 0.742 - ETA: 3s - loss: 0.5882 - acc: 0.747 - ETA: 3s - loss: 0.5894 - acc: 0.747 - ETA: 3s - loss: 0.5848 - acc: 0.749 - ETA: 3s - loss: 0.5956 - acc: 0.747 - ETA: 3s - loss: 0.5958 - acc: 0.747 - ETA: 3s - loss: 0.5969 - acc: 0.746 - ETA: 3s - loss: 0.5949 - acc: 0.748 - ETA: 3s - loss: 0.5884 - acc: 0.751 - ETA: 3s - loss: 0.5911 - acc: 0.750 - ETA: 2s - loss: 0.5967 - acc: 0.747 - ETA: 2s - loss: 0.5969 - acc: 0.746 - ETA: 2s - loss: 0.5925 - acc: 0.749 - ETA: 2s - loss: 0.5951 - acc: 0.747 - ETA: 2s - loss: 0.5962 - acc: 0.747 - ETA: 2s - loss: 0.5941 - acc: 0.749 - ETA: 2s - loss: 0.5945 - acc: 0.749 - ETA: 2s - loss: 0.5932 - acc: 0.750 - ETA: 2s - loss: 0.5920 - acc: 0.750 - ETA: 2s - loss: 0.5934 - acc: 0.751 - ETA: 2s - loss: 0.5997 - acc: 0.750 - ETA: 2s - loss: 0.5980 - acc: 0.750 - ETA: 2s - loss: 0.5951 - acc: 0.752 - ETA: 2s - loss: 0.5938 - acc: 0.751 - ETA: 1s - loss: 0.5969 - acc: 0.750 - ETA: 1s - loss: 0.5970 - acc: 0.750 - ETA: 1s - loss: 0.5974 - acc: 0.749 - ETA: 1s - loss: 0.5952 - acc: 0.750 - ETA: 1s - loss: 0.5985 - acc: 0.748 - ETA: 1s - loss: 0.5987 - acc: 0.749 - ETA: 1s - loss: 0.6008 - acc: 0.747 - ETA: 1s - loss: 0.5998 - acc: 0.748 - ETA: 1s - loss: 0.5982 - acc: 0.748 - ETA: 1s - loss: 0.5976 - acc: 0.748 - ETA: 1s - loss: 0.5949 - acc: 0.749 - ETA: 1s - loss: 0.5953 - acc: 0.748 - ETA: 1s - loss: 0.5947 - acc: 0.750 - ETA: 1s - loss: 0.5930 - acc: 0.751 - ETA: 0s - loss: 0.5963 - acc: 0.750 - ETA: 0s - loss: 0.5974 - acc: 0.749 - ETA: 0s - loss: 0.6009 - acc: 0.747 - ETA: 0s - loss: 0.6013 - acc: 0.747 - ETA: 0s - loss: 0.6010 - acc: 0.747 - ETA: 0s - loss: 0.6010 - acc: 0.748 - ETA: 0s - loss: 0.6016 - acc: 0.748 - ETA: 0s - loss: 0.6029 - acc: 0.747 - ETA: 0s - loss: 0.6033 - acc: 0.746 - ETA: 0s - loss: 0.6043 - acc: 0.745 - ETA: 0s - loss: 0.6045 - acc: 0.745 - ETA: 0s - loss: 0.6025 - acc: 0.746 - ETA: 0s - loss: 0.6021 - acc: 0.7465Epoch 00016: val_loss did not improve\n",
      "2000/2000 [==============================] - 7s - loss: 0.6047 - acc: 0.7455 - val_loss: 0.7953 - val_acc: 0.6467\n",
      "Epoch 18/30\n",
      "1980/2000 [============================>.] - ETA: 6s - loss: 0.5547 - acc: 0.850 - ETA: 6s - loss: 0.5409 - acc: 0.825 - ETA: 6s - loss: 0.5381 - acc: 0.783 - ETA: 6s - loss: 0.5125 - acc: 0.775 - ETA: 6s - loss: 0.5387 - acc: 0.770 - ETA: 6s - loss: 0.5685 - acc: 0.758 - ETA: 6s - loss: 0.5599 - acc: 0.750 - ETA: 6s - loss: 0.5355 - acc: 0.762 - ETA: 6s - loss: 0.5589 - acc: 0.761 - ETA: 6s - loss: 0.5581 - acc: 0.760 - ETA: 6s - loss: 0.5553 - acc: 0.763 - ETA: 6s - loss: 0.5618 - acc: 0.762 - ETA: 6s - loss: 0.5613 - acc: 0.765 - ETA: 6s - loss: 0.5809 - acc: 0.753 - ETA: 5s - loss: 0.5795 - acc: 0.760 - ETA: 5s - loss: 0.5699 - acc: 0.765 - ETA: 5s - loss: 0.5755 - acc: 0.755 - ETA: 5s - loss: 0.5795 - acc: 0.750 - ETA: 5s - loss: 0.5735 - acc: 0.752 - ETA: 5s - loss: 0.5764 - acc: 0.757 - ETA: 5s - loss: 0.5866 - acc: 0.747 - ETA: 5s - loss: 0.5936 - acc: 0.747 - ETA: 5s - loss: 0.5842 - acc: 0.754 - ETA: 5s - loss: 0.5824 - acc: 0.756 - ETA: 5s - loss: 0.5776 - acc: 0.760 - ETA: 5s - loss: 0.5728 - acc: 0.761 - ETA: 5s - loss: 0.5660 - acc: 0.763 - ETA: 5s - loss: 0.5662 - acc: 0.764 - ETA: 5s - loss: 0.5622 - acc: 0.763 - ETA: 4s - loss: 0.5645 - acc: 0.761 - ETA: 4s - loss: 0.5641 - acc: 0.759 - ETA: 4s - loss: 0.5658 - acc: 0.757 - ETA: 4s - loss: 0.5632 - acc: 0.759 - ETA: 4s - loss: 0.5641 - acc: 0.758 - ETA: 4s - loss: 0.5672 - acc: 0.757 - ETA: 4s - loss: 0.5632 - acc: 0.758 - ETA: 4s - loss: 0.5666 - acc: 0.756 - ETA: 4s - loss: 0.5664 - acc: 0.757 - ETA: 4s - loss: 0.5672 - acc: 0.759 - ETA: 4s - loss: 0.5652 - acc: 0.761 - ETA: 4s - loss: 0.5623 - acc: 0.761 - ETA: 4s - loss: 0.5643 - acc: 0.758 - ETA: 4s - loss: 0.5598 - acc: 0.760 - ETA: 3s - loss: 0.5707 - acc: 0.756 - ETA: 3s - loss: 0.5738 - acc: 0.754 - ETA: 3s - loss: 0.5736 - acc: 0.755 - ETA: 3s - loss: 0.5696 - acc: 0.757 - ETA: 3s - loss: 0.5655 - acc: 0.758 - ETA: 3s - loss: 0.5642 - acc: 0.759 - ETA: 3s - loss: 0.5764 - acc: 0.755 - ETA: 3s - loss: 0.5814 - acc: 0.751 - ETA: 3s - loss: 0.5792 - acc: 0.753 - ETA: 3s - loss: 0.5802 - acc: 0.752 - ETA: 3s - loss: 0.5797 - acc: 0.752 - ETA: 3s - loss: 0.5775 - acc: 0.753 - ETA: 3s - loss: 0.5845 - acc: 0.749 - ETA: 3s - loss: 0.5848 - acc: 0.750 - ETA: 2s - loss: 0.5857 - acc: 0.749 - ETA: 2s - loss: 0.5826 - acc: 0.750 - ETA: 2s - loss: 0.5794 - acc: 0.751 - ETA: 2s - loss: 0.5812 - acc: 0.750 - ETA: 2s - loss: 0.5823 - acc: 0.750 - ETA: 2s - loss: 0.5823 - acc: 0.749 - ETA: 2s - loss: 0.5792 - acc: 0.751 - ETA: 2s - loss: 0.5863 - acc: 0.750 - ETA: 2s - loss: 0.5860 - acc: 0.750 - ETA: 2s - loss: 0.5850 - acc: 0.750 - ETA: 2s - loss: 0.5838 - acc: 0.751 - ETA: 2s - loss: 0.5819 - acc: 0.752 - ETA: 2s - loss: 0.5849 - acc: 0.751 - ETA: 2s - loss: 0.5828 - acc: 0.752 - ETA: 1s - loss: 0.5812 - acc: 0.753 - ETA: 1s - loss: 0.5837 - acc: 0.753 - ETA: 1s - loss: 0.5837 - acc: 0.752 - ETA: 1s - loss: 0.5842 - acc: 0.751 - ETA: 1s - loss: 0.5828 - acc: 0.752 - ETA: 1s - loss: 0.5831 - acc: 0.752 - ETA: 1s - loss: 0.5847 - acc: 0.752 - ETA: 1s - loss: 0.5844 - acc: 0.752 - ETA: 1s - loss: 0.5880 - acc: 0.751 - ETA: 1s - loss: 0.5894 - acc: 0.750 - ETA: 1s - loss: 0.5886 - acc: 0.750 - ETA: 1s - loss: 0.5888 - acc: 0.748 - ETA: 1s - loss: 0.5873 - acc: 0.749 - ETA: 1s - loss: 0.5878 - acc: 0.748 - ETA: 0s - loss: 0.5838 - acc: 0.751 - ETA: 0s - loss: 0.5870 - acc: 0.750 - ETA: 0s - loss: 0.5874 - acc: 0.751 - ETA: 0s - loss: 0.5896 - acc: 0.750 - ETA: 0s - loss: 0.5909 - acc: 0.749 - ETA: 0s - loss: 0.5882 - acc: 0.751 - ETA: 0s - loss: 0.5853 - acc: 0.752 - ETA: 0s - loss: 0.5817 - acc: 0.754 - ETA: 0s - loss: 0.5834 - acc: 0.753 - ETA: 0s - loss: 0.5827 - acc: 0.754 - ETA: 0s - loss: 0.5841 - acc: 0.753 - ETA: 0s - loss: 0.5858 - acc: 0.753 - ETA: 0s - loss: 0.5872 - acc: 0.753 - ETA: 0s - loss: 0.5888 - acc: 0.7525Epoch 00017: val_loss did not improve\n",
      "2000/2000 [==============================] - 7s - loss: 0.5876 - acc: 0.7530 - val_loss: 0.9413 - val_acc: 0.6400\n",
      "Epoch 19/30\n",
      "1980/2000 [============================>.] - ETA: 6s - loss: 1.1818 - acc: 0.550 - ETA: 6s - loss: 0.9712 - acc: 0.625 - ETA: 6s - loss: 0.8590 - acc: 0.633 - ETA: 6s - loss: 0.7467 - acc: 0.687 - ETA: 6s - loss: 0.7191 - acc: 0.690 - ETA: 6s - loss: 0.6744 - acc: 0.708 - ETA: 6s - loss: 0.6766 - acc: 0.714 - ETA: 6s - loss: 0.6670 - acc: 0.712 - ETA: 6s - loss: 0.6599 - acc: 0.722 - ETA: 6s - loss: 0.6408 - acc: 0.735 - ETA: 6s - loss: 0.6508 - acc: 0.722 - ETA: 6s - loss: 0.6459 - acc: 0.725 - ETA: 6s - loss: 0.6370 - acc: 0.730 - ETA: 6s - loss: 0.6339 - acc: 0.732 - ETA: 6s - loss: 0.6419 - acc: 0.730 - ETA: 5s - loss: 0.6253 - acc: 0.737 - ETA: 5s - loss: 0.6264 - acc: 0.735 - ETA: 5s - loss: 0.6236 - acc: 0.736 - ETA: 5s - loss: 0.6194 - acc: 0.736 - ETA: 5s - loss: 0.6092 - acc: 0.745 - ETA: 5s - loss: 0.6060 - acc: 0.745 - ETA: 5s - loss: 0.6049 - acc: 0.743 - ETA: 5s - loss: 0.6051 - acc: 0.741 - ETA: 5s - loss: 0.6138 - acc: 0.737 - ETA: 5s - loss: 0.6118 - acc: 0.736 - ETA: 5s - loss: 0.6095 - acc: 0.740 - ETA: 5s - loss: 0.6051 - acc: 0.742 - ETA: 5s - loss: 0.6055 - acc: 0.742 - ETA: 5s - loss: 0.5956 - acc: 0.750 - ETA: 4s - loss: 0.6027 - acc: 0.745 - ETA: 4s - loss: 0.6033 - acc: 0.743 - ETA: 4s - loss: 0.6054 - acc: 0.742 - ETA: 4s - loss: 0.6070 - acc: 0.740 - ETA: 4s - loss: 0.6063 - acc: 0.741 - ETA: 4s - loss: 0.6011 - acc: 0.744 - ETA: 4s - loss: 0.5979 - acc: 0.744 - ETA: 4s - loss: 0.5993 - acc: 0.741 - ETA: 4s - loss: 0.5971 - acc: 0.744 - ETA: 4s - loss: 0.5967 - acc: 0.743 - ETA: 4s - loss: 0.5917 - acc: 0.746 - ETA: 4s - loss: 0.5877 - acc: 0.751 - ETA: 4s - loss: 0.5854 - acc: 0.750 - ETA: 4s - loss: 0.5889 - acc: 0.748 - ETA: 3s - loss: 0.5864 - acc: 0.750 - ETA: 3s - loss: 0.5856 - acc: 0.751 - ETA: 3s - loss: 0.5806 - acc: 0.753 - ETA: 3s - loss: 0.5962 - acc: 0.750 - ETA: 3s - loss: 0.5993 - acc: 0.749 - ETA: 3s - loss: 0.5952 - acc: 0.752 - ETA: 3s - loss: 0.5942 - acc: 0.753 - ETA: 3s - loss: 0.5888 - acc: 0.756 - ETA: 3s - loss: 0.5929 - acc: 0.756 - ETA: 3s - loss: 0.5969 - acc: 0.753 - ETA: 3s - loss: 0.5940 - acc: 0.755 - ETA: 3s - loss: 0.5886 - acc: 0.759 - ETA: 3s - loss: 0.5854 - acc: 0.759 - ETA: 3s - loss: 0.5840 - acc: 0.759 - ETA: 2s - loss: 0.5819 - acc: 0.760 - ETA: 2s - loss: 0.5794 - acc: 0.762 - ETA: 2s - loss: 0.5771 - acc: 0.764 - ETA: 2s - loss: 0.5741 - acc: 0.764 - ETA: 2s - loss: 0.5764 - acc: 0.762 - ETA: 2s - loss: 0.5761 - acc: 0.763 - ETA: 2s - loss: 0.5766 - acc: 0.763 - ETA: 2s - loss: 0.5754 - acc: 0.763 - ETA: 2s - loss: 0.5725 - acc: 0.764 - ETA: 2s - loss: 0.5732 - acc: 0.763 - ETA: 2s - loss: 0.5761 - acc: 0.759 - ETA: 2s - loss: 0.5787 - acc: 0.759 - ETA: 2s - loss: 0.5780 - acc: 0.759 - ETA: 2s - loss: 0.5785 - acc: 0.757 - ETA: 2s - loss: 0.5771 - acc: 0.759 - ETA: 1s - loss: 0.5831 - acc: 0.756 - ETA: 1s - loss: 0.5840 - acc: 0.756 - ETA: 1s - loss: 0.5844 - acc: 0.756 - ETA: 1s - loss: 0.5807 - acc: 0.757 - ETA: 1s - loss: 0.5813 - acc: 0.757 - ETA: 1s - loss: 0.5797 - acc: 0.758 - ETA: 1s - loss: 0.5795 - acc: 0.758 - ETA: 1s - loss: 0.5779 - acc: 0.759 - ETA: 1s - loss: 0.5757 - acc: 0.759 - ETA: 1s - loss: 0.5754 - acc: 0.759 - ETA: 1s - loss: 0.5778 - acc: 0.760 - ETA: 1s - loss: 0.5753 - acc: 0.761 - ETA: 1s - loss: 0.5791 - acc: 0.760 - ETA: 1s - loss: 0.5788 - acc: 0.760 - ETA: 0s - loss: 0.5788 - acc: 0.759 - ETA: 0s - loss: 0.5790 - acc: 0.759 - ETA: 0s - loss: 0.5803 - acc: 0.757 - ETA: 0s - loss: 0.5776 - acc: 0.760 - ETA: 0s - loss: 0.5751 - acc: 0.761 - ETA: 0s - loss: 0.5735 - acc: 0.762 - ETA: 0s - loss: 0.5738 - acc: 0.761 - ETA: 0s - loss: 0.5718 - acc: 0.761 - ETA: 0s - loss: 0.5778 - acc: 0.757 - ETA: 0s - loss: 0.5806 - acc: 0.756 - ETA: 0s - loss: 0.5804 - acc: 0.756 - ETA: 0s - loss: 0.5806 - acc: 0.756 - ETA: 0s - loss: 0.5819 - acc: 0.7566Epoch 00018: val_loss did not improve\n",
      "2000/2000 [==============================] - 7s - loss: 0.5819 - acc: 0.7560 - val_loss: 0.9947 - val_acc: 0.6133\n",
      "Epoch 20/30\n",
      "1980/2000 [============================>.] - ETA: 6s - loss: 0.5012 - acc: 0.850 - ETA: 6s - loss: 0.5229 - acc: 0.775 - ETA: 6s - loss: 0.5540 - acc: 0.750 - ETA: 6s - loss: 0.5399 - acc: 0.750 - ETA: 6s - loss: 0.5154 - acc: 0.770 - ETA: 6s - loss: 0.5345 - acc: 0.750 - ETA: 6s - loss: 0.5404 - acc: 0.742 - ETA: 6s - loss: 0.5409 - acc: 0.743 - ETA: 6s - loss: 0.5377 - acc: 0.738 - ETA: 6s - loss: 0.5385 - acc: 0.740 - ETA: 6s - loss: 0.5171 - acc: 0.750 - ETA: 6s - loss: 0.5225 - acc: 0.754 - ETA: 6s - loss: 0.5269 - acc: 0.753 - ETA: 6s - loss: 0.5267 - acc: 0.757 - ETA: 6s - loss: 0.5204 - acc: 0.766 - ETA: 5s - loss: 0.5268 - acc: 0.765 - ETA: 5s - loss: 0.5335 - acc: 0.764 - ETA: 5s - loss: 0.5493 - acc: 0.763 - ETA: 5s - loss: 0.5509 - acc: 0.765 - ETA: 5s - loss: 0.5506 - acc: 0.765 - ETA: 5s - loss: 0.5563 - acc: 0.759 - ETA: 5s - loss: 0.5525 - acc: 0.761 - ETA: 5s - loss: 0.5518 - acc: 0.760 - ETA: 5s - loss: 0.5607 - acc: 0.752 - ETA: 5s - loss: 0.5688 - acc: 0.748 - ETA: 5s - loss: 0.5719 - acc: 0.746 - ETA: 5s - loss: 0.5719 - acc: 0.744 - ETA: 5s - loss: 0.5739 - acc: 0.742 - ETA: 5s - loss: 0.5703 - acc: 0.743 - ETA: 4s - loss: 0.5718 - acc: 0.743 - ETA: 4s - loss: 0.5699 - acc: 0.741 - ETA: 4s - loss: 0.5660 - acc: 0.748 - ETA: 4s - loss: 0.5614 - acc: 0.751 - ETA: 4s - loss: 0.5579 - acc: 0.754 - ETA: 4s - loss: 0.5552 - acc: 0.755 - ETA: 4s - loss: 0.5532 - acc: 0.756 - ETA: 4s - loss: 0.5529 - acc: 0.756 - ETA: 4s - loss: 0.5493 - acc: 0.757 - ETA: 4s - loss: 0.5529 - acc: 0.757 - ETA: 4s - loss: 0.5586 - acc: 0.756 - ETA: 4s - loss: 0.5634 - acc: 0.752 - ETA: 4s - loss: 0.5686 - acc: 0.747 - ETA: 4s - loss: 0.5669 - acc: 0.750 - ETA: 3s - loss: 0.5696 - acc: 0.748 - ETA: 3s - loss: 0.5669 - acc: 0.752 - ETA: 3s - loss: 0.5705 - acc: 0.750 - ETA: 3s - loss: 0.5757 - acc: 0.747 - ETA: 3s - loss: 0.5753 - acc: 0.749 - ETA: 3s - loss: 0.5731 - acc: 0.750 - ETA: 3s - loss: 0.5724 - acc: 0.751 - ETA: 3s - loss: 0.5716 - acc: 0.749 - ETA: 3s - loss: 0.5704 - acc: 0.750 - ETA: 3s - loss: 0.5735 - acc: 0.749 - ETA: 3s - loss: 0.5728 - acc: 0.750 - ETA: 3s - loss: 0.5750 - acc: 0.748 - ETA: 3s - loss: 0.5731 - acc: 0.748 - ETA: 3s - loss: 0.5702 - acc: 0.750 - ETA: 2s - loss: 0.5672 - acc: 0.750 - ETA: 2s - loss: 0.5646 - acc: 0.750 - ETA: 2s - loss: 0.5676 - acc: 0.750 - ETA: 2s - loss: 0.5695 - acc: 0.750 - ETA: 2s - loss: 0.5692 - acc: 0.750 - ETA: 2s - loss: 0.5715 - acc: 0.750 - ETA: 2s - loss: 0.5730 - acc: 0.750 - ETA: 2s - loss: 0.5734 - acc: 0.751 - ETA: 2s - loss: 0.5709 - acc: 0.751 - ETA: 2s - loss: 0.5687 - acc: 0.752 - ETA: 2s - loss: 0.5666 - acc: 0.752 - ETA: 2s - loss: 0.5661 - acc: 0.754 - ETA: 2s - loss: 0.5634 - acc: 0.757 - ETA: 2s - loss: 0.5612 - acc: 0.758 - ETA: 1s - loss: 0.5631 - acc: 0.756 - ETA: 1s - loss: 0.5653 - acc: 0.754 - ETA: 1s - loss: 0.5647 - acc: 0.754 - ETA: 1s - loss: 0.5654 - acc: 0.752 - ETA: 1s - loss: 0.5661 - acc: 0.752 - ETA: 1s - loss: 0.5632 - acc: 0.754 - ETA: 1s - loss: 0.5621 - acc: 0.756 - ETA: 1s - loss: 0.5619 - acc: 0.755 - ETA: 1s - loss: 0.5637 - acc: 0.754 - ETA: 1s - loss: 0.5604 - acc: 0.756 - ETA: 1s - loss: 0.5595 - acc: 0.756 - ETA: 1s - loss: 0.5617 - acc: 0.755 - ETA: 1s - loss: 0.5608 - acc: 0.756 - ETA: 1s - loss: 0.5585 - acc: 0.757 - ETA: 0s - loss: 0.5591 - acc: 0.757 - ETA: 0s - loss: 0.5608 - acc: 0.755 - ETA: 0s - loss: 0.5599 - acc: 0.755 - ETA: 0s - loss: 0.5606 - acc: 0.755 - ETA: 0s - loss: 0.5616 - acc: 0.755 - ETA: 0s - loss: 0.5596 - acc: 0.757 - ETA: 0s - loss: 0.5591 - acc: 0.757 - ETA: 0s - loss: 0.5610 - acc: 0.755 - ETA: 0s - loss: 0.5595 - acc: 0.757 - ETA: 0s - loss: 0.5581 - acc: 0.757 - ETA: 0s - loss: 0.5595 - acc: 0.756 - ETA: 0s - loss: 0.5599 - acc: 0.756 - ETA: 0s - loss: 0.5606 - acc: 0.756 - ETA: 0s - loss: 0.5601 - acc: 0.7571Epoch 00019: val_loss did not improve\n",
      "2000/2000 [==============================] - 7s - loss: 0.5581 - acc: 0.7585 - val_loss: 0.8556 - val_acc: 0.6400\n",
      "Epoch 21/30\n"
     ]
    },
    {
     "name": "stdout",
     "output_type": "stream",
     "text": [
      "1980/2000 [============================>.] - ETA: 6s - loss: 0.4746 - acc: 0.700 - ETA: 6s - loss: 0.3806 - acc: 0.800 - ETA: 6s - loss: 0.4740 - acc: 0.733 - ETA: 6s - loss: 0.4598 - acc: 0.762 - ETA: 6s - loss: 0.5821 - acc: 0.740 - ETA: 6s - loss: 0.6135 - acc: 0.733 - ETA: 6s - loss: 0.5739 - acc: 0.750 - ETA: 6s - loss: 0.5796 - acc: 0.743 - ETA: 6s - loss: 0.5568 - acc: 0.755 - ETA: 6s - loss: 0.5286 - acc: 0.770 - ETA: 6s - loss: 0.5328 - acc: 0.772 - ETA: 6s - loss: 0.5362 - acc: 0.766 - ETA: 6s - loss: 0.5356 - acc: 0.765 - ETA: 6s - loss: 0.5238 - acc: 0.771 - ETA: 5s - loss: 0.5223 - acc: 0.773 - ETA: 5s - loss: 0.5078 - acc: 0.781 - ETA: 5s - loss: 0.4957 - acc: 0.788 - ETA: 5s - loss: 0.4995 - acc: 0.788 - ETA: 5s - loss: 0.5053 - acc: 0.786 - ETA: 5s - loss: 0.5053 - acc: 0.782 - ETA: 5s - loss: 0.5043 - acc: 0.778 - ETA: 5s - loss: 0.5161 - acc: 0.768 - ETA: 5s - loss: 0.5173 - acc: 0.767 - ETA: 5s - loss: 0.5201 - acc: 0.766 - ETA: 5s - loss: 0.5207 - acc: 0.770 - ETA: 5s - loss: 0.5263 - acc: 0.769 - ETA: 5s - loss: 0.5289 - acc: 0.764 - ETA: 5s - loss: 0.5213 - acc: 0.767 - ETA: 5s - loss: 0.5129 - acc: 0.772 - ETA: 4s - loss: 0.5316 - acc: 0.768 - ETA: 4s - loss: 0.5337 - acc: 0.766 - ETA: 4s - loss: 0.5272 - acc: 0.771 - ETA: 4s - loss: 0.5225 - acc: 0.772 - ETA: 4s - loss: 0.5320 - acc: 0.769 - ETA: 4s - loss: 0.5386 - acc: 0.765 - ETA: 4s - loss: 0.5379 - acc: 0.763 - ETA: 4s - loss: 0.5417 - acc: 0.759 - ETA: 4s - loss: 0.5483 - acc: 0.755 - ETA: 4s - loss: 0.5456 - acc: 0.756 - ETA: 4s - loss: 0.5473 - acc: 0.755 - ETA: 4s - loss: 0.5522 - acc: 0.751 - ETA: 4s - loss: 0.5504 - acc: 0.752 - ETA: 4s - loss: 0.5510 - acc: 0.753 - ETA: 3s - loss: 0.5495 - acc: 0.754 - ETA: 3s - loss: 0.5483 - acc: 0.754 - ETA: 3s - loss: 0.5465 - acc: 0.755 - ETA: 3s - loss: 0.5473 - acc: 0.755 - ETA: 3s - loss: 0.5484 - acc: 0.755 - ETA: 3s - loss: 0.5466 - acc: 0.755 - ETA: 3s - loss: 0.5449 - acc: 0.755 - ETA: 3s - loss: 0.5435 - acc: 0.755 - ETA: 3s - loss: 0.5413 - acc: 0.756 - ETA: 3s - loss: 0.5424 - acc: 0.754 - ETA: 3s - loss: 0.5427 - acc: 0.753 - ETA: 3s - loss: 0.5486 - acc: 0.753 - ETA: 3s - loss: 0.5514 - acc: 0.753 - ETA: 3s - loss: 0.5511 - acc: 0.753 - ETA: 2s - loss: 0.5487 - acc: 0.754 - ETA: 2s - loss: 0.5490 - acc: 0.755 - ETA: 2s - loss: 0.5493 - acc: 0.755 - ETA: 2s - loss: 0.5499 - acc: 0.754 - ETA: 2s - loss: 0.5501 - acc: 0.756 - ETA: 2s - loss: 0.5487 - acc: 0.756 - ETA: 2s - loss: 0.5498 - acc: 0.755 - ETA: 2s - loss: 0.5485 - acc: 0.756 - ETA: 2s - loss: 0.5496 - acc: 0.754 - ETA: 2s - loss: 0.5498 - acc: 0.756 - ETA: 2s - loss: 0.5505 - acc: 0.754 - ETA: 2s - loss: 0.5517 - acc: 0.755 - ETA: 2s - loss: 0.5492 - acc: 0.757 - ETA: 2s - loss: 0.5467 - acc: 0.757 - ETA: 1s - loss: 0.5446 - acc: 0.759 - ETA: 1s - loss: 0.5475 - acc: 0.758 - ETA: 1s - loss: 0.5462 - acc: 0.758 - ETA: 1s - loss: 0.5479 - acc: 0.757 - ETA: 1s - loss: 0.5472 - acc: 0.758 - ETA: 1s - loss: 0.5474 - acc: 0.757 - ETA: 1s - loss: 0.5521 - acc: 0.755 - ETA: 1s - loss: 0.5559 - acc: 0.752 - ETA: 1s - loss: 0.5548 - acc: 0.754 - ETA: 1s - loss: 0.5601 - acc: 0.751 - ETA: 1s - loss: 0.5591 - acc: 0.752 - ETA: 1s - loss: 0.5565 - acc: 0.753 - ETA: 1s - loss: 0.5581 - acc: 0.752 - ETA: 1s - loss: 0.5599 - acc: 0.752 - ETA: 0s - loss: 0.5577 - acc: 0.754 - ETA: 0s - loss: 0.5565 - acc: 0.754 - ETA: 0s - loss: 0.5562 - acc: 0.755 - ETA: 0s - loss: 0.5537 - acc: 0.756 - ETA: 0s - loss: 0.5540 - acc: 0.756 - ETA: 0s - loss: 0.5534 - acc: 0.756 - ETA: 0s - loss: 0.5514 - acc: 0.757 - ETA: 0s - loss: 0.5497 - acc: 0.758 - ETA: 0s - loss: 0.5482 - acc: 0.758 - ETA: 0s - loss: 0.5495 - acc: 0.756 - ETA: 0s - loss: 0.5484 - acc: 0.757 - ETA: 0s - loss: 0.5472 - acc: 0.758 - ETA: 0s - loss: 0.5487 - acc: 0.758 - ETA: 0s - loss: 0.5516 - acc: 0.7561Epoch 00020: val_loss did not improve\n",
      "2000/2000 [==============================] - 7s - loss: 0.5504 - acc: 0.7565 - val_loss: 1.1741 - val_acc: 0.6067\n",
      "Epoch 22/30\n",
      "1980/2000 [============================>.] - ETA: 6s - loss: 0.3850 - acc: 0.800 - ETA: 6s - loss: 0.4472 - acc: 0.800 - ETA: 6s - loss: 0.4073 - acc: 0.833 - ETA: 6s - loss: 0.3761 - acc: 0.850 - ETA: 6s - loss: 0.3504 - acc: 0.860 - ETA: 6s - loss: 0.3755 - acc: 0.850 - ETA: 6s - loss: 0.4179 - acc: 0.828 - ETA: 6s - loss: 0.4318 - acc: 0.812 - ETA: 6s - loss: 0.4142 - acc: 0.822 - ETA: 6s - loss: 0.4328 - acc: 0.815 - ETA: 6s - loss: 0.4519 - acc: 0.804 - ETA: 6s - loss: 0.4921 - acc: 0.775 - ETA: 6s - loss: 0.4900 - acc: 0.773 - ETA: 6s - loss: 0.4882 - acc: 0.767 - ETA: 6s - loss: 0.4921 - acc: 0.773 - ETA: 5s - loss: 0.4803 - acc: 0.778 - ETA: 5s - loss: 0.4811 - acc: 0.776 - ETA: 5s - loss: 0.4784 - acc: 0.780 - ETA: 5s - loss: 0.4786 - acc: 0.778 - ETA: 5s - loss: 0.4808 - acc: 0.775 - ETA: 5s - loss: 0.4878 - acc: 0.766 - ETA: 5s - loss: 0.4908 - acc: 0.768 - ETA: 5s - loss: 0.5057 - acc: 0.765 - ETA: 5s - loss: 0.5133 - acc: 0.760 - ETA: 5s - loss: 0.5161 - acc: 0.766 - ETA: 5s - loss: 0.5095 - acc: 0.765 - ETA: 5s - loss: 0.5155 - acc: 0.761 - ETA: 5s - loss: 0.5109 - acc: 0.764 - ETA: 5s - loss: 0.5098 - acc: 0.767 - ETA: 4s - loss: 0.5099 - acc: 0.770 - ETA: 4s - loss: 0.5073 - acc: 0.772 - ETA: 4s - loss: 0.5126 - acc: 0.775 - ETA: 4s - loss: 0.5078 - acc: 0.778 - ETA: 4s - loss: 0.5100 - acc: 0.773 - ETA: 4s - loss: 0.5082 - acc: 0.774 - ETA: 4s - loss: 0.5029 - acc: 0.779 - ETA: 4s - loss: 0.4998 - acc: 0.779 - ETA: 4s - loss: 0.4969 - acc: 0.782 - ETA: 4s - loss: 0.4998 - acc: 0.782 - ETA: 4s - loss: 0.5054 - acc: 0.780 - ETA: 4s - loss: 0.5163 - acc: 0.778 - ETA: 4s - loss: 0.5146 - acc: 0.782 - ETA: 4s - loss: 0.5110 - acc: 0.783 - ETA: 3s - loss: 0.5129 - acc: 0.783 - ETA: 3s - loss: 0.5156 - acc: 0.782 - ETA: 3s - loss: 0.5147 - acc: 0.782 - ETA: 3s - loss: 0.5108 - acc: 0.785 - ETA: 3s - loss: 0.5149 - acc: 0.786 - ETA: 3s - loss: 0.5168 - acc: 0.783 - ETA: 3s - loss: 0.5185 - acc: 0.782 - ETA: 3s - loss: 0.5180 - acc: 0.781 - ETA: 3s - loss: 0.5172 - acc: 0.781 - ETA: 3s - loss: 0.5153 - acc: 0.782 - ETA: 3s - loss: 0.5168 - acc: 0.781 - ETA: 3s - loss: 0.5147 - acc: 0.783 - ETA: 3s - loss: 0.5185 - acc: 0.782 - ETA: 3s - loss: 0.5210 - acc: 0.779 - ETA: 2s - loss: 0.5167 - acc: 0.781 - ETA: 2s - loss: 0.5155 - acc: 0.782 - ETA: 2s - loss: 0.5172 - acc: 0.780 - ETA: 2s - loss: 0.5175 - acc: 0.781 - ETA: 2s - loss: 0.5160 - acc: 0.781 - ETA: 2s - loss: 0.5152 - acc: 0.783 - ETA: 2s - loss: 0.5142 - acc: 0.784 - ETA: 2s - loss: 0.5138 - acc: 0.784 - ETA: 2s - loss: 0.5204 - acc: 0.783 - ETA: 2s - loss: 0.5216 - acc: 0.782 - ETA: 2s - loss: 0.5249 - acc: 0.780 - ETA: 2s - loss: 0.5235 - acc: 0.780 - ETA: 2s - loss: 0.5184 - acc: 0.782 - ETA: 2s - loss: 0.5272 - acc: 0.781 - ETA: 1s - loss: 0.5310 - acc: 0.780 - ETA: 1s - loss: 0.5295 - acc: 0.782 - ETA: 1s - loss: 0.5324 - acc: 0.781 - ETA: 1s - loss: 0.5396 - acc: 0.779 - ETA: 1s - loss: 0.5441 - acc: 0.777 - ETA: 1s - loss: 0.5422 - acc: 0.778 - ETA: 1s - loss: 0.5433 - acc: 0.778 - ETA: 1s - loss: 0.5442 - acc: 0.778 - ETA: 1s - loss: 0.5452 - acc: 0.778 - ETA: 1s - loss: 0.5467 - acc: 0.777 - ETA: 1s - loss: 0.5469 - acc: 0.777 - ETA: 1s - loss: 0.5466 - acc: 0.777 - ETA: 1s - loss: 0.5440 - acc: 0.779 - ETA: 1s - loss: 0.5435 - acc: 0.779 - ETA: 0s - loss: 0.5454 - acc: 0.777 - ETA: 0s - loss: 0.5428 - acc: 0.779 - ETA: 0s - loss: 0.5404 - acc: 0.780 - ETA: 0s - loss: 0.5429 - acc: 0.779 - ETA: 0s - loss: 0.5439 - acc: 0.779 - ETA: 0s - loss: 0.5406 - acc: 0.781 - ETA: 0s - loss: 0.5374 - acc: 0.782 - ETA: 0s - loss: 0.5413 - acc: 0.781 - ETA: 0s - loss: 0.5398 - acc: 0.781 - ETA: 0s - loss: 0.5406 - acc: 0.780 - ETA: 0s - loss: 0.5384 - acc: 0.781 - ETA: 0s - loss: 0.5388 - acc: 0.779 - ETA: 0s - loss: 0.5407 - acc: 0.779 - ETA: 0s - loss: 0.5396 - acc: 0.7803Epoch 00021: val_loss did not improve\n",
      "2000/2000 [==============================] - 7s - loss: 0.5406 - acc: 0.7790 - val_loss: 1.0004 - val_acc: 0.6200\n",
      "Epoch 23/30\n",
      "1980/2000 [============================>.] - ETA: 6s - loss: 0.8449 - acc: 0.650 - ETA: 6s - loss: 0.7077 - acc: 0.700 - ETA: 6s - loss: 0.5975 - acc: 0.733 - ETA: 6s - loss: 0.5221 - acc: 0.775 - ETA: 6s - loss: 0.5755 - acc: 0.760 - ETA: 6s - loss: 0.5801 - acc: 0.750 - ETA: 6s - loss: 0.5816 - acc: 0.750 - ETA: 6s - loss: 0.6024 - acc: 0.737 - ETA: 6s - loss: 0.6031 - acc: 0.727 - ETA: 6s - loss: 0.5831 - acc: 0.745 - ETA: 6s - loss: 0.5804 - acc: 0.745 - ETA: 6s - loss: 0.5583 - acc: 0.758 - ETA: 6s - loss: 0.5753 - acc: 0.753 - ETA: 6s - loss: 0.5884 - acc: 0.753 - ETA: 6s - loss: 0.5915 - acc: 0.750 - ETA: 5s - loss: 0.5790 - acc: 0.759 - ETA: 5s - loss: 0.5768 - acc: 0.764 - ETA: 5s - loss: 0.5629 - acc: 0.772 - ETA: 5s - loss: 0.5531 - acc: 0.776 - ETA: 5s - loss: 0.5385 - acc: 0.782 - ETA: 5s - loss: 0.5339 - acc: 0.783 - ETA: 5s - loss: 0.5355 - acc: 0.781 - ETA: 5s - loss: 0.5340 - acc: 0.780 - ETA: 5s - loss: 0.5444 - acc: 0.779 - ETA: 5s - loss: 0.5351 - acc: 0.784 - ETA: 5s - loss: 0.5308 - acc: 0.786 - ETA: 5s - loss: 0.5252 - acc: 0.790 - ETA: 5s - loss: 0.5166 - acc: 0.794 - ETA: 5s - loss: 0.5192 - acc: 0.793 - ETA: 4s - loss: 0.5143 - acc: 0.795 - ETA: 4s - loss: 0.5183 - acc: 0.795 - ETA: 4s - loss: 0.5213 - acc: 0.795 - ETA: 4s - loss: 0.5235 - acc: 0.793 - ETA: 4s - loss: 0.5382 - acc: 0.794 - ETA: 4s - loss: 0.5375 - acc: 0.792 - ETA: 4s - loss: 0.5379 - acc: 0.791 - ETA: 4s - loss: 0.5419 - acc: 0.789 - ETA: 4s - loss: 0.5431 - acc: 0.789 - ETA: 4s - loss: 0.5405 - acc: 0.792 - ETA: 4s - loss: 0.5407 - acc: 0.791 - ETA: 4s - loss: 0.5428 - acc: 0.790 - ETA: 4s - loss: 0.5443 - acc: 0.786 - ETA: 4s - loss: 0.5413 - acc: 0.787 - ETA: 3s - loss: 0.5498 - acc: 0.785 - ETA: 3s - loss: 0.5549 - acc: 0.780 - ETA: 3s - loss: 0.5541 - acc: 0.783 - ETA: 3s - loss: 0.5536 - acc: 0.784 - ETA: 3s - loss: 0.5603 - acc: 0.781 - ETA: 3s - loss: 0.5560 - acc: 0.783 - ETA: 3s - loss: 0.5598 - acc: 0.784 - ETA: 3s - loss: 0.5606 - acc: 0.783 - ETA: 3s - loss: 0.5615 - acc: 0.780 - ETA: 3s - loss: 0.5664 - acc: 0.780 - ETA: 3s - loss: 0.5697 - acc: 0.776 - ETA: 3s - loss: 0.5717 - acc: 0.775 - ETA: 3s - loss: 0.5659 - acc: 0.775 - ETA: 3s - loss: 0.5649 - acc: 0.774 - ETA: 2s - loss: 0.5643 - acc: 0.774 - ETA: 2s - loss: 0.5640 - acc: 0.774 - ETA: 2s - loss: 0.5641 - acc: 0.775 - ETA: 2s - loss: 0.5668 - acc: 0.774 - ETA: 2s - loss: 0.5696 - acc: 0.772 - ETA: 2s - loss: 0.5663 - acc: 0.774 - ETA: 2s - loss: 0.5645 - acc: 0.775 - ETA: 2s - loss: 0.5614 - acc: 0.777 - ETA: 2s - loss: 0.5655 - acc: 0.776 - ETA: 2s - loss: 0.5624 - acc: 0.778 - ETA: 2s - loss: 0.5630 - acc: 0.779 - ETA: 2s - loss: 0.5578 - acc: 0.781 - ETA: 2s - loss: 0.5521 - acc: 0.784 - ETA: 2s - loss: 0.5491 - acc: 0.785 - ETA: 1s - loss: 0.5535 - acc: 0.784 - ETA: 1s - loss: 0.5517 - acc: 0.784 - ETA: 1s - loss: 0.5498 - acc: 0.785 - ETA: 1s - loss: 0.5494 - acc: 0.785 - ETA: 1s - loss: 0.5482 - acc: 0.785 - ETA: 1s - loss: 0.5492 - acc: 0.783 - ETA: 1s - loss: 0.5481 - acc: 0.782 - ETA: 1s - loss: 0.5450 - acc: 0.784 - ETA: 1s - loss: 0.5425 - acc: 0.785 - ETA: 1s - loss: 0.5400 - acc: 0.787 - ETA: 1s - loss: 0.5395 - acc: 0.786 - ETA: 1s - loss: 0.5385 - acc: 0.786 - ETA: 1s - loss: 0.5387 - acc: 0.786 - ETA: 1s - loss: 0.5394 - acc: 0.786 - ETA: 0s - loss: 0.5373 - acc: 0.786 - ETA: 0s - loss: 0.5389 - acc: 0.785 - ETA: 0s - loss: 0.5381 - acc: 0.785 - ETA: 0s - loss: 0.5348 - acc: 0.786 - ETA: 0s - loss: 0.5348 - acc: 0.787 - ETA: 0s - loss: 0.5418 - acc: 0.786 - ETA: 0s - loss: 0.5406 - acc: 0.787 - ETA: 0s - loss: 0.5414 - acc: 0.787 - ETA: 0s - loss: 0.5424 - acc: 0.787 - ETA: 0s - loss: 0.5414 - acc: 0.786 - ETA: 0s - loss: 0.5432 - acc: 0.784 - ETA: 0s - loss: 0.5435 - acc: 0.784 - ETA: 0s - loss: 0.5431 - acc: 0.784 - ETA: 0s - loss: 0.5430 - acc: 0.7833Epoch 00022: val_loss did not improve\n",
      "2000/2000 [==============================] - 7s - loss: 0.5425 - acc: 0.7840 - val_loss: 0.8541 - val_acc: 0.6800\n",
      "Epoch 24/30\n",
      "1980/2000 [============================>.] - ETA: 6s - loss: 0.6856 - acc: 0.850 - ETA: 6s - loss: 0.5259 - acc: 0.850 - ETA: 6s - loss: 0.4852 - acc: 0.833 - ETA: 6s - loss: 0.4674 - acc: 0.850 - ETA: 6s - loss: 0.4021 - acc: 0.880 - ETA: 6s - loss: 0.4076 - acc: 0.883 - ETA: 6s - loss: 0.4342 - acc: 0.871 - ETA: 6s - loss: 0.4636 - acc: 0.843 - ETA: 6s - loss: 0.4797 - acc: 0.822 - ETA: 6s - loss: 0.4821 - acc: 0.820 - ETA: 6s - loss: 0.4592 - acc: 0.831 - ETA: 6s - loss: 0.4821 - acc: 0.820 - ETA: 6s - loss: 0.5046 - acc: 0.807 - ETA: 6s - loss: 0.5087 - acc: 0.807 - ETA: 6s - loss: 0.4966 - acc: 0.816 - ETA: 5s - loss: 0.4887 - acc: 0.821 - ETA: 5s - loss: 0.4905 - acc: 0.826 - ETA: 5s - loss: 0.4881 - acc: 0.825 - ETA: 5s - loss: 0.5015 - acc: 0.815 - ETA: 5s - loss: 0.4967 - acc: 0.817 - ETA: 5s - loss: 0.4851 - acc: 0.821 - ETA: 5s - loss: 0.4759 - acc: 0.822 - ETA: 5s - loss: 0.4759 - acc: 0.819 - ETA: 5s - loss: 0.4810 - acc: 0.816 - ETA: 5s - loss: 0.4877 - acc: 0.814 - ETA: 5s - loss: 0.4819 - acc: 0.815 - ETA: 5s - loss: 0.4867 - acc: 0.813 - ETA: 5s - loss: 0.4936 - acc: 0.808 - ETA: 5s - loss: 0.4896 - acc: 0.813 - ETA: 4s - loss: 0.4928 - acc: 0.808 - ETA: 4s - loss: 0.4941 - acc: 0.804 - ETA: 4s - loss: 0.5008 - acc: 0.801 - ETA: 4s - loss: 0.4986 - acc: 0.804 - ETA: 4s - loss: 0.4945 - acc: 0.805 - ETA: 4s - loss: 0.4895 - acc: 0.807 - ETA: 4s - loss: 0.4920 - acc: 0.806 - ETA: 4s - loss: 0.4933 - acc: 0.804 - ETA: 4s - loss: 0.4879 - acc: 0.806 - ETA: 4s - loss: 0.4905 - acc: 0.806 - ETA: 4s - loss: 0.4951 - acc: 0.806 - ETA: 4s - loss: 0.5027 - acc: 0.804 - ETA: 4s - loss: 0.5078 - acc: 0.802 - ETA: 4s - loss: 0.5090 - acc: 0.801 - ETA: 3s - loss: 0.5101 - acc: 0.800 - ETA: 3s - loss: 0.5068 - acc: 0.801 - ETA: 3s - loss: 0.5136 - acc: 0.798 - ETA: 3s - loss: 0.5163 - acc: 0.795 - ETA: 3s - loss: 0.5183 - acc: 0.790 - ETA: 3s - loss: 0.5201 - acc: 0.789 - ETA: 3s - loss: 0.5219 - acc: 0.789 - ETA: 3s - loss: 0.5276 - acc: 0.786 - ETA: 3s - loss: 0.5278 - acc: 0.786 - ETA: 3s - loss: 0.5279 - acc: 0.785 - ETA: 3s - loss: 0.5255 - acc: 0.786 - ETA: 3s - loss: 0.5229 - acc: 0.787 - ETA: 3s - loss: 0.5239 - acc: 0.786 - ETA: 3s - loss: 0.5229 - acc: 0.786 - ETA: 2s - loss: 0.5238 - acc: 0.785 - ETA: 2s - loss: 0.5226 - acc: 0.788 - ETA: 2s - loss: 0.5246 - acc: 0.786 - ETA: 2s - loss: 0.5236 - acc: 0.787 - ETA: 2s - loss: 0.5234 - acc: 0.787 - ETA: 2s - loss: 0.5232 - acc: 0.786 - ETA: 2s - loss: 0.5258 - acc: 0.785 - ETA: 2s - loss: 0.5259 - acc: 0.786 - ETA: 2s - loss: 0.5213 - acc: 0.789 - ETA: 2s - loss: 0.5206 - acc: 0.789 - ETA: 2s - loss: 0.5242 - acc: 0.787 - ETA: 2s - loss: 0.5226 - acc: 0.787 - ETA: 2s - loss: 0.5215 - acc: 0.787 - ETA: 2s - loss: 0.5200 - acc: 0.788 - ETA: 2s - loss: 0.5250 - acc: 0.786 - ETA: 1s - loss: 0.5238 - acc: 0.786 - ETA: 1s - loss: 0.5211 - acc: 0.787 - ETA: 1s - loss: 0.5226 - acc: 0.786 - ETA: 1s - loss: 0.5208 - acc: 0.786 - ETA: 1s - loss: 0.5230 - acc: 0.785 - ETA: 1s - loss: 0.5248 - acc: 0.784 - ETA: 1s - loss: 0.5251 - acc: 0.784 - ETA: 1s - loss: 0.5237 - acc: 0.786 - ETA: 1s - loss: 0.5241 - acc: 0.787 - ETA: 1s - loss: 0.5257 - acc: 0.784 - ETA: 1s - loss: 0.5224 - acc: 0.786 - ETA: 1s - loss: 0.5184 - acc: 0.789 - ETA: 1s - loss: 0.5189 - acc: 0.788 - ETA: 1s - loss: 0.5184 - acc: 0.789 - ETA: 0s - loss: 0.5165 - acc: 0.790 - ETA: 0s - loss: 0.5148 - acc: 0.791 - ETA: 0s - loss: 0.5149 - acc: 0.791 - ETA: 0s - loss: 0.5150 - acc: 0.790 - ETA: 0s - loss: 0.5143 - acc: 0.791 - ETA: 0s - loss: 0.5127 - acc: 0.792 - ETA: 0s - loss: 0.5136 - acc: 0.792 - ETA: 0s - loss: 0.5128 - acc: 0.793 - ETA: 0s - loss: 0.5128 - acc: 0.794 - ETA: 0s - loss: 0.5147 - acc: 0.793 - ETA: 0s - loss: 0.5128 - acc: 0.793 - ETA: 0s - loss: 0.5105 - acc: 0.795 - ETA: 0s - loss: 0.5135 - acc: 0.7939Epoch 00023: val_loss did not improve\n",
      "2000/2000 [==============================] - 7s - loss: 0.5152 - acc: 0.7925 - val_loss: 0.9154 - val_acc: 0.6133\n",
      "Epoch 25/30\n"
     ]
    },
    {
     "name": "stdout",
     "output_type": "stream",
     "text": [
      "1980/2000 [============================>.] - ETA: 6s - loss: 0.5090 - acc: 0.800 - ETA: 6s - loss: 0.4946 - acc: 0.775 - ETA: 6s - loss: 0.4688 - acc: 0.766 - ETA: 6s - loss: 0.4686 - acc: 0.762 - ETA: 6s - loss: 0.5116 - acc: 0.750 - ETA: 6s - loss: 0.5638 - acc: 0.741 - ETA: 6s - loss: 0.5446 - acc: 0.757 - ETA: 6s - loss: 0.6526 - acc: 0.743 - ETA: 6s - loss: 0.6473 - acc: 0.744 - ETA: 6s - loss: 0.6089 - acc: 0.760 - ETA: 6s - loss: 0.5811 - acc: 0.777 - ETA: 6s - loss: 0.5659 - acc: 0.779 - ETA: 6s - loss: 0.5556 - acc: 0.784 - ETA: 6s - loss: 0.5662 - acc: 0.782 - ETA: 6s - loss: 0.5703 - acc: 0.786 - ETA: 6s - loss: 0.5647 - acc: 0.787 - ETA: 5s - loss: 0.5590 - acc: 0.785 - ETA: 5s - loss: 0.5482 - acc: 0.791 - ETA: 5s - loss: 0.5478 - acc: 0.789 - ETA: 5s - loss: 0.5388 - acc: 0.792 - ETA: 5s - loss: 0.5370 - acc: 0.795 - ETA: 5s - loss: 0.5390 - acc: 0.795 - ETA: 5s - loss: 0.5597 - acc: 0.789 - ETA: 5s - loss: 0.5585 - acc: 0.787 - ETA: 5s - loss: 0.5549 - acc: 0.788 - ETA: 5s - loss: 0.5563 - acc: 0.784 - ETA: 5s - loss: 0.5536 - acc: 0.787 - ETA: 5s - loss: 0.5513 - acc: 0.787 - ETA: 5s - loss: 0.5518 - acc: 0.784 - ETA: 4s - loss: 0.5600 - acc: 0.780 - ETA: 4s - loss: 0.5518 - acc: 0.782 - ETA: 4s - loss: 0.5513 - acc: 0.784 - ETA: 4s - loss: 0.5426 - acc: 0.787 - ETA: 4s - loss: 0.5404 - acc: 0.788 - ETA: 4s - loss: 0.5350 - acc: 0.791 - ETA: 4s - loss: 0.5334 - acc: 0.791 - ETA: 4s - loss: 0.5287 - acc: 0.793 - ETA: 4s - loss: 0.5238 - acc: 0.794 - ETA: 4s - loss: 0.5222 - acc: 0.794 - ETA: 4s - loss: 0.5229 - acc: 0.793 - ETA: 4s - loss: 0.5220 - acc: 0.793 - ETA: 4s - loss: 0.5276 - acc: 0.792 - ETA: 4s - loss: 0.5288 - acc: 0.795 - ETA: 3s - loss: 0.5304 - acc: 0.790 - ETA: 3s - loss: 0.5315 - acc: 0.791 - ETA: 3s - loss: 0.5316 - acc: 0.791 - ETA: 3s - loss: 0.5286 - acc: 0.792 - ETA: 3s - loss: 0.5288 - acc: 0.791 - ETA: 3s - loss: 0.5277 - acc: 0.791 - ETA: 3s - loss: 0.5245 - acc: 0.793 - ETA: 3s - loss: 0.5242 - acc: 0.792 - ETA: 3s - loss: 0.5246 - acc: 0.792 - ETA: 3s - loss: 0.5273 - acc: 0.790 - ETA: 3s - loss: 0.5324 - acc: 0.787 - ETA: 3s - loss: 0.5331 - acc: 0.786 - ETA: 3s - loss: 0.5316 - acc: 0.786 - ETA: 3s - loss: 0.5313 - acc: 0.784 - ETA: 2s - loss: 0.5309 - acc: 0.784 - ETA: 2s - loss: 0.5289 - acc: 0.785 - ETA: 2s - loss: 0.5256 - acc: 0.785 - ETA: 2s - loss: 0.5238 - acc: 0.786 - ETA: 2s - loss: 0.5208 - acc: 0.786 - ETA: 2s - loss: 0.5232 - acc: 0.785 - ETA: 2s - loss: 0.5201 - acc: 0.787 - ETA: 2s - loss: 0.5218 - acc: 0.786 - ETA: 2s - loss: 0.5235 - acc: 0.784 - ETA: 2s - loss: 0.5261 - acc: 0.784 - ETA: 2s - loss: 0.5254 - acc: 0.783 - ETA: 2s - loss: 0.5234 - acc: 0.784 - ETA: 2s - loss: 0.5222 - acc: 0.784 - ETA: 2s - loss: 0.5254 - acc: 0.785 - ETA: 1s - loss: 0.5258 - acc: 0.784 - ETA: 1s - loss: 0.5260 - acc: 0.784 - ETA: 1s - loss: 0.5252 - acc: 0.783 - ETA: 1s - loss: 0.5236 - acc: 0.784 - ETA: 1s - loss: 0.5243 - acc: 0.784 - ETA: 1s - loss: 0.5232 - acc: 0.784 - ETA: 1s - loss: 0.5213 - acc: 0.784 - ETA: 1s - loss: 0.5206 - acc: 0.785 - ETA: 1s - loss: 0.5196 - acc: 0.785 - ETA: 1s - loss: 0.5174 - acc: 0.787 - ETA: 1s - loss: 0.5141 - acc: 0.789 - ETA: 1s - loss: 0.5187 - acc: 0.789 - ETA: 1s - loss: 0.5188 - acc: 0.789 - ETA: 1s - loss: 0.5176 - acc: 0.790 - ETA: 0s - loss: 0.5152 - acc: 0.791 - ETA: 0s - loss: 0.5140 - acc: 0.792 - ETA: 0s - loss: 0.5125 - acc: 0.792 - ETA: 0s - loss: 0.5116 - acc: 0.792 - ETA: 0s - loss: 0.5089 - acc: 0.792 - ETA: 0s - loss: 0.5099 - acc: 0.792 - ETA: 0s - loss: 0.5139 - acc: 0.791 - ETA: 0s - loss: 0.5148 - acc: 0.790 - ETA: 0s - loss: 0.5172 - acc: 0.790 - ETA: 0s - loss: 0.5168 - acc: 0.790 - ETA: 0s - loss: 0.5157 - acc: 0.790 - ETA: 0s - loss: 0.5154 - acc: 0.790 - ETA: 0s - loss: 0.5164 - acc: 0.789 - ETA: 0s - loss: 0.5149 - acc: 0.7904Epoch 00024: val_loss did not improve\n",
      "2000/2000 [==============================] - 7s - loss: 0.5156 - acc: 0.7895 - val_loss: 1.0077 - val_acc: 0.6067\n",
      "Epoch 26/30\n",
      "1980/2000 [============================>.] - ETA: 6s - loss: 0.5293 - acc: 0.850 - ETA: 6s - loss: 0.3664 - acc: 0.900 - ETA: 6s - loss: 0.3244 - acc: 0.900 - ETA: 6s - loss: 0.3527 - acc: 0.887 - ETA: 6s - loss: 0.3764 - acc: 0.870 - ETA: 6s - loss: 0.3529 - acc: 0.891 - ETA: 6s - loss: 0.3743 - acc: 0.885 - ETA: 6s - loss: 0.3800 - acc: 0.868 - ETA: 6s - loss: 0.3862 - acc: 0.861 - ETA: 6s - loss: 0.4046 - acc: 0.845 - ETA: 6s - loss: 0.3821 - acc: 0.859 - ETA: 6s - loss: 0.3720 - acc: 0.862 - ETA: 6s - loss: 0.3807 - acc: 0.857 - ETA: 6s - loss: 0.3631 - acc: 0.864 - ETA: 6s - loss: 0.3809 - acc: 0.856 - ETA: 6s - loss: 0.3948 - acc: 0.846 - ETA: 6s - loss: 0.4010 - acc: 0.847 - ETA: 5s - loss: 0.3968 - acc: 0.847 - ETA: 5s - loss: 0.4106 - acc: 0.836 - ETA: 5s - loss: 0.4073 - acc: 0.842 - ETA: 5s - loss: 0.4112 - acc: 0.840 - ETA: 5s - loss: 0.4195 - acc: 0.836 - ETA: 5s - loss: 0.4204 - acc: 0.832 - ETA: 5s - loss: 0.4310 - acc: 0.825 - ETA: 5s - loss: 0.4607 - acc: 0.818 - ETA: 5s - loss: 0.4649 - acc: 0.813 - ETA: 5s - loss: 0.4638 - acc: 0.811 - ETA: 5s - loss: 0.4645 - acc: 0.810 - ETA: 5s - loss: 0.4693 - acc: 0.812 - ETA: 5s - loss: 0.4688 - acc: 0.810 - ETA: 5s - loss: 0.4732 - acc: 0.811 - ETA: 4s - loss: 0.4779 - acc: 0.809 - ETA: 4s - loss: 0.5002 - acc: 0.803 - ETA: 4s - loss: 0.4965 - acc: 0.804 - ETA: 4s - loss: 0.4951 - acc: 0.804 - ETA: 4s - loss: 0.4888 - acc: 0.808 - ETA: 4s - loss: 0.4967 - acc: 0.804 - ETA: 4s - loss: 0.4957 - acc: 0.805 - ETA: 4s - loss: 0.4945 - acc: 0.807 - ETA: 4s - loss: 0.4951 - acc: 0.806 - ETA: 4s - loss: 0.4977 - acc: 0.804 - ETA: 4s - loss: 0.4951 - acc: 0.806 - ETA: 4s - loss: 0.4859 - acc: 0.810 - ETA: 4s - loss: 0.4956 - acc: 0.810 - ETA: 4s - loss: 0.4954 - acc: 0.808 - ETA: 3s - loss: 0.4909 - acc: 0.810 - ETA: 3s - loss: 0.4944 - acc: 0.809 - ETA: 3s - loss: 0.5086 - acc: 0.808 - ETA: 3s - loss: 0.5087 - acc: 0.807 - ETA: 3s - loss: 0.5073 - acc: 0.806 - ETA: 3s - loss: 0.5098 - acc: 0.802 - ETA: 3s - loss: 0.5057 - acc: 0.804 - ETA: 3s - loss: 0.5141 - acc: 0.802 - ETA: 3s - loss: 0.5116 - acc: 0.802 - ETA: 3s - loss: 0.5099 - acc: 0.803 - ETA: 3s - loss: 0.5073 - acc: 0.804 - ETA: 3s - loss: 0.5142 - acc: 0.800 - ETA: 3s - loss: 0.5125 - acc: 0.801 - ETA: 2s - loss: 0.5084 - acc: 0.803 - ETA: 2s - loss: 0.5050 - acc: 0.805 - ETA: 2s - loss: 0.5000 - acc: 0.807 - ETA: 2s - loss: 0.5014 - acc: 0.805 - ETA: 2s - loss: 0.5032 - acc: 0.804 - ETA: 2s - loss: 0.5040 - acc: 0.803 - ETA: 2s - loss: 0.5004 - acc: 0.805 - ETA: 2s - loss: 0.5010 - acc: 0.803 - ETA: 2s - loss: 0.4992 - acc: 0.805 - ETA: 2s - loss: 0.4997 - acc: 0.803 - ETA: 2s - loss: 0.5006 - acc: 0.801 - ETA: 2s - loss: 0.4997 - acc: 0.801 - ETA: 2s - loss: 0.5083 - acc: 0.797 - ETA: 2s - loss: 0.5121 - acc: 0.796 - ETA: 1s - loss: 0.5112 - acc: 0.797 - ETA: 1s - loss: 0.5097 - acc: 0.799 - ETA: 1s - loss: 0.5066 - acc: 0.800 - ETA: 1s - loss: 0.5069 - acc: 0.800 - ETA: 1s - loss: 0.5087 - acc: 0.800 - ETA: 1s - loss: 0.5047 - acc: 0.801 - ETA: 1s - loss: 0.5021 - acc: 0.802 - ETA: 1s - loss: 0.5075 - acc: 0.802 - ETA: 1s - loss: 0.5082 - acc: 0.802 - ETA: 1s - loss: 0.5175 - acc: 0.800 - ETA: 1s - loss: 0.5187 - acc: 0.800 - ETA: 1s - loss: 0.5193 - acc: 0.800 - ETA: 1s - loss: 0.5184 - acc: 0.800 - ETA: 1s - loss: 0.5193 - acc: 0.800 - ETA: 0s - loss: 0.5173 - acc: 0.802 - ETA: 0s - loss: 0.5156 - acc: 0.802 - ETA: 0s - loss: 0.5194 - acc: 0.798 - ETA: 0s - loss: 0.5210 - acc: 0.796 - ETA: 0s - loss: 0.5190 - acc: 0.797 - ETA: 0s - loss: 0.5189 - acc: 0.796 - ETA: 0s - loss: 0.5173 - acc: 0.797 - ETA: 0s - loss: 0.5168 - acc: 0.796 - ETA: 0s - loss: 0.5154 - acc: 0.796 - ETA: 0s - loss: 0.5157 - acc: 0.796 - ETA: 0s - loss: 0.5156 - acc: 0.795 - ETA: 0s - loss: 0.5170 - acc: 0.794 - ETA: 0s - loss: 0.5154 - acc: 0.7955Epoch 00025: val_loss did not improve\n",
      "2000/2000 [==============================] - 7s - loss: 0.5142 - acc: 0.7960 - val_loss: 0.9502 - val_acc: 0.5733\n",
      "Epoch 27/30\n",
      "1980/2000 [============================>.] - ETA: 6s - loss: 0.3918 - acc: 0.850 - ETA: 6s - loss: 0.4512 - acc: 0.775 - ETA: 6s - loss: 0.4612 - acc: 0.816 - ETA: 6s - loss: 0.4439 - acc: 0.837 - ETA: 6s - loss: 0.4454 - acc: 0.840 - ETA: 6s - loss: 0.4455 - acc: 0.833 - ETA: 6s - loss: 0.4729 - acc: 0.814 - ETA: 6s - loss: 0.4655 - acc: 0.818 - ETA: 6s - loss: 0.4766 - acc: 0.811 - ETA: 6s - loss: 0.4860 - acc: 0.805 - ETA: 6s - loss: 0.4970 - acc: 0.800 - ETA: 6s - loss: 0.4910 - acc: 0.804 - ETA: 6s - loss: 0.4851 - acc: 0.807 - ETA: 6s - loss: 0.4601 - acc: 0.817 - ETA: 6s - loss: 0.4818 - acc: 0.813 - ETA: 5s - loss: 0.4800 - acc: 0.812 - ETA: 5s - loss: 0.4682 - acc: 0.820 - ETA: 5s - loss: 0.4776 - acc: 0.813 - ETA: 5s - loss: 0.4816 - acc: 0.810 - ETA: 5s - loss: 0.4790 - acc: 0.810 - ETA: 5s - loss: 0.4773 - acc: 0.807 - ETA: 5s - loss: 0.4826 - acc: 0.806 - ETA: 5s - loss: 0.4787 - acc: 0.808 - ETA: 5s - loss: 0.4707 - acc: 0.812 - ETA: 5s - loss: 0.4636 - acc: 0.814 - ETA: 5s - loss: 0.4574 - acc: 0.819 - ETA: 5s - loss: 0.4675 - acc: 0.809 - ETA: 5s - loss: 0.4682 - acc: 0.808 - ETA: 5s - loss: 0.4636 - acc: 0.812 - ETA: 5s - loss: 0.4748 - acc: 0.808 - ETA: 4s - loss: 0.4754 - acc: 0.808 - ETA: 4s - loss: 0.4836 - acc: 0.804 - ETA: 4s - loss: 0.4894 - acc: 0.806 - ETA: 4s - loss: 0.4867 - acc: 0.807 - ETA: 4s - loss: 0.4838 - acc: 0.808 - ETA: 4s - loss: 0.4832 - acc: 0.805 - ETA: 4s - loss: 0.4788 - acc: 0.806 - ETA: 4s - loss: 0.4762 - acc: 0.807 - ETA: 4s - loss: 0.4745 - acc: 0.805 - ETA: 4s - loss: 0.4711 - acc: 0.805 - ETA: 4s - loss: 0.4678 - acc: 0.807 - ETA: 4s - loss: 0.4697 - acc: 0.806 - ETA: 4s - loss: 0.4683 - acc: 0.807 - ETA: 3s - loss: 0.4648 - acc: 0.809 - ETA: 3s - loss: 0.4754 - acc: 0.804 - ETA: 3s - loss: 0.4796 - acc: 0.803 - ETA: 3s - loss: 0.4817 - acc: 0.801 - ETA: 3s - loss: 0.4795 - acc: 0.803 - ETA: 3s - loss: 0.4813 - acc: 0.802 - ETA: 3s - loss: 0.4932 - acc: 0.803 - ETA: 3s - loss: 0.4893 - acc: 0.804 - ETA: 3s - loss: 0.4887 - acc: 0.806 - ETA: 3s - loss: 0.4902 - acc: 0.805 - ETA: 3s - loss: 0.4892 - acc: 0.807 - ETA: 3s - loss: 0.4863 - acc: 0.807 - ETA: 3s - loss: 0.4882 - acc: 0.805 - ETA: 3s - loss: 0.4885 - acc: 0.805 - ETA: 2s - loss: 0.4893 - acc: 0.806 - ETA: 2s - loss: 0.4886 - acc: 0.808 - ETA: 2s - loss: 0.4888 - acc: 0.807 - ETA: 2s - loss: 0.4850 - acc: 0.809 - ETA: 2s - loss: 0.4887 - acc: 0.806 - ETA: 2s - loss: 0.4881 - acc: 0.806 - ETA: 2s - loss: 0.4898 - acc: 0.804 - ETA: 2s - loss: 0.4920 - acc: 0.805 - ETA: 2s - loss: 0.4890 - acc: 0.807 - ETA: 2s - loss: 0.4897 - acc: 0.808 - ETA: 2s - loss: 0.4897 - acc: 0.808 - ETA: 2s - loss: 0.4892 - acc: 0.808 - ETA: 2s - loss: 0.4935 - acc: 0.805 - ETA: 2s - loss: 0.4943 - acc: 0.804 - ETA: 1s - loss: 0.4918 - acc: 0.806 - ETA: 1s - loss: 0.4882 - acc: 0.807 - ETA: 1s - loss: 0.4833 - acc: 0.809 - ETA: 1s - loss: 0.4843 - acc: 0.808 - ETA: 1s - loss: 0.4886 - acc: 0.807 - ETA: 1s - loss: 0.4877 - acc: 0.807 - ETA: 1s - loss: 0.4873 - acc: 0.807 - ETA: 1s - loss: 0.4880 - acc: 0.806 - ETA: 1s - loss: 0.4858 - acc: 0.808 - ETA: 1s - loss: 0.4854 - acc: 0.808 - ETA: 1s - loss: 0.4817 - acc: 0.809 - ETA: 1s - loss: 0.4837 - acc: 0.809 - ETA: 1s - loss: 0.4850 - acc: 0.808 - ETA: 1s - loss: 0.4856 - acc: 0.807 - ETA: 0s - loss: 0.4831 - acc: 0.809 - ETA: 0s - loss: 0.4830 - acc: 0.808 - ETA: 0s - loss: 0.4830 - acc: 0.808 - ETA: 0s - loss: 0.4834 - acc: 0.808 - ETA: 0s - loss: 0.4851 - acc: 0.808 - ETA: 0s - loss: 0.4849 - acc: 0.808 - ETA: 0s - loss: 0.4847 - acc: 0.809 - ETA: 0s - loss: 0.4850 - acc: 0.809 - ETA: 0s - loss: 0.4857 - acc: 0.807 - ETA: 0s - loss: 0.4871 - acc: 0.806 - ETA: 0s - loss: 0.4881 - acc: 0.806 - ETA: 0s - loss: 0.4892 - acc: 0.805 - ETA: 0s - loss: 0.4917 - acc: 0.803 - ETA: 0s - loss: 0.4919 - acc: 0.8035Epoch 00026: val_loss did not improve\n",
      "2000/2000 [==============================] - 7s - loss: 0.4913 - acc: 0.8045 - val_loss: 1.2014 - val_acc: 0.5933\n",
      "Epoch 28/30\n",
      "1980/2000 [============================>.] - ETA: 6s - loss: 0.7456 - acc: 0.550 - ETA: 6s - loss: 0.5229 - acc: 0.750 - ETA: 6s - loss: 0.4835 - acc: 0.783 - ETA: 6s - loss: 0.4272 - acc: 0.825 - ETA: 6s - loss: 0.3921 - acc: 0.840 - ETA: 6s - loss: 0.4218 - acc: 0.816 - ETA: 6s - loss: 0.4288 - acc: 0.814 - ETA: 6s - loss: 0.4141 - acc: 0.818 - ETA: 6s - loss: 0.4192 - acc: 0.822 - ETA: 6s - loss: 0.4398 - acc: 0.820 - ETA: 5s - loss: 0.4510 - acc: 0.813 - ETA: 5s - loss: 0.4433 - acc: 0.816 - ETA: 5s - loss: 0.4778 - acc: 0.800 - ETA: 5s - loss: 0.4760 - acc: 0.803 - ETA: 5s - loss: 0.4637 - acc: 0.813 - ETA: 5s - loss: 0.4632 - acc: 0.815 - ETA: 5s - loss: 0.4623 - acc: 0.817 - ETA: 5s - loss: 0.4634 - acc: 0.813 - ETA: 5s - loss: 0.4550 - acc: 0.818 - ETA: 5s - loss: 0.4464 - acc: 0.822 - ETA: 5s - loss: 0.4529 - acc: 0.816 - ETA: 5s - loss: 0.4535 - acc: 0.818 - ETA: 5s - loss: 0.4445 - acc: 0.823 - ETA: 5s - loss: 0.4579 - acc: 0.812 - ETA: 5s - loss: 0.4653 - acc: 0.806 - ETA: 5s - loss: 0.4708 - acc: 0.801 - ETA: 4s - loss: 0.4696 - acc: 0.800 - ETA: 4s - loss: 0.4601 - acc: 0.803 - ETA: 4s - loss: 0.4706 - acc: 0.798 - ETA: 4s - loss: 0.4670 - acc: 0.803 - ETA: 4s - loss: 0.4637 - acc: 0.803 - ETA: 4s - loss: 0.4663 - acc: 0.803 - ETA: 4s - loss: 0.4878 - acc: 0.800 - ETA: 4s - loss: 0.4884 - acc: 0.800 - ETA: 4s - loss: 0.4898 - acc: 0.802 - ETA: 4s - loss: 0.4846 - acc: 0.806 - ETA: 4s - loss: 0.4796 - acc: 0.809 - ETA: 4s - loss: 0.4752 - acc: 0.811 - ETA: 4s - loss: 0.4728 - acc: 0.814 - ETA: 4s - loss: 0.4708 - acc: 0.815 - ETA: 4s - loss: 0.4715 - acc: 0.814 - ETA: 3s - loss: 0.4739 - acc: 0.811 - ETA: 3s - loss: 0.4746 - acc: 0.810 - ETA: 3s - loss: 0.4816 - acc: 0.809 - ETA: 3s - loss: 0.4802 - acc: 0.808 - ETA: 3s - loss: 0.4808 - acc: 0.808 - ETA: 3s - loss: 0.4805 - acc: 0.809 - ETA: 3s - loss: 0.4773 - acc: 0.811 - ETA: 3s - loss: 0.4735 - acc: 0.812 - ETA: 3s - loss: 0.4732 - acc: 0.812 - ETA: 3s - loss: 0.4722 - acc: 0.811 - ETA: 3s - loss: 0.4711 - acc: 0.812 - ETA: 3s - loss: 0.4679 - acc: 0.814 - ETA: 3s - loss: 0.4659 - acc: 0.815 - ETA: 3s - loss: 0.4637 - acc: 0.816 - ETA: 3s - loss: 0.4632 - acc: 0.816 - ETA: 2s - loss: 0.4600 - acc: 0.817 - ETA: 2s - loss: 0.4599 - acc: 0.816 - ETA: 2s - loss: 0.4563 - acc: 0.817 - ETA: 2s - loss: 0.4606 - acc: 0.815 - ETA: 2s - loss: 0.4613 - acc: 0.813 - ETA: 2s - loss: 0.4594 - acc: 0.816 - ETA: 2s - loss: 0.4571 - acc: 0.817 - ETA: 2s - loss: 0.4560 - acc: 0.818 - ETA: 2s - loss: 0.4535 - acc: 0.819 - ETA: 2s - loss: 0.4603 - acc: 0.816 - ETA: 2s - loss: 0.4630 - acc: 0.815 - ETA: 2s - loss: 0.4612 - acc: 0.816 - ETA: 2s - loss: 0.4627 - acc: 0.815 - ETA: 2s - loss: 0.4606 - acc: 0.815 - ETA: 1s - loss: 0.4628 - acc: 0.814 - ETA: 1s - loss: 0.4648 - acc: 0.813 - ETA: 1s - loss: 0.4668 - acc: 0.811 - ETA: 1s - loss: 0.4639 - acc: 0.812 - ETA: 1s - loss: 0.4637 - acc: 0.813 - ETA: 1s - loss: 0.4603 - acc: 0.814 - ETA: 1s - loss: 0.4600 - acc: 0.813 - ETA: 1s - loss: 0.4602 - acc: 0.813 - ETA: 1s - loss: 0.4601 - acc: 0.813 - ETA: 1s - loss: 0.4580 - acc: 0.815 - ETA: 1s - loss: 0.4613 - acc: 0.814 - ETA: 1s - loss: 0.4625 - acc: 0.814 - ETA: 1s - loss: 0.4640 - acc: 0.814 - ETA: 1s - loss: 0.4639 - acc: 0.813 - ETA: 1s - loss: 0.4632 - acc: 0.814 - ETA: 0s - loss: 0.4646 - acc: 0.814 - ETA: 0s - loss: 0.4640 - acc: 0.813 - ETA: 0s - loss: 0.4636 - acc: 0.813 - ETA: 0s - loss: 0.4656 - acc: 0.812 - ETA: 0s - loss: 0.4653 - acc: 0.812 - ETA: 0s - loss: 0.4674 - acc: 0.811 - ETA: 0s - loss: 0.4683 - acc: 0.810 - ETA: 0s - loss: 0.4690 - acc: 0.810 - ETA: 0s - loss: 0.4706 - acc: 0.809 - ETA: 0s - loss: 0.4706 - acc: 0.809 - ETA: 0s - loss: 0.4692 - acc: 0.810 - ETA: 0s - loss: 0.4698 - acc: 0.809 - ETA: 0s - loss: 0.4693 - acc: 0.810 - ETA: 0s - loss: 0.4678 - acc: 0.8106Epoch 00027: val_loss did not improve\n",
      "2000/2000 [==============================] - 7s - loss: 0.4659 - acc: 0.8115 - val_loss: 1.1089 - val_acc: 0.6133\n",
      "Epoch 29/30\n"
     ]
    },
    {
     "name": "stdout",
     "output_type": "stream",
     "text": [
      "1980/2000 [============================>.] - ETA: 6s - loss: 0.2669 - acc: 0.900 - ETA: 6s - loss: 0.3814 - acc: 0.825 - ETA: 6s - loss: 0.3470 - acc: 0.850 - ETA: 6s - loss: 0.3944 - acc: 0.825 - ETA: 6s - loss: 0.4334 - acc: 0.820 - ETA: 6s - loss: 0.4805 - acc: 0.791 - ETA: 6s - loss: 0.4624 - acc: 0.807 - ETA: 6s - loss: 0.4302 - acc: 0.825 - ETA: 6s - loss: 0.4537 - acc: 0.811 - ETA: 6s - loss: 0.4418 - acc: 0.815 - ETA: 6s - loss: 0.4260 - acc: 0.827 - ETA: 6s - loss: 0.4440 - acc: 0.820 - ETA: 6s - loss: 0.4419 - acc: 0.815 - ETA: 6s - loss: 0.4321 - acc: 0.825 - ETA: 6s - loss: 0.4429 - acc: 0.816 - ETA: 6s - loss: 0.4459 - acc: 0.815 - ETA: 6s - loss: 0.4481 - acc: 0.814 - ETA: 5s - loss: 0.4475 - acc: 0.819 - ETA: 5s - loss: 0.4308 - acc: 0.828 - ETA: 5s - loss: 0.4261 - acc: 0.832 - ETA: 5s - loss: 0.4203 - acc: 0.831 - ETA: 5s - loss: 0.4162 - acc: 0.834 - ETA: 5s - loss: 0.4332 - acc: 0.826 - ETA: 5s - loss: 0.4489 - acc: 0.820 - ETA: 5s - loss: 0.4428 - acc: 0.824 - ETA: 5s - loss: 0.4520 - acc: 0.819 - ETA: 5s - loss: 0.4496 - acc: 0.816 - ETA: 5s - loss: 0.4535 - acc: 0.814 - ETA: 5s - loss: 0.4678 - acc: 0.806 - ETA: 5s - loss: 0.4709 - acc: 0.808 - ETA: 5s - loss: 0.4763 - acc: 0.806 - ETA: 4s - loss: 0.4666 - acc: 0.810 - ETA: 4s - loss: 0.4660 - acc: 0.810 - ETA: 4s - loss: 0.4597 - acc: 0.813 - ETA: 4s - loss: 0.4725 - acc: 0.807 - ETA: 4s - loss: 0.4692 - acc: 0.809 - ETA: 4s - loss: 0.4800 - acc: 0.809 - ETA: 4s - loss: 0.4802 - acc: 0.807 - ETA: 4s - loss: 0.4768 - acc: 0.807 - ETA: 4s - loss: 0.4792 - acc: 0.803 - ETA: 4s - loss: 0.4809 - acc: 0.802 - ETA: 4s - loss: 0.4805 - acc: 0.801 - ETA: 4s - loss: 0.4760 - acc: 0.804 - ETA: 4s - loss: 0.4772 - acc: 0.802 - ETA: 3s - loss: 0.4753 - acc: 0.804 - ETA: 3s - loss: 0.4766 - acc: 0.803 - ETA: 3s - loss: 0.4803 - acc: 0.801 - ETA: 3s - loss: 0.4813 - acc: 0.802 - ETA: 3s - loss: 0.4799 - acc: 0.804 - ETA: 3s - loss: 0.4785 - acc: 0.803 - ETA: 3s - loss: 0.4748 - acc: 0.803 - ETA: 3s - loss: 0.4734 - acc: 0.803 - ETA: 3s - loss: 0.4697 - acc: 0.806 - ETA: 3s - loss: 0.4701 - acc: 0.808 - ETA: 3s - loss: 0.4758 - acc: 0.809 - ETA: 3s - loss: 0.4709 - acc: 0.811 - ETA: 3s - loss: 0.4683 - acc: 0.813 - ETA: 3s - loss: 0.4703 - acc: 0.812 - ETA: 2s - loss: 0.4690 - acc: 0.812 - ETA: 2s - loss: 0.4820 - acc: 0.811 - ETA: 2s - loss: 0.4843 - acc: 0.809 - ETA: 2s - loss: 0.4833 - acc: 0.811 - ETA: 2s - loss: 0.4794 - acc: 0.812 - ETA: 2s - loss: 0.4807 - acc: 0.812 - ETA: 2s - loss: 0.4840 - acc: 0.810 - ETA: 2s - loss: 0.4831 - acc: 0.809 - ETA: 2s - loss: 0.4842 - acc: 0.806 - ETA: 2s - loss: 0.4855 - acc: 0.806 - ETA: 2s - loss: 0.4807 - acc: 0.808 - ETA: 2s - loss: 0.4789 - acc: 0.808 - ETA: 2s - loss: 0.4805 - acc: 0.808 - ETA: 1s - loss: 0.4773 - acc: 0.810 - ETA: 1s - loss: 0.4734 - acc: 0.813 - ETA: 1s - loss: 0.4762 - acc: 0.812 - ETA: 1s - loss: 0.4785 - acc: 0.810 - ETA: 1s - loss: 0.4801 - acc: 0.809 - ETA: 1s - loss: 0.4779 - acc: 0.811 - ETA: 1s - loss: 0.4834 - acc: 0.810 - ETA: 1s - loss: 0.4855 - acc: 0.808 - ETA: 1s - loss: 0.4846 - acc: 0.809 - ETA: 1s - loss: 0.4842 - acc: 0.809 - ETA: 1s - loss: 0.4843 - acc: 0.810 - ETA: 1s - loss: 0.4843 - acc: 0.810 - ETA: 1s - loss: 0.4864 - acc: 0.810 - ETA: 1s - loss: 0.4904 - acc: 0.807 - ETA: 0s - loss: 0.4898 - acc: 0.807 - ETA: 0s - loss: 0.4941 - acc: 0.805 - ETA: 0s - loss: 0.4913 - acc: 0.807 - ETA: 0s - loss: 0.4901 - acc: 0.807 - ETA: 0s - loss: 0.4997 - acc: 0.806 - ETA: 0s - loss: 0.4985 - acc: 0.806 - ETA: 0s - loss: 0.4976 - acc: 0.807 - ETA: 0s - loss: 0.4972 - acc: 0.806 - ETA: 0s - loss: 0.4956 - acc: 0.806 - ETA: 0s - loss: 0.4924 - acc: 0.808 - ETA: 0s - loss: 0.4966 - acc: 0.808 - ETA: 0s - loss: 0.5040 - acc: 0.806 - ETA: 0s - loss: 0.5052 - acc: 0.806 - ETA: 0s - loss: 0.5043 - acc: 0.8061Epoch 00028: val_loss did not improve\n",
      "2000/2000 [==============================] - 7s - loss: 0.5015 - acc: 0.8075 - val_loss: 1.1321 - val_acc: 0.6533\n",
      "Epoch 30/30\n",
      "1980/2000 [============================>.] - ETA: 6s - loss: 0.3680 - acc: 0.750 - ETA: 6s - loss: 0.4904 - acc: 0.725 - ETA: 6s - loss: 0.4812 - acc: 0.766 - ETA: 6s - loss: 0.4516 - acc: 0.775 - ETA: 6s - loss: 0.3922 - acc: 0.800 - ETA: 6s - loss: 0.4135 - acc: 0.800 - ETA: 6s - loss: 0.3959 - acc: 0.814 - ETA: 6s - loss: 0.4291 - acc: 0.787 - ETA: 6s - loss: 0.4245 - acc: 0.788 - ETA: 6s - loss: 0.4370 - acc: 0.790 - ETA: 6s - loss: 0.4298 - acc: 0.800 - ETA: 6s - loss: 0.4279 - acc: 0.795 - ETA: 5s - loss: 0.4240 - acc: 0.800 - ETA: 5s - loss: 0.4118 - acc: 0.807 - ETA: 5s - loss: 0.4123 - acc: 0.810 - ETA: 5s - loss: 0.3945 - acc: 0.821 - ETA: 5s - loss: 0.4154 - acc: 0.817 - ETA: 5s - loss: 0.4133 - acc: 0.816 - ETA: 5s - loss: 0.4123 - acc: 0.815 - ETA: 5s - loss: 0.4265 - acc: 0.815 - ETA: 5s - loss: 0.4379 - acc: 0.814 - ETA: 5s - loss: 0.4374 - acc: 0.813 - ETA: 5s - loss: 0.4363 - acc: 0.815 - ETA: 5s - loss: 0.4336 - acc: 0.816 - ETA: 5s - loss: 0.4278 - acc: 0.816 - ETA: 5s - loss: 0.4226 - acc: 0.819 - ETA: 5s - loss: 0.4164 - acc: 0.820 - ETA: 4s - loss: 0.4380 - acc: 0.817 - ETA: 4s - loss: 0.4362 - acc: 0.817 - ETA: 4s - loss: 0.4391 - acc: 0.818 - ETA: 4s - loss: 0.4375 - acc: 0.819 - ETA: 4s - loss: 0.4332 - acc: 0.821 - ETA: 4s - loss: 0.4451 - acc: 0.815 - ETA: 4s - loss: 0.4565 - acc: 0.810 - ETA: 4s - loss: 0.4554 - acc: 0.812 - ETA: 4s - loss: 0.4594 - acc: 0.812 - ETA: 4s - loss: 0.4607 - acc: 0.808 - ETA: 4s - loss: 0.4546 - acc: 0.811 - ETA: 4s - loss: 0.4532 - acc: 0.812 - ETA: 4s - loss: 0.4562 - acc: 0.810 - ETA: 4s - loss: 0.4545 - acc: 0.809 - ETA: 3s - loss: 0.4520 - acc: 0.809 - ETA: 3s - loss: 0.4628 - acc: 0.809 - ETA: 3s - loss: 0.4591 - acc: 0.811 - ETA: 3s - loss: 0.4549 - acc: 0.813 - ETA: 3s - loss: 0.4529 - acc: 0.813 - ETA: 3s - loss: 0.4578 - acc: 0.813 - ETA: 3s - loss: 0.4675 - acc: 0.809 - ETA: 3s - loss: 0.4714 - acc: 0.808 - ETA: 3s - loss: 0.4680 - acc: 0.810 - ETA: 3s - loss: 0.4662 - acc: 0.810 - ETA: 3s - loss: 0.4617 - acc: 0.813 - ETA: 3s - loss: 0.4627 - acc: 0.814 - ETA: 3s - loss: 0.4600 - acc: 0.814 - ETA: 3s - loss: 0.4560 - acc: 0.816 - ETA: 3s - loss: 0.4565 - acc: 0.817 - ETA: 2s - loss: 0.4538 - acc: 0.816 - ETA: 2s - loss: 0.4510 - acc: 0.818 - ETA: 2s - loss: 0.4550 - acc: 0.814 - ETA: 2s - loss: 0.4566 - acc: 0.811 - ETA: 2s - loss: 0.4631 - acc: 0.809 - ETA: 2s - loss: 0.4629 - acc: 0.810 - ETA: 2s - loss: 0.4588 - acc: 0.813 - ETA: 2s - loss: 0.4555 - acc: 0.814 - ETA: 2s - loss: 0.4557 - acc: 0.815 - ETA: 2s - loss: 0.4568 - acc: 0.813 - ETA: 2s - loss: 0.4611 - acc: 0.811 - ETA: 2s - loss: 0.4607 - acc: 0.811 - ETA: 2s - loss: 0.4604 - acc: 0.812 - ETA: 2s - loss: 0.4620 - acc: 0.812 - ETA: 2s - loss: 0.4671 - acc: 0.810 - ETA: 1s - loss: 0.4708 - acc: 0.807 - ETA: 1s - loss: 0.4715 - acc: 0.806 - ETA: 1s - loss: 0.4734 - acc: 0.805 - ETA: 1s - loss: 0.4724 - acc: 0.806 - ETA: 1s - loss: 0.4734 - acc: 0.804 - ETA: 1s - loss: 0.4709 - acc: 0.805 - ETA: 1s - loss: 0.4705 - acc: 0.806 - ETA: 1s - loss: 0.4712 - acc: 0.807 - ETA: 1s - loss: 0.4722 - acc: 0.808 - ETA: 1s - loss: 0.4704 - acc: 0.808 - ETA: 1s - loss: 0.4738 - acc: 0.806 - ETA: 1s - loss: 0.4739 - acc: 0.806 - ETA: 1s - loss: 0.4710 - acc: 0.807 - ETA: 1s - loss: 0.4706 - acc: 0.807 - ETA: 0s - loss: 0.4746 - acc: 0.808 - ETA: 0s - loss: 0.4731 - acc: 0.809 - ETA: 0s - loss: 0.4707 - acc: 0.810 - ETA: 0s - loss: 0.4716 - acc: 0.809 - ETA: 0s - loss: 0.4741 - acc: 0.807 - ETA: 0s - loss: 0.4767 - acc: 0.806 - ETA: 0s - loss: 0.4728 - acc: 0.808 - ETA: 0s - loss: 0.4731 - acc: 0.808 - ETA: 0s - loss: 0.4718 - acc: 0.808 - ETA: 0s - loss: 0.4722 - acc: 0.807 - ETA: 0s - loss: 0.4730 - acc: 0.807 - ETA: 0s - loss: 0.4740 - acc: 0.805 - ETA: 0s - loss: 0.4740 - acc: 0.804 - ETA: 0s - loss: 0.4742 - acc: 0.8040Epoch 00029: val_loss did not improve\n",
      "2000/2000 [==============================] - 7s - loss: 0.4724 - acc: 0.8045 - val_loss: 1.3293 - val_acc: 0.6200\n"
     ]
    },
    {
     "data": {
      "text/plain": [
       "<keras.callbacks.History at 0x19904ab79b0>"
      ]
     },
     "execution_count": 7,
     "metadata": {},
     "output_type": "execute_result"
    }
   ],
   "source": [
    "from keras.callbacks import ModelCheckpoint\n",
    "\n",
    "batch_size = 10\n",
    "epochs = 30\n",
    "\n",
    "checkpointer = ModelCheckpoint(filepath='saved_models/weights.best.Resnet50.hdf5', verbose=1, save_best_only=True)\n",
    "\n",
    "model.fit(train_tensors, train_targets, \n",
    "          validation_data=(valid_tensors, valid_targets),\n",
    "          epochs=epochs, batch_size=20, callbacks=[checkpointer], verbose=1)"
   ]
  },
  {
   "cell_type": "markdown",
   "metadata": {},
   "source": [
    "# load the models"
   ]
  },
  {
   "cell_type": "code",
   "execution_count": 7,
   "metadata": {},
   "outputs": [],
   "source": [
    "model.load_weights('saved_models/weights.best.Resnet50.hdf5')\n"
   ]
  },
  {
   "cell_type": "code",
   "execution_count": 8,
   "metadata": {},
   "outputs": [
    {
     "name": "stdout",
     "output_type": "stream",
     "text": [
      "Test accuracy: 70.0000%\n"
     ]
    }
   ],
   "source": [
    "\n",
    "# get index of predicted skin cancer for each image in test set\n",
    "skin_cancer_predictions = [np.argmax(model.predict(np.expand_dims(tensor, axis=0))) for tensor in test_tensors]\n",
    "\n",
    "# report test accuracy\n",
    "test_accuracy = 100*np.sum(np.array(skin_cancer_predictions)==np.argmax(test_targets, axis=1))/len(skin_cancer_predictions)\n",
    "print('Test accuracy: %.4f%%' % test_accuracy)"
   ]
  },
  {
   "cell_type": "code",
   "execution_count": 12,
   "metadata": {},
   "outputs": [
    {
     "name": "stdout",
     "output_type": "stream",
     "text": [
      "[[0.29561213 0.5579704  0.14641745]]\n"
     ]
    }
   ],
   "source": [
    "test = path_to_tensor(train_files[90]).astype('float32')/255\n",
    "print(model.predict(test))"
   ]
  },
  {
   "cell_type": "markdown",
   "metadata": {},
   "source": [
    "# PUT THE DATA ON THE .CSV FILE AND SCORE THE CATEGORYS\n"
   ]
  },
  {
   "cell_type": "code",
   "execution_count": 19,
   "metadata": {},
   "outputs": [
    {
     "name": "stderr",
     "output_type": "stream",
     "text": [
      "100%|████████████████████████████████████████████████████████████████████████████████| 600/600 [05:37<00:00,  6.74it/s]\n"
     ]
    }
   ],
   "source": [
    "import pandas as pd\n",
    "csv = pd.read_csv('sample_predictions.csv')\n",
    "result_csv = csv['Id']\n",
    "tensor_csv = paths_to_tensor(result_csv).astype('float32')/255\n"
   ]
  },
  {
   "cell_type": "code",
   "execution_count": 20,
   "metadata": {
    "scrolled": true
   },
   "outputs": [
    {
     "data": {
      "text/html": [
       "<div>\n",
       "<style scoped>\n",
       "    .dataframe tbody tr th:only-of-type {\n",
       "        vertical-align: middle;\n",
       "    }\n",
       "\n",
       "    .dataframe tbody tr th {\n",
       "        vertical-align: top;\n",
       "    }\n",
       "\n",
       "    .dataframe thead th {\n",
       "        text-align: right;\n",
       "    }\n",
       "</style>\n",
       "<table border=\"1\" class=\"dataframe\">\n",
       "  <thead>\n",
       "    <tr style=\"text-align: right;\">\n",
       "      <th></th>\n",
       "      <th>Id</th>\n",
       "      <th>task_1</th>\n",
       "      <th>task_2</th>\n",
       "    </tr>\n",
       "  </thead>\n",
       "  <tbody>\n",
       "    <tr>\n",
       "      <th>0</th>\n",
       "      <td>data/test/melanoma/ISIC_0012258.jpg</td>\n",
       "      <td>0.099544</td>\n",
       "      <td>0.584641</td>\n",
       "    </tr>\n",
       "    <tr>\n",
       "      <th>1</th>\n",
       "      <td>data/test/melanoma/ISIC_0012356.jpg</td>\n",
       "      <td>0.191968</td>\n",
       "      <td>0.429290</td>\n",
       "    </tr>\n",
       "    <tr>\n",
       "      <th>2</th>\n",
       "      <td>data/test/melanoma/ISIC_0012369.jpg</td>\n",
       "      <td>0.207068</td>\n",
       "      <td>0.328933</td>\n",
       "    </tr>\n",
       "    <tr>\n",
       "      <th>3</th>\n",
       "      <td>data/test/melanoma/ISIC_0012395.jpg</td>\n",
       "      <td>0.227312</td>\n",
       "      <td>0.074357</td>\n",
       "    </tr>\n",
       "    <tr>\n",
       "      <th>4</th>\n",
       "      <td>data/test/melanoma/ISIC_0012425.jpg</td>\n",
       "      <td>0.158352</td>\n",
       "      <td>0.487594</td>\n",
       "    </tr>\n",
       "    <tr>\n",
       "      <th>5</th>\n",
       "      <td>data/test/melanoma/ISIC_0012758.jpg</td>\n",
       "      <td>0.068709</td>\n",
       "      <td>0.000832</td>\n",
       "    </tr>\n",
       "    <tr>\n",
       "      <th>6</th>\n",
       "      <td>data/test/melanoma/ISIC_0012989.jpg</td>\n",
       "      <td>0.139933</td>\n",
       "      <td>0.105742</td>\n",
       "    </tr>\n",
       "    <tr>\n",
       "      <th>7</th>\n",
       "      <td>data/test/melanoma/ISIC_0013072.jpg</td>\n",
       "      <td>0.182745</td>\n",
       "      <td>0.257080</td>\n",
       "    </tr>\n",
       "    <tr>\n",
       "      <th>8</th>\n",
       "      <td>data/test/melanoma/ISIC_0013073.jpg</td>\n",
       "      <td>0.158595</td>\n",
       "      <td>0.451142</td>\n",
       "    </tr>\n",
       "    <tr>\n",
       "      <th>9</th>\n",
       "      <td>data/test/melanoma/ISIC_0013242.jpg</td>\n",
       "      <td>0.208413</td>\n",
       "      <td>0.333153</td>\n",
       "    </tr>\n",
       "    <tr>\n",
       "      <th>10</th>\n",
       "      <td>data/test/melanoma/ISIC_0013277.jpg</td>\n",
       "      <td>0.248893</td>\n",
       "      <td>0.098478</td>\n",
       "    </tr>\n",
       "    <tr>\n",
       "      <th>11</th>\n",
       "      <td>data/test/melanoma/ISIC_0013321.jpg</td>\n",
       "      <td>0.146915</td>\n",
       "      <td>0.456347</td>\n",
       "    </tr>\n",
       "    <tr>\n",
       "      <th>12</th>\n",
       "      <td>data/test/melanoma/ISIC_0013374.jpg</td>\n",
       "      <td>0.165328</td>\n",
       "      <td>0.197313</td>\n",
       "    </tr>\n",
       "    <tr>\n",
       "      <th>13</th>\n",
       "      <td>data/test/melanoma/ISIC_0013411.jpg</td>\n",
       "      <td>0.232112</td>\n",
       "      <td>0.327356</td>\n",
       "    </tr>\n",
       "    <tr>\n",
       "      <th>14</th>\n",
       "      <td>data/test/melanoma/ISIC_0013414.jpg</td>\n",
       "      <td>0.175933</td>\n",
       "      <td>0.247727</td>\n",
       "    </tr>\n",
       "    <tr>\n",
       "      <th>15</th>\n",
       "      <td>data/test/melanoma/ISIC_0013455.jpg</td>\n",
       "      <td>0.217554</td>\n",
       "      <td>0.057593</td>\n",
       "    </tr>\n",
       "    <tr>\n",
       "      <th>16</th>\n",
       "      <td>data/test/melanoma/ISIC_0013457.jpg</td>\n",
       "      <td>0.180985</td>\n",
       "      <td>0.109045</td>\n",
       "    </tr>\n",
       "    <tr>\n",
       "      <th>17</th>\n",
       "      <td>data/test/melanoma/ISIC_0013459.jpg</td>\n",
       "      <td>0.097248</td>\n",
       "      <td>0.585086</td>\n",
       "    </tr>\n",
       "    <tr>\n",
       "      <th>18</th>\n",
       "      <td>data/test/melanoma/ISIC_0013472.jpg</td>\n",
       "      <td>0.183975</td>\n",
       "      <td>0.046695</td>\n",
       "    </tr>\n",
       "    <tr>\n",
       "      <th>19</th>\n",
       "      <td>data/test/melanoma/ISIC_0013473.jpg</td>\n",
       "      <td>0.232048</td>\n",
       "      <td>0.357305</td>\n",
       "    </tr>\n",
       "    <tr>\n",
       "      <th>20</th>\n",
       "      <td>data/test/melanoma/ISIC_0013565.jpg</td>\n",
       "      <td>0.152491</td>\n",
       "      <td>0.489384</td>\n",
       "    </tr>\n",
       "    <tr>\n",
       "      <th>21</th>\n",
       "      <td>data/test/melanoma/ISIC_0013577.jpg</td>\n",
       "      <td>0.148257</td>\n",
       "      <td>0.479770</td>\n",
       "    </tr>\n",
       "    <tr>\n",
       "      <th>22</th>\n",
       "      <td>data/test/melanoma/ISIC_0013588.jpg</td>\n",
       "      <td>0.191226</td>\n",
       "      <td>0.390534</td>\n",
       "    </tr>\n",
       "    <tr>\n",
       "      <th>23</th>\n",
       "      <td>data/test/melanoma/ISIC_0013615.jpg</td>\n",
       "      <td>0.255388</td>\n",
       "      <td>0.146491</td>\n",
       "    </tr>\n",
       "    <tr>\n",
       "      <th>24</th>\n",
       "      <td>data/test/melanoma/ISIC_0013617.jpg</td>\n",
       "      <td>0.186336</td>\n",
       "      <td>0.032823</td>\n",
       "    </tr>\n",
       "    <tr>\n",
       "      <th>25</th>\n",
       "      <td>data/test/melanoma/ISIC_0013636.jpg</td>\n",
       "      <td>0.130448</td>\n",
       "      <td>0.467247</td>\n",
       "    </tr>\n",
       "    <tr>\n",
       "      <th>26</th>\n",
       "      <td>data/test/melanoma/ISIC_0013678.jpg</td>\n",
       "      <td>0.270518</td>\n",
       "      <td>0.286705</td>\n",
       "    </tr>\n",
       "    <tr>\n",
       "      <th>27</th>\n",
       "      <td>data/test/melanoma/ISIC_0013696.jpg</td>\n",
       "      <td>0.144151</td>\n",
       "      <td>0.510303</td>\n",
       "    </tr>\n",
       "    <tr>\n",
       "      <th>28</th>\n",
       "      <td>data/test/melanoma/ISIC_0013733.jpg</td>\n",
       "      <td>0.147677</td>\n",
       "      <td>0.155801</td>\n",
       "    </tr>\n",
       "    <tr>\n",
       "      <th>29</th>\n",
       "      <td>data/test/melanoma/ISIC_0013739.jpg</td>\n",
       "      <td>0.154173</td>\n",
       "      <td>0.277820</td>\n",
       "    </tr>\n",
       "    <tr>\n",
       "      <th>...</th>\n",
       "      <td>...</td>\n",
       "      <td>...</td>\n",
       "      <td>...</td>\n",
       "    </tr>\n",
       "    <tr>\n",
       "      <th>570</th>\n",
       "      <td>data/test/seborrheic_keratosis/ISIC_0014386.jpg</td>\n",
       "      <td>0.202002</td>\n",
       "      <td>0.390918</td>\n",
       "    </tr>\n",
       "    <tr>\n",
       "      <th>571</th>\n",
       "      <td>data/test/seborrheic_keratosis/ISIC_0014392.jpg</td>\n",
       "      <td>0.199684</td>\n",
       "      <td>0.104812</td>\n",
       "    </tr>\n",
       "    <tr>\n",
       "      <th>572</th>\n",
       "      <td>data/test/seborrheic_keratosis/ISIC_0014409.jpg</td>\n",
       "      <td>0.149997</td>\n",
       "      <td>0.177749</td>\n",
       "    </tr>\n",
       "    <tr>\n",
       "      <th>573</th>\n",
       "      <td>data/test/seborrheic_keratosis/ISIC_0014419.jpg</td>\n",
       "      <td>0.188412</td>\n",
       "      <td>0.432690</td>\n",
       "    </tr>\n",
       "    <tr>\n",
       "      <th>574</th>\n",
       "      <td>data/test/seborrheic_keratosis/ISIC_0014457.jpg</td>\n",
       "      <td>0.148450</td>\n",
       "      <td>0.369858</td>\n",
       "    </tr>\n",
       "    <tr>\n",
       "      <th>575</th>\n",
       "      <td>data/test/seborrheic_keratosis/ISIC_0014474.jpg</td>\n",
       "      <td>0.117307</td>\n",
       "      <td>0.579916</td>\n",
       "    </tr>\n",
       "    <tr>\n",
       "      <th>576</th>\n",
       "      <td>data/test/seborrheic_keratosis/ISIC_0014500.jpg</td>\n",
       "      <td>0.171165</td>\n",
       "      <td>0.440338</td>\n",
       "    </tr>\n",
       "    <tr>\n",
       "      <th>577</th>\n",
       "      <td>data/test/seborrheic_keratosis/ISIC_0014503.jpg</td>\n",
       "      <td>0.113870</td>\n",
       "      <td>0.578925</td>\n",
       "    </tr>\n",
       "    <tr>\n",
       "      <th>578</th>\n",
       "      <td>data/test/seborrheic_keratosis/ISIC_0014567.jpg</td>\n",
       "      <td>0.017114</td>\n",
       "      <td>0.905661</td>\n",
       "    </tr>\n",
       "    <tr>\n",
       "      <th>579</th>\n",
       "      <td>data/test/seborrheic_keratosis/ISIC_0014574.jpg</td>\n",
       "      <td>0.013429</td>\n",
       "      <td>0.921785</td>\n",
       "    </tr>\n",
       "    <tr>\n",
       "      <th>580</th>\n",
       "      <td>data/test/seborrheic_keratosis/ISIC_0014575.jpg</td>\n",
       "      <td>0.013077</td>\n",
       "      <td>0.922626</td>\n",
       "    </tr>\n",
       "    <tr>\n",
       "      <th>581</th>\n",
       "      <td>data/test/seborrheic_keratosis/ISIC_0014586.jpg</td>\n",
       "      <td>0.307408</td>\n",
       "      <td>0.114601</td>\n",
       "    </tr>\n",
       "    <tr>\n",
       "      <th>582</th>\n",
       "      <td>data/test/seborrheic_keratosis/ISIC_0014587.jpg</td>\n",
       "      <td>0.008246</td>\n",
       "      <td>0.943280</td>\n",
       "    </tr>\n",
       "    <tr>\n",
       "      <th>583</th>\n",
       "      <td>data/test/seborrheic_keratosis/ISIC_0014588.jpg</td>\n",
       "      <td>0.009706</td>\n",
       "      <td>0.938629</td>\n",
       "    </tr>\n",
       "    <tr>\n",
       "      <th>584</th>\n",
       "      <td>data/test/seborrheic_keratosis/ISIC_0014590.jpg</td>\n",
       "      <td>0.014562</td>\n",
       "      <td>0.909579</td>\n",
       "    </tr>\n",
       "    <tr>\n",
       "      <th>585</th>\n",
       "      <td>data/test/seborrheic_keratosis/ISIC_0014600.jpg</td>\n",
       "      <td>0.011385</td>\n",
       "      <td>0.930056</td>\n",
       "    </tr>\n",
       "    <tr>\n",
       "      <th>586</th>\n",
       "      <td>data/test/seborrheic_keratosis/ISIC_0014619.jpg</td>\n",
       "      <td>0.018442</td>\n",
       "      <td>0.898834</td>\n",
       "    </tr>\n",
       "    <tr>\n",
       "      <th>587</th>\n",
       "      <td>data/test/seborrheic_keratosis/ISIC_0014626.jpg</td>\n",
       "      <td>0.009027</td>\n",
       "      <td>0.940701</td>\n",
       "    </tr>\n",
       "    <tr>\n",
       "      <th>588</th>\n",
       "      <td>data/test/seborrheic_keratosis/ISIC_0014627.jpg</td>\n",
       "      <td>0.020467</td>\n",
       "      <td>0.883243</td>\n",
       "    </tr>\n",
       "    <tr>\n",
       "      <th>589</th>\n",
       "      <td>data/test/seborrheic_keratosis/ISIC_0014629.jpg</td>\n",
       "      <td>0.009252</td>\n",
       "      <td>0.938940</td>\n",
       "    </tr>\n",
       "    <tr>\n",
       "      <th>590</th>\n",
       "      <td>data/test/seborrheic_keratosis/ISIC_0014631.jpg</td>\n",
       "      <td>0.009269</td>\n",
       "      <td>0.940242</td>\n",
       "    </tr>\n",
       "    <tr>\n",
       "      <th>591</th>\n",
       "      <td>data/test/seborrheic_keratosis/ISIC_0014634.jpg</td>\n",
       "      <td>0.018463</td>\n",
       "      <td>0.902420</td>\n",
       "    </tr>\n",
       "    <tr>\n",
       "      <th>592</th>\n",
       "      <td>data/test/seborrheic_keratosis/ISIC_0014643.jpg</td>\n",
       "      <td>0.008184</td>\n",
       "      <td>0.944277</td>\n",
       "    </tr>\n",
       "    <tr>\n",
       "      <th>593</th>\n",
       "      <td>data/test/seborrheic_keratosis/ISIC_0014644.jpg</td>\n",
       "      <td>0.165636</td>\n",
       "      <td>0.103754</td>\n",
       "    </tr>\n",
       "    <tr>\n",
       "      <th>594</th>\n",
       "      <td>data/test/seborrheic_keratosis/ISIC_0014645.jpg</td>\n",
       "      <td>0.143001</td>\n",
       "      <td>0.508695</td>\n",
       "    </tr>\n",
       "    <tr>\n",
       "      <th>595</th>\n",
       "      <td>data/test/seborrheic_keratosis/ISIC_0014647.jpg</td>\n",
       "      <td>0.008984</td>\n",
       "      <td>0.937466</td>\n",
       "    </tr>\n",
       "    <tr>\n",
       "      <th>596</th>\n",
       "      <td>data/test/seborrheic_keratosis/ISIC_0014648.jpg</td>\n",
       "      <td>0.031853</td>\n",
       "      <td>0.850767</td>\n",
       "    </tr>\n",
       "    <tr>\n",
       "      <th>597</th>\n",
       "      <td>data/test/seborrheic_keratosis/ISIC_0014649.jpg</td>\n",
       "      <td>0.013224</td>\n",
       "      <td>0.921668</td>\n",
       "    </tr>\n",
       "    <tr>\n",
       "      <th>598</th>\n",
       "      <td>data/test/seborrheic_keratosis/ISIC_0014652.jpg</td>\n",
       "      <td>0.024976</td>\n",
       "      <td>0.873000</td>\n",
       "    </tr>\n",
       "    <tr>\n",
       "      <th>599</th>\n",
       "      <td>data/test/seborrheic_keratosis/ISIC_0014653.jpg</td>\n",
       "      <td>0.028268</td>\n",
       "      <td>0.860445</td>\n",
       "    </tr>\n",
       "  </tbody>\n",
       "</table>\n",
       "<p>600 rows × 3 columns</p>\n",
       "</div>"
      ],
      "text/plain": [
       "                                                  Id    task_1    task_2\n",
       "0                data/test/melanoma/ISIC_0012258.jpg  0.099544  0.584641\n",
       "1                data/test/melanoma/ISIC_0012356.jpg  0.191968  0.429290\n",
       "2                data/test/melanoma/ISIC_0012369.jpg  0.207068  0.328933\n",
       "3                data/test/melanoma/ISIC_0012395.jpg  0.227312  0.074357\n",
       "4                data/test/melanoma/ISIC_0012425.jpg  0.158352  0.487594\n",
       "5                data/test/melanoma/ISIC_0012758.jpg  0.068709  0.000832\n",
       "6                data/test/melanoma/ISIC_0012989.jpg  0.139933  0.105742\n",
       "7                data/test/melanoma/ISIC_0013072.jpg  0.182745  0.257080\n",
       "8                data/test/melanoma/ISIC_0013073.jpg  0.158595  0.451142\n",
       "9                data/test/melanoma/ISIC_0013242.jpg  0.208413  0.333153\n",
       "10               data/test/melanoma/ISIC_0013277.jpg  0.248893  0.098478\n",
       "11               data/test/melanoma/ISIC_0013321.jpg  0.146915  0.456347\n",
       "12               data/test/melanoma/ISIC_0013374.jpg  0.165328  0.197313\n",
       "13               data/test/melanoma/ISIC_0013411.jpg  0.232112  0.327356\n",
       "14               data/test/melanoma/ISIC_0013414.jpg  0.175933  0.247727\n",
       "15               data/test/melanoma/ISIC_0013455.jpg  0.217554  0.057593\n",
       "16               data/test/melanoma/ISIC_0013457.jpg  0.180985  0.109045\n",
       "17               data/test/melanoma/ISIC_0013459.jpg  0.097248  0.585086\n",
       "18               data/test/melanoma/ISIC_0013472.jpg  0.183975  0.046695\n",
       "19               data/test/melanoma/ISIC_0013473.jpg  0.232048  0.357305\n",
       "20               data/test/melanoma/ISIC_0013565.jpg  0.152491  0.489384\n",
       "21               data/test/melanoma/ISIC_0013577.jpg  0.148257  0.479770\n",
       "22               data/test/melanoma/ISIC_0013588.jpg  0.191226  0.390534\n",
       "23               data/test/melanoma/ISIC_0013615.jpg  0.255388  0.146491\n",
       "24               data/test/melanoma/ISIC_0013617.jpg  0.186336  0.032823\n",
       "25               data/test/melanoma/ISIC_0013636.jpg  0.130448  0.467247\n",
       "26               data/test/melanoma/ISIC_0013678.jpg  0.270518  0.286705\n",
       "27               data/test/melanoma/ISIC_0013696.jpg  0.144151  0.510303\n",
       "28               data/test/melanoma/ISIC_0013733.jpg  0.147677  0.155801\n",
       "29               data/test/melanoma/ISIC_0013739.jpg  0.154173  0.277820\n",
       "..                                               ...       ...       ...\n",
       "570  data/test/seborrheic_keratosis/ISIC_0014386.jpg  0.202002  0.390918\n",
       "571  data/test/seborrheic_keratosis/ISIC_0014392.jpg  0.199684  0.104812\n",
       "572  data/test/seborrheic_keratosis/ISIC_0014409.jpg  0.149997  0.177749\n",
       "573  data/test/seborrheic_keratosis/ISIC_0014419.jpg  0.188412  0.432690\n",
       "574  data/test/seborrheic_keratosis/ISIC_0014457.jpg  0.148450  0.369858\n",
       "575  data/test/seborrheic_keratosis/ISIC_0014474.jpg  0.117307  0.579916\n",
       "576  data/test/seborrheic_keratosis/ISIC_0014500.jpg  0.171165  0.440338\n",
       "577  data/test/seborrheic_keratosis/ISIC_0014503.jpg  0.113870  0.578925\n",
       "578  data/test/seborrheic_keratosis/ISIC_0014567.jpg  0.017114  0.905661\n",
       "579  data/test/seborrheic_keratosis/ISIC_0014574.jpg  0.013429  0.921785\n",
       "580  data/test/seborrheic_keratosis/ISIC_0014575.jpg  0.013077  0.922626\n",
       "581  data/test/seborrheic_keratosis/ISIC_0014586.jpg  0.307408  0.114601\n",
       "582  data/test/seborrheic_keratosis/ISIC_0014587.jpg  0.008246  0.943280\n",
       "583  data/test/seborrheic_keratosis/ISIC_0014588.jpg  0.009706  0.938629\n",
       "584  data/test/seborrheic_keratosis/ISIC_0014590.jpg  0.014562  0.909579\n",
       "585  data/test/seborrheic_keratosis/ISIC_0014600.jpg  0.011385  0.930056\n",
       "586  data/test/seborrheic_keratosis/ISIC_0014619.jpg  0.018442  0.898834\n",
       "587  data/test/seborrheic_keratosis/ISIC_0014626.jpg  0.009027  0.940701\n",
       "588  data/test/seborrheic_keratosis/ISIC_0014627.jpg  0.020467  0.883243\n",
       "589  data/test/seborrheic_keratosis/ISIC_0014629.jpg  0.009252  0.938940\n",
       "590  data/test/seborrheic_keratosis/ISIC_0014631.jpg  0.009269  0.940242\n",
       "591  data/test/seborrheic_keratosis/ISIC_0014634.jpg  0.018463  0.902420\n",
       "592  data/test/seborrheic_keratosis/ISIC_0014643.jpg  0.008184  0.944277\n",
       "593  data/test/seborrheic_keratosis/ISIC_0014644.jpg  0.165636  0.103754\n",
       "594  data/test/seborrheic_keratosis/ISIC_0014645.jpg  0.143001  0.508695\n",
       "595  data/test/seborrheic_keratosis/ISIC_0014647.jpg  0.008984  0.937466\n",
       "596  data/test/seborrheic_keratosis/ISIC_0014648.jpg  0.031853  0.850767\n",
       "597  data/test/seborrheic_keratosis/ISIC_0014649.jpg  0.013224  0.921668\n",
       "598  data/test/seborrheic_keratosis/ISIC_0014652.jpg  0.024976  0.873000\n",
       "599  data/test/seborrheic_keratosis/ISIC_0014653.jpg  0.028268  0.860445\n",
       "\n",
       "[600 rows x 3 columns]"
      ]
     },
     "execution_count": 20,
     "metadata": {},
     "output_type": "execute_result"
    }
   ],
   "source": [
    "prediction = model.predict(tensor_csv)\n",
    "csv['task_1'] = prediction[:,0]\n",
    "csv['task_2'] = prediction[:,2]\n",
    "csv"
   ]
  },
  {
   "cell_type": "markdown",
   "metadata": {},
   "source": [
    "# RUNNING GET_RESULTS.PY"
   ]
  },
  {
   "cell_type": "code",
   "execution_count": 35,
   "metadata": {},
   "outputs": [
    {
     "data": {
      "image/png": "[encoded data removed]",
      "text/plain": [
       "<Figure size 432x288 with 1 Axes>"
      ]
     },
     "metadata": {
      "needs_background": "light"
     },
     "output_type": "display_data"
    },
    {
     "data": {
      "image/png": "[encoded data removed]",
      "text/plain": [
       "<Figure size 432x288 with 1 Axes>"
      ]
     },
     "metadata": {
      "needs_background": "light"
     },
     "output_type": "display_data"
    },
    {
     "name": "stdout",
     "output_type": "stream",
     "text": [
      "My score Was: Category 1 Score: 0.526 / Category 2 Score: 0.606 / Category 3 Score: 0.566 \n"
     ]
    }
   ],
   "source": [
    "import cv2\n",
    "import matplotlib.pyplot as plt                        \n",
    "%matplotlib inline\n",
    "\n",
    "\n",
    "img1 = cv2.imread('figure_1.png')\n",
    "img2 = cv2.imread('figure_2.png')\n",
    "plt.imshow(img1)\n",
    "plt.show()\n",
    "plt.imshow(img2)\n",
    "plt.show()\n",
    "print(\"My score Was: Category 1 Score: 0.526 / Category 2 Score: 0.606 / Category 3 Score: 0.566 \")\n"
   ]
  },
  {
   "cell_type": "code",
   "execution_count": null,
   "metadata": {},
   "outputs": [],
   "source": []
  }
 ],
 "metadata": {
  "kernelspec": {
   "display_name": "Python 3",
   "language": "python",
   "name": "python3"
  },
  "language_info": {
   "codemirror_mode": {
    "name": "ipython",
    "version": 3
   },
   "file_extension": ".py",
   "mimetype": "text/x-python",
   "name": "python",
   "nbconvert_exporter": "python",
   "pygments_lexer": "ipython3",
   "version": "3.6.8"
  }
 },
 "nbformat": 4,
 "nbformat_minor": 2
}
